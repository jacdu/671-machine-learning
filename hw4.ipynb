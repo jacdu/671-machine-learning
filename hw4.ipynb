{
 "cells": [
  {
   "cell_type": "code",
   "execution_count": 3,
   "id": "2a0d8677-3077-4892-82fe-b8ce9d605dcb",
   "metadata": {},
   "outputs": [],
   "source": [
    "# import packages\n",
    "import pandas as pd\n",
    "import numpy as np\n",
    "import matplotlib.pyplot as plt\n",
    "from sklearn.cluster import KMeans"
   ]
  },
  {
   "cell_type": "markdown",
   "id": "9baab7a0-6fd3-4137-8043-c768f6825dd6",
   "metadata": {},
   "source": [
    "### Exercise 1"
   ]
  },
  {
   "cell_type": "markdown",
   "id": "825bb537-1057-48ac-b373-f014690fbff6",
   "metadata": {},
   "source": [
    "The VC dimension is $l$. \n",
    "\n",
    "In a worst case scenario, every leaf can be used to predict one unique point since each leaf can accomodate whichever of the two labels for each point. When there are $l+1$ points, in the worst case scenario there will need to be one leaf that predicts two points. Since it needs to shatter every combination, when those two points belong to different classes, the decision tree will fail to shatter $l+1$ points. "
   ]
  },
  {
   "cell_type": "markdown",
   "id": "1dfc07a8-20ec-495e-a99a-e723acf747ca",
   "metadata": {},
   "source": [
    "### Exercise 2"
   ]
  },
  {
   "cell_type": "markdown",
   "id": "95f8e00f-0614-400a-9678-5e44155e494a",
   "metadata": {},
   "source": [
    "#### Part 1"
   ]
  },
  {
   "cell_type": "markdown",
   "id": "1fe45b5b-b9ff-44ac-90b2-4943a0a1aa2b",
   "metadata": {},
   "source": [
    "Our likelihood is:\n",
    "$$ L(\\alpha, \\beta) = \\prod_i^M P(d_i | \\alpha, \\beta) $$"
   ]
  },
  {
   "cell_type": "markdown",
   "id": "4838e515-9390-42f5-b024-5e1dc39ab62b",
   "metadata": {},
   "source": [
    "$$ = \\prod_i^M \\prod_n^N p_{ni}^{q(w_n, d_i)} $$"
   ]
  },
  {
   "cell_type": "markdown",
   "id": "08fa1d90-cb4c-47b6-a942-11f198d5c6a2",
   "metadata": {},
   "source": [
    "$$ L(\\alpha, \\beta) = \\prod_i^M \\prod_n^N (\\sum_k^K \\beta_{kn} \\alpha_{ik} ) ^ {q(w_n, d_i)} $$"
   ]
  },
  {
   "cell_type": "markdown",
   "id": "b30317b9-c71c-4a0b-9118-e2655d7a0d0a",
   "metadata": {},
   "source": [
    "The log likelihood is:\n",
    "$$ l(\\alpha, \\beta) = log(L(\\alpha, \\beta) $$\n",
    "$$ = log [\\prod_i^M \\prod_n^N (\\sum_k^K \\beta_{kn} \\alpha_{ik} ) ^ {q(w_n, d_i)}] $$"
   ]
  },
  {
   "cell_type": "markdown",
   "id": "a22b3996-2a60-4042-aab7-7417df87c8d5",
   "metadata": {},
   "source": [
    "Since the log of products is equivalent to the sum of logs:\n",
    "$$ l(\\alpha, \\beta) = \\sum_i^M \\sum_n^N  q(w_n, d_i) \\cdot log(\\sum_k^K \\beta_{kn} \\alpha_{ik} ) $$"
   ]
  },
  {
   "cell_type": "markdown",
   "id": "f04f1b5c-6d44-4bc9-af11-5cfa53f08d3b",
   "metadata": {},
   "source": [
    "#### Part 2"
   ]
  },
  {
   "cell_type": "markdown",
   "id": "ef67093d-c8e8-4090-bb9b-dc08778963cb",
   "metadata": {},
   "source": [
    "For simplicity of notation, it is implicitly meant that $\\alpha = \\alpha^{old}$ and $\\beta = \\beta^{old}$ for this part only\n",
    "\n",
    "By Bayes' Rule:\n",
    "$$ P(z_k | d_i, w_n, \\alpha, \\beta) = \\frac{P(z_k, d_i, w_n | \\alpha, \\beta)}{P(d_i, w_n | \\alpha, \\beta)} $$"
   ]
  },
  {
   "cell_type": "markdown",
   "id": "08337b79-5ae0-402f-944a-8f32ecbd9ee8",
   "metadata": {},
   "source": [
    "Based on law of total probability:\n",
    "\n",
    "$$ = \\frac{P(d_i, w_n | z_k, \\alpha, \\beta) P(z_k | \\alpha, \\beta)}{P(d_i, w_n |\\alpha, \\beta)}$$"
   ]
  },
  {
   "cell_type": "markdown",
   "id": "de94000e-f231-4e71-a5d4-e42a3b874d40",
   "metadata": {},
   "source": [
    "$$ = \\frac{P(w_n | z_k, d_i, \\alpha, \\beta) P(d_i | z_k, \\alpha, \\beta) P(z_k | \\alpha, \\beta)}{P(d_i, w_n |\\alpha, \\beta)}$$"
   ]
  },
  {
   "cell_type": "markdown",
   "id": "59f3b697-6c74-4800-9349-a17a1a52b67f",
   "metadata": {},
   "source": [
    "$$ = \\frac{P(w_n | z_k, d_i, \\alpha, \\beta) P(z_k | d_i, \\alpha, \\beta) P(d_i | \\alpha, \\beta)}{P(d_i, w_n |\\alpha, \\beta)}$$"
   ]
  },
  {
   "cell_type": "markdown",
   "id": "35510349-636f-42e1-af64-e25c3f502f31",
   "metadata": {},
   "source": [
    "Since we know that $P(w_n | z_k, d_i, \\alpha, \\beta) = \\beta_{kn}$ and  $P(z_k | d_i, \\alpha, \\beta) = \\alpha_{ik}$ "
   ]
  },
  {
   "cell_type": "markdown",
   "id": "39a1cc66-c6b5-4865-882f-7e04a0ed4e24",
   "metadata": {},
   "source": [
    "$$ = \\frac{\\beta_{kn}\\alpha_{ik}P(d_i | \\alpha, \\beta)}{P(d_i, w_n | \\alpha, \\beta)} $$"
   ]
  },
  {
   "cell_type": "markdown",
   "id": "754c0eaa-4d07-4f1b-977e-3d83d3ef764e",
   "metadata": {},
   "source": [
    "$$ = \\frac{\\beta_{kn}\\alpha_{ik}P(d_i | \\alpha, \\beta)}{P(w_n | d_i, \\alpha, \\beta)P(d_i | \\alpha, \\beta)} $$"
   ]
  },
  {
   "cell_type": "markdown",
   "id": "0c5054b3-51df-4f35-8792-b829d5dbce3c",
   "metadata": {},
   "source": [
    "$$ = \\frac{\\beta_{kn}\\alpha_{ik}}{P(w_n | d_i, \\alpha, \\beta)} $$"
   ]
  },
  {
   "cell_type": "markdown",
   "id": "5ccf0cc1-325b-4ca4-b986-da7ae414888d",
   "metadata": {},
   "source": [
    "The probability of word n appears given document i is given as $\\sum_k^K \\beta_{kn}\\alpha_{ik}$"
   ]
  },
  {
   "cell_type": "markdown",
   "id": "be1d6206-a80c-4fe8-841c-dc0af33d16ff",
   "metadata": {},
   "source": [
    "The $k'$ subscript is to differentiate from the $k$ in the numerator:\n",
    "\n",
    "$$ P(z_k | d_i, w_n, \\alpha, \\beta) = \\frac{\\beta_{kn}\\alpha_{ik}}{\\sum_{k'}^K \\beta_{k'n}\\alpha_{ik'}} $$"
   ]
  },
  {
   "cell_type": "markdown",
   "id": "8287dbf4-9846-442f-bf50-2b22fe362427",
   "metadata": {},
   "source": [
    "Rewriting with the expanded notation with the old superscript:\n",
    "$$ \\Rightarrow P(z_k | d_i, w_n, \\alpha^{old}, \\beta^{old}) = \\frac{\\beta_{kn}^{old}\\alpha_{ik}^{old}}{\\sum_{k'}^K \\beta_{k'n}^{old}\\alpha_{ik'}^{old}} $$"
   ]
  },
  {
   "cell_type": "markdown",
   "id": "e561b089-d913-4709-ba04-d16025cfaf72",
   "metadata": {
    "tags": []
   },
   "source": [
    "#### Part 3"
   ]
  },
  {
   "cell_type": "markdown",
   "id": "d95804cc-610f-42c6-8368-994f234604fb",
   "metadata": {},
   "source": [
    "As derived in part 1:\n",
    "$$ l(\\alpha, \\beta) = \\sum_i^M \\sum_n^N  q(w_n, d_i) \\cdot log(\\sum_k^K \\beta_{kn} \\alpha_{ik} ) $$"
   ]
  },
  {
   "cell_type": "markdown",
   "id": "dd2623d6-bf70-4d23-846d-2121af7d60c4",
   "metadata": {},
   "source": [
    "Multiplying and dividing by $\\gamma_{ink}$ within the log term:\n",
    "$$ = \\sum_i^M \\sum_n^N  q(w_n, d_i) \\cdot log(\\sum_k^K\\frac{ \\gamma_{ink}\\beta_{kn} \\alpha_{ik} }{\\gamma_{ink}}) $$"
   ]
  },
  {
   "cell_type": "markdown",
   "id": "418a948d-bf7d-4039-8cba-d68874a4d0f4",
   "metadata": {},
   "source": [
    "Since $\\sum_k^K\\gamma_{ink} = \\mathbb{E_z} $:\n",
    "$$ = \\sum_i^M \\sum_n^N  q(w_n, d_i) \\cdot log( \\mathbb{E_z} \\frac{ \\beta_{kn} \\alpha_{ik} }{\\gamma_{ink}}) $$"
   ]
  },
  {
   "cell_type": "markdown",
   "id": "48a2bd18-37fa-48e4-b8cf-fdbae24a2742",
   "metadata": {},
   "source": [
    "Since $ log(x)$ is a concave function, and by Jensen's inequality which states generally for a concave function, $log(\\mathbb{E}X) \\geq \\mathbb{E}log(X)$:"
   ]
  },
  {
   "cell_type": "markdown",
   "id": "4c81d552-84ff-48fa-8265-4205818aabd0",
   "metadata": {},
   "source": [
    "$$  \\geq \\sum_i^M \\sum_n^N \\sum_k^K  q(w_n, d_i) \\cdot \\gamma_{ink} \\cdot log(\\frac{\\beta_{kn} \\alpha_{ik} }{\\gamma_{ink}}) $$"
   ]
  },
  {
   "cell_type": "markdown",
   "id": "7dac4f20-e7a6-45e5-9508-a4bbd5e31a68",
   "metadata": {},
   "source": [
    "Therefore we have proven the lower bound"
   ]
  },
  {
   "cell_type": "markdown",
   "id": "1966ada3-7aae-40c8-94bd-160cf13bacda",
   "metadata": {
    "tags": []
   },
   "source": [
    "#### Part 4"
   ]
  },
  {
   "cell_type": "markdown",
   "id": "4f80a866-29a7-48c8-a117-96223dfb76e9",
   "metadata": {},
   "source": [
    "First finding $\\alpha_{new}$, setting up the Lagrangian based on the constranit $ \\sum_k^K \\alpha_{ik} = 1$\n",
    "$$ L(\\theta, \\theta_t) = A(\\theta, \\theta_t) + \\lambda (1 -  \\sum_k^K \\alpha_{ik})$$"
   ]
  },
  {
   "cell_type": "markdown",
   "id": "d51618e1-d682-4551-b3fa-b133c2c05b5d",
   "metadata": {},
   "source": [
    "$$ \\frac{\\partial L(\\theta, \\theta_t)}{\\partial \\alpha_{ik}}  = \\frac{\\partial A(\\theta, \\theta_t)}{\\partial \\alpha_{ik}} - \\lambda $$"
   ]
  },
  {
   "cell_type": "markdown",
   "id": "a2313bc3-7303-4de3-80cf-13da2af8953b",
   "metadata": {},
   "source": [
    "$$ = \\frac{\\partial}{\\partial \\alpha_{ik}} [\\sum_n^N  q(w_n, d_i) \\cdot \\gamma_{ink} \\cdot log(\\frac{\\beta_{kn} \\alpha_{ik} }{\\gamma_{ink}})] - \\lambda $$"
   ]
  },
  {
   "cell_type": "markdown",
   "id": "e19b7a56-518e-4317-93c2-73e2b0f4dc61",
   "metadata": {},
   "source": [
    "$$ = \\frac{\\sum_n^N q(w_n, d_i) \\gamma_{ink}}{\\alpha_{ik}} - \\lambda $$"
   ]
  },
  {
   "cell_type": "markdown",
   "id": "ef0e11d6-d86f-417a-bdab-7779b7a84c5c",
   "metadata": {},
   "source": [
    "Setting the partial derivative to $0$ and solving for $\\alpha_{ik}$\n",
    "$$ \\frac{\\sum_n^N q(w_n, d_i) \\gamma_{ink}}{\\alpha_{ik}} - \\lambda = 0 $$"
   ]
  },
  {
   "cell_type": "markdown",
   "id": "49e5dc19-1dcb-4f32-98ef-0da89d072801",
   "metadata": {},
   "source": [
    "$$ \\alpha_{ik}^{new}= \\frac{\\sum_n^N q(w_n, d_i) \\gamma_{ink}}{\\lambda}  $$"
   ]
  },
  {
   "cell_type": "markdown",
   "id": "a0f6c589-ab29-4a3f-94da-ef72e19e55c0",
   "metadata": {},
   "source": [
    "Since we know that $ \\sum_k^K \\alpha_{ik} = 1$, for a given $i$, using the $k'$ subscript to differentiate between $k$ in numerator:\n",
    "$$ \\lambda_i = \\sum_{k'}^K \\sum_n^N q(w_n, d_i) \\gamma_{ink'}$$"
   ]
  },
  {
   "cell_type": "markdown",
   "id": "e3f30c5f-e8db-4b51-9865-85859839949e",
   "metadata": {},
   "source": [
    "Therefore: \n",
    "$$ \\alpha_{ik}^{new}= \\frac{\\sum_n^N q(w_n, d_i) \\gamma_{ink}}{\\sum_{k'}^K \\sum_n^N q(w_n, d_i) \\gamma_{ink'}}  $$"
   ]
  },
  {
   "cell_type": "markdown",
   "id": "9a005eab-c179-4e5e-926f-b364e4d2e1e3",
   "metadata": {},
   "source": [
    "Then finding $\\beta_{new}$, based on the constraint $ \\sum_i^M \\beta_{kn} = 1$\n",
    "$$ L(\\theta, \\theta_t) = A(\\theta, \\theta_t) + \\lambda (1 -  \\sum_i^M \\beta_{kn})$$"
   ]
  },
  {
   "cell_type": "markdown",
   "id": "4b1362cc-0a0e-410a-a21d-b4643b92ffb0",
   "metadata": {},
   "source": [
    "$$ \\frac{\\partial L(\\theta, \\theta_t)}{\\partial \\beta_{kn}}  = \\frac{\\partial A(\\theta, \\theta_t)}{\\partial \\beta_{kn}} - \\lambda $$"
   ]
  },
  {
   "cell_type": "markdown",
   "id": "5b488fac-da60-441a-969d-8caba4e3a1b5",
   "metadata": {},
   "source": [
    "$$ = \\frac{\\partial}{\\partial \\beta_{kn}} [\\sum_i^M  q(w_n, d_i) \\cdot \\gamma_{ink} \\cdot log(\\frac{\\beta_{kn} \\alpha_{ik} }{\\gamma_{ink}})] - \\lambda $$"
   ]
  },
  {
   "cell_type": "markdown",
   "id": "f8ad26bb-89f7-4d86-8af1-83840ec39aa2",
   "metadata": {},
   "source": [
    "$$ = \\frac{\\sum_i^M q(w_n, d_i) \\gamma_{ink}}{\\beta_{kn}} - \\lambda $$"
   ]
  },
  {
   "cell_type": "markdown",
   "id": "50e619e3-2360-47f6-a7d6-ad38cc81382f",
   "metadata": {},
   "source": [
    "Setting the partial derivative to $0$ and solving for $\\beta_{kn}$\n",
    "$$ \\frac{\\sum_i^M q(w_n, d_i) \\gamma_{ink}}{\\beta_{kn}} - \\lambda = 0 $$"
   ]
  },
  {
   "cell_type": "markdown",
   "id": "9c8584ca-9756-4e81-8ec4-56e15bc5f045",
   "metadata": {},
   "source": [
    "$$ \\beta_{kn}^{new}= \\frac{\\sum_i^M q(w_n, d_i) \\gamma_{ink}}{\\lambda}  $$"
   ]
  },
  {
   "cell_type": "markdown",
   "id": "a25a181a-d8e0-4ade-8f65-60030e4abcdd",
   "metadata": {},
   "source": [
    "Since we know that $ \\sum_n^N \\beta_{kn} = 1$, for a given $k$, using the $n'$ subscript to differentiate between $n$ in numerator:\n",
    "$$ \\lambda_k = \\sum_{n'}^N \\sum_i^M q(w_n, d_i) \\gamma_{ink'}$$"
   ]
  },
  {
   "cell_type": "markdown",
   "id": "ebb20493-b9e7-49ab-b4e8-409841772592",
   "metadata": {},
   "source": [
    "Therefore: \n",
    "$$ \\beta_{ik}^{new}= \\frac{\\sum_i^M q(w_n, d_i) \\gamma_{ink}}{\\sum_{n'}^N \\sum_i^M q(w_n, d_i) \\gamma_{ink'}}  $$"
   ]
  },
  {
   "cell_type": "markdown",
   "id": "2a662164-1f8a-4219-b201-56cfe2383ba3",
   "metadata": {},
   "source": [
    "### Exercise 3"
   ]
  },
  {
   "cell_type": "markdown",
   "id": "af744e93-810c-4c67-bc96-f76778612115",
   "metadata": {},
   "source": [
    "#### Part 1"
   ]
  },
  {
   "cell_type": "markdown",
   "id": "5bbd7f9c-f46d-4b74-bf8a-c8f78dff1394",
   "metadata": {},
   "source": [
    "To find $\\frac{\\partial L}{\\partial W_1}$, where $L = - \\sum_i^N y_i log(f(x_i)) + (1-y_i)log(1-f(x_i))$, \n",
    "this is equivalent to the chain rule of:"
   ]
  },
  {
   "cell_type": "markdown",
   "id": "f15b0686-0f2b-43ae-8944-91c5b65bfe52",
   "metadata": {},
   "source": [
    "$$\\frac{\\partial L}{\\partial \\textbf{W}_1} = \\frac{\\partial L}{\\partial \\textbf{h}_3}\\cdot \\frac{\\partial \\textbf{h}_3}{\\partial \\textbf{z}_3} \\cdot\\frac{\\partial \\textbf{z}_3}{\\partial \\textbf{h}_2} \\cdot \\frac{\\partial \\textbf{h}_2}{\\partial \\textbf{z}_2} \\cdot \\frac{\\partial \\textbf{z}_2}{\\partial \\textbf{h}_1} \\cdot \\frac{\\partial \\textbf{h}_1}{\\partial \\textbf{z}_1} \\cdot \\frac{\\partial \\textbf{z}_1}{\\partial \\textbf{W}_1}$$"
   ]
  },
  {
   "cell_type": "markdown",
   "id": "f8c4a073-15fd-47a8-bac4-09af6d06b144",
   "metadata": {},
   "source": [
    "Breaking this apart - since $\\textbf{z}$ is defined as $\\textbf{z}_l = \\textbf{W}_l^T\\textbf{h}_{l-1} + \\textbf{b}_l$:\n",
    "$$ \\frac{\\partial \\textbf{z}_l}{\\partial \\textbf{h}_{l-1}} = \\textbf{W}_l^T $$"
   ]
  },
  {
   "cell_type": "markdown",
   "id": "f06c395b-e3d7-43ea-9fd1-d1cb9981a3e0",
   "metadata": {},
   "source": [
    "Therefore in order to preserve dimensions where $\\textbf{W}^T$ is a matrix and $\\frac{\\partial L}{\\partial \\textbf{z}_{l}}$ is a vector:"
   ]
  },
  {
   "cell_type": "markdown",
   "id": "9ba12f19-bc8c-4496-ae3f-d23f03b469f1",
   "metadata": {},
   "source": [
    "$$ \\frac{\\partial L}{\\partial \\textbf{h}_{l-1}} = \\textbf{W}_l^T  \\frac{\\partial L}{\\partial \\textbf{z}_{l}}$$"
   ]
  },
  {
   "cell_type": "markdown",
   "id": "a49b9f27-6bec-470c-9a53-2d7bc6631f3e",
   "metadata": {},
   "source": [
    "To build upon that, now looking at $\\frac{\\partial L}{\\partial \\textbf{z}_{l-1}}$:"
   ]
  },
  {
   "cell_type": "markdown",
   "id": "50693b71-25a7-4f00-94ee-88d887a246b8",
   "metadata": {},
   "source": [
    "$$ \\frac{\\partial L}{\\partial \\textbf{z}_{l-1}}  = \\frac{\\partial L}{\\partial \\textbf{h}_{l-1}} \\odot \\frac{\\partial \\textbf{h}_{l-1}}{\\partial \\textbf{z}_{l-1}}$$"
   ]
  },
  {
   "cell_type": "markdown",
   "id": "c3da6d00-3f88-449c-a643-82a49a23738e",
   "metadata": {},
   "source": [
    "The $\\odot$ is used here since both terms are vectors, and so it represent elementwise multiplication"
   ]
  },
  {
   "cell_type": "markdown",
   "id": "87cf9ecd-48e4-4331-acc2-9aae87cd8b6c",
   "metadata": {},
   "source": [
    "Based on the property of sigmoid functions, we know that where $\\textbf{h}_l = \\sigma(\\textbf{z}_l)$:\n",
    "$$ \\frac{\\partial \\textbf{h}_l}{\\partial \\textbf{z}_l} = \\textbf{h}_l (1-\\textbf{h}_l) $$"
   ]
  },
  {
   "cell_type": "markdown",
   "id": "2f6d21c9-bcf1-45f8-a4ba-c5ef207be5f4",
   "metadata": {},
   "source": [
    "Therefore: \n",
    "$$ \\frac{\\partial L}{\\partial \\textbf{z}_{l-1}} = \\textbf{W}_l^T  \\frac{\\partial L}{\\partial \\textbf{z}_{l}} \\odot [ \\textbf{h}_{l-1} (1-\\textbf{h}_{l-1})]$$"
   ]
  },
  {
   "cell_type": "markdown",
   "id": "db19b71b-247d-4023-b311-b0a6618c6c1a",
   "metadata": {},
   "source": [
    "Finally:\n",
    "$$\\frac{\\partial \\textbf{z}_1}{\\partial \\textbf{W}_1}  = \\textbf{x}^T$$"
   ]
  },
  {
   "cell_type": "markdown",
   "id": "87a98289-6512-42b4-90ef-aa60f07ae26c",
   "metadata": {},
   "source": [
    "Putting this altogether: \n",
    "$$ \\frac{\\partial L}{\\partial \\textbf{W}_{1}} = \\textbf{x}^T \\cdot \\textbf{W}_2^T  \\cdot \\frac{\\partial L}{\\partial \\textbf{z}_{2}} \\odot [ \\textbf{h}_{1} (1-\\textbf{h}_{1})]$$"
   ]
  },
  {
   "cell_type": "markdown",
   "id": "1ccb0c30-e2e2-49e1-8d59-53db8bc4797e",
   "metadata": {},
   "source": [
    "#### Part 2"
   ]
  },
  {
   "cell_type": "markdown",
   "id": "5c788ab3-99c4-4185-8057-8f4dec7b6494",
   "metadata": {},
   "source": [
    "Given the results from above, the general form can be derived as \n",
    "$$ \\delta^i_l = W^T_{l+1} \\cdot \\delta^i_{l+1}  \\odot \\frac{\\partial h_l}{\\partial z_l}$$"
   ]
  },
  {
   "cell_type": "markdown",
   "id": "1899912b-1232-48d1-ae76-f58a83f5a529",
   "metadata": {},
   "source": [
    "where $\\odot$ represents the elementwise product of vectors"
   ]
  },
  {
   "cell_type": "markdown",
   "id": "d3724147-a91d-4fe5-aff0-7dd37333dd44",
   "metadata": {},
   "source": [
    "### Exercise 4"
   ]
  },
  {
   "cell_type": "markdown",
   "id": "7aed37f0-db6e-4a54-9e24-add42021a404",
   "metadata": {
    "tags": []
   },
   "source": [
    "#### Part 1"
   ]
  },
  {
   "cell_type": "code",
   "execution_count": 4,
   "id": "d52f90aa-132e-4d47-98d4-bf3beada6890",
   "metadata": {},
   "outputs": [],
   "source": [
    "mall_df = pd.read_csv('mall_customers.csv')"
   ]
  },
  {
   "cell_type": "code",
   "execution_count": 5,
   "id": "25650f3c-3679-4c49-8b20-e4da5d1e2067",
   "metadata": {},
   "outputs": [
    {
     "data": {
      "text/plain": [
       "Text(0, 0.5, 'Spending Score')"
      ]
     },
     "execution_count": 5,
     "metadata": {},
     "output_type": "execute_result"
    },
    {
     "data": {
      "image/png": "[encoded data removed]",
      "text/plain": [
       "<Figure size 432x288 with 1 Axes>"
      ]
     },
     "metadata": {
      "needs_background": "light"
     },
     "output_type": "display_data"
    }
   ],
   "source": [
    "plt.scatter(mall_df.Annual_Income, mall_df.Spending_Score)\n",
    "plt.xlabel('Annual Income')\n",
    "plt.ylabel('Spending Score')"
   ]
  },
  {
   "cell_type": "markdown",
   "id": "eeb70e3b-be14-471e-9db7-a52a699a31e1",
   "metadata": {},
   "source": [
    "#### Part 2"
   ]
  },
  {
   "cell_type": "markdown",
   "id": "f5f2e598-6d3f-44b4-9aa2-0dcca40dc369",
   "metadata": {},
   "source": [
    "Based on the plot above, there appears to be $k=5$ clusters. "
   ]
  },
  {
   "cell_type": "code",
   "execution_count": 6,
   "id": "8dd0bcda-3c9b-4627-a24b-72008ef19c8d",
   "metadata": {},
   "outputs": [],
   "source": [
    "def calc_euclid(x, y):\n",
    "    return np.sqrt(np.sum([(a-b)*(a-b) for a, b in zip(x, y)])) "
   ]
  },
  {
   "cell_type": "code",
   "execution_count": 7,
   "id": "c0716e64-1e04-4264-8254-22137c1b2a97",
   "metadata": {},
   "outputs": [],
   "source": [
    "def k_means(k, df):\n",
    "    assign_new_all  = []\n",
    "    centers_all = []\n",
    "    sum_ds = []\n",
    "    \n",
    "    for t in range(100):\n",
    "        # randomly pick k points from df to intialize centers\n",
    "        centers = df.sample(n= k, replace = False)\n",
    "\n",
    "        assign_last = np.ones(len(df))\n",
    "        assign_new = np.zeros(len(df))\n",
    "\n",
    "        # while cluster assignment doesn't change \n",
    "        while((assign_last != assign_new).any()):\n",
    "            assign_last = assign_new\n",
    "\n",
    "            # calculate distance between each point and center \n",
    "            # -> assign to minimum distance \n",
    "            for i in range(len(df)):\n",
    "                distances_i = [calc_euclid(df.iloc[i], centers.iloc[j]) \n",
    "                               for j in range(len(centers))]\n",
    "                assign_new[i] = np.argmin(distances_i)\n",
    "\n",
    "            # recalculate cluster centers \n",
    "            for j in range(len(centers)):\n",
    "                df_k = df.iloc[np.where(assign_new == j)]\n",
    "                # assign mean \n",
    "                centers.iloc[j] = df_k.agg('mean')\n",
    "        \n",
    "        # calculate within cluster sum to centroid \n",
    "        sum_di = 0\n",
    "        for c in range(k):\n",
    "            df_c = df.iloc[np.where(assign_new == c)]\n",
    "            wcsd = [calc_euclid(df_c.iloc[z], centers.iloc[c]) \n",
    "                    for z in range(len(df_c))]\n",
    "            sum_di += np.sum(wcsd)\n",
    "            \n",
    "        \n",
    "        assign_new_all.append(assign_new)\n",
    "        centers_all.append(centers)\n",
    "        sum_ds.append(sum_di)\n",
    "        \n",
    "    \n",
    "    # return corresponding to minimized metric\n",
    "    return [assign_new_all[np.argmin(sum_ds)], \n",
    "            centers_all[np.argmin(sum_ds)], \n",
    "            np.min(sum_ds)]"
   ]
  },
  {
   "cell_type": "code",
   "execution_count": 8,
   "id": "890c6e70-0df8-4ce8-b503-ea9fb04f6623",
   "metadata": {},
   "outputs": [],
   "source": [
    "assignments_t, centers_t, min_sum_ds = k_means(5, mall_df)"
   ]
  },
  {
   "cell_type": "code",
   "execution_count": 9,
   "id": "3e50b418-1417-4ee3-919f-696f685a2dfa",
   "metadata": {},
   "outputs": [
    {
     "data": {
      "text/plain": [
       "array([0., 2., 0., 2., 2., 2., 0., 2., 0., 2., 0., 2., 0., 2., 0., 2., 0.,\n",
       "       2., 0., 2., 0., 2., 0., 2., 0., 2., 0., 2., 0., 2., 0., 2., 0., 2.,\n",
       "       0., 2., 0., 2., 1., 2., 1., 2., 1., 2., 1., 2., 2., 1., 1., 1., 1.,\n",
       "       2., 1., 2., 1., 1., 1., 1., 1., 1., 1., 1., 1., 2., 1., 1., 1., 1.,\n",
       "       1., 1., 1., 1., 1., 1., 1., 1., 1., 1., 1., 1., 1., 1., 1., 1., 1.,\n",
       "       1., 1., 1., 1., 1., 1., 1., 1., 1., 1., 1., 1., 1., 1., 1., 1., 1.,\n",
       "       1., 1., 1., 1., 1., 1., 1., 1., 1., 1., 1., 1., 1., 1., 1., 1., 1.,\n",
       "       1., 1., 1., 1., 3., 1., 3., 1., 3., 4., 3., 4., 3., 1., 3., 4., 3.,\n",
       "       4., 3., 4., 3., 4., 3., 1., 3., 4., 3., 1., 3., 4., 3., 4., 3., 4.,\n",
       "       3., 4., 3., 4., 3., 4., 3., 1., 3., 4., 3., 4., 3., 4., 3., 4., 3.,\n",
       "       4., 3., 4., 3., 4., 3., 4., 3., 4., 3., 4., 3., 4., 3., 4., 3., 4.,\n",
       "       3., 4., 3., 4., 3., 4., 3., 4., 3., 4., 3., 4., 3.])"
      ]
     },
     "execution_count": 9,
     "metadata": {},
     "output_type": "execute_result"
    }
   ],
   "source": [
    "assignments_t"
   ]
  },
  {
   "cell_type": "code",
   "execution_count": 10,
   "id": "8d46a080-e0cd-4ca3-81d4-bc80cc672f40",
   "metadata": {},
   "outputs": [
    {
     "data": {
      "text/html": [
       "<div>\n",
       "<style scoped>\n",
       "    .dataframe tbody tr th:only-of-type {\n",
       "        vertical-align: middle;\n",
       "    }\n",
       "\n",
       "    .dataframe tbody tr th {\n",
       "        vertical-align: top;\n",
       "    }\n",
       "\n",
       "    .dataframe thead th {\n",
       "        text-align: right;\n",
       "    }\n",
       "</style>\n",
       "<table border=\"1\" class=\"dataframe\">\n",
       "  <thead>\n",
       "    <tr style=\"text-align: right;\">\n",
       "      <th></th>\n",
       "      <th>Annual_Income</th>\n",
       "      <th>Spending_Score</th>\n",
       "    </tr>\n",
       "  </thead>\n",
       "  <tbody>\n",
       "    <tr>\n",
       "      <th>8</th>\n",
       "      <td>24.166667</td>\n",
       "      <td>17.555556</td>\n",
       "    </tr>\n",
       "    <tr>\n",
       "      <th>100</th>\n",
       "      <td>55.987952</td>\n",
       "      <td>47.481928</td>\n",
       "    </tr>\n",
       "    <tr>\n",
       "      <th>31</th>\n",
       "      <td>28.357143</td>\n",
       "      <td>74.321429</td>\n",
       "    </tr>\n",
       "    <tr>\n",
       "      <th>123</th>\n",
       "      <td>86.538462</td>\n",
       "      <td>82.128205</td>\n",
       "    </tr>\n",
       "    <tr>\n",
       "      <th>144</th>\n",
       "      <td>89.406250</td>\n",
       "      <td>15.593750</td>\n",
       "    </tr>\n",
       "  </tbody>\n",
       "</table>\n",
       "</div>"
      ],
      "text/plain": [
       "     Annual_Income  Spending_Score\n",
       "8        24.166667       17.555556\n",
       "100      55.987952       47.481928\n",
       "31       28.357143       74.321429\n",
       "123      86.538462       82.128205\n",
       "144      89.406250       15.593750"
      ]
     },
     "execution_count": 10,
     "metadata": {},
     "output_type": "execute_result"
    }
   ],
   "source": [
    "centers_t"
   ]
  },
  {
   "cell_type": "code",
   "execution_count": 212,
   "id": "dc6f4620-2da7-46e8-90d8-d7af044ad202",
   "metadata": {},
   "outputs": [
    {
     "data": {
      "image/png": "[encoded data removed]",
      "text/plain": [
       "<Figure size 432x288 with 1 Axes>"
      ]
     },
     "metadata": {
      "needs_background": "light"
     },
     "output_type": "display_data"
    }
   ],
   "source": [
    "fig, ax = plt.subplots()\n",
    "for a in np.unique(assignments_t):\n",
    "    i = np.where(assignments_t == a)\n",
    "    # add scatter\n",
    "    ax.scatter(mall_df.Annual_Income.iloc[i], \n",
    "               mall_df.Spending_Score.iloc[i], label=a)\n",
    "    # add center \n",
    "    ax.scatter(centers_t.Annual_Income.iloc[int(a)],\n",
    "               centers_t.Spending_Score.iloc[int(a)], \n",
    "               marker = 'x', c = 'black')\n",
    "ax.legend()\n",
    "plt.xlabel('Annual Income')\n",
    "plt.ylabel('Spending Score')\n",
    "plt.show()"
   ]
  },
  {
   "cell_type": "markdown",
   "id": "7adab0e5-e02e-48b3-9f1f-1c75ed8f6be7",
   "metadata": {},
   "source": [
    "These clusters represent the spending habits of people relative to their wealth. We have those that are very stingy in the bottom right where they earn a lot but spend very little. Those in the upward diagonal (bottom left, middle, and top right) spend proportional to how much they make, and the ones on the top left are arguable irresponsibly spending more relative to what they earn. "
   ]
  },
  {
   "cell_type": "markdown",
   "id": "9cd81e7e-84f4-4540-92f4-20c197682bfa",
   "metadata": {},
   "source": [
    "#### Part 3"
   ]
  },
  {
   "cell_type": "code",
   "execution_count": 97,
   "id": "e83398d9-4f3d-4947-bc47-09a1755e5751",
   "metadata": {},
   "outputs": [],
   "source": [
    "kmeans = KMeans(n_clusters=5, random_state=10).fit(mall_df)\n",
    "kmeans_preds =  kmeans.predict(mall_df)\n",
    "kmeans_centers = kmeans.cluster_centers_"
   ]
  },
  {
   "cell_type": "code",
   "execution_count": 102,
   "id": "1aa74db7-8c61-4ed2-ac83-55bd5660b9a3",
   "metadata": {},
   "outputs": [
    {
     "data": {
      "image/png": "[encoded data removed]",
      "text/plain": [
       "<Figure size 432x288 with 1 Axes>"
      ]
     },
     "metadata": {
      "needs_background": "light"
     },
     "output_type": "display_data"
    }
   ],
   "source": [
    "fig, ax = plt.subplots()\n",
    "for a in np.unique(kmeans_preds):\n",
    "    i = np.where(kmeans_preds == a)\n",
    "    # add scatter\n",
    "    ax.scatter(mall_df.Annual_Income.iloc[i], \n",
    "               mall_df.Spending_Score.iloc[i], label=a)\n",
    "    # add center \n",
    "    ax.scatter(kmeans_centers[int(a), 0],\n",
    "               kmeans_centers[int(a), 1], \n",
    "               marker = 'x', c = 'black')\n",
    "ax.legend()\n",
    "plt.xlabel('Annual Income')\n",
    "plt.ylabel('Spending Score')\n",
    "plt.show()"
   ]
  },
  {
   "cell_type": "code",
   "execution_count": 208,
   "id": "728e51b8-46a6-4055-8234-abe114991174",
   "metadata": {},
   "outputs": [],
   "source": [
    "sum_sk_di = 0\n",
    "for c in range(len(kmeans_centers)):\n",
    "    df_c = mall_df.iloc[np.where(kmeans_preds == c)]\n",
    "    wcsd = [calc_euclid(df_c.iloc[z], kmeans_centers[c]) \n",
    "            for z in range(len(df_c))]\n",
    "    sum_sk_di += np.sum(wcsd)"
   ]
  },
  {
   "cell_type": "code",
   "execution_count": 217,
   "id": "39acf000-3983-4f19-8c75-f6756bfc0d97",
   "metadata": {},
   "outputs": [
    {
     "name": "stdout",
     "output_type": "stream",
     "text": [
      "The total sum within cluster distance to centroid for my implementation was 2634.601 and the same for sklearn implementation was 2604.025\n"
     ]
    }
   ],
   "source": [
    "print('The total sum within cluster distance to centroid for my implementation was ' + str(round(min_sum_ds,3)) + ' and the same for sklearn implementation was ' + str(round(sum_sk_di,3)))"
   ]
  },
  {
   "cell_type": "markdown",
   "id": "3db92aeb-11bd-4139-a1e1-9c965f33efcd",
   "metadata": {},
   "source": [
    "Therefore, sklearn minimizes this distance slightly better but the values are very close and based on the graph most of the assignments are the same between the two implementations. "
   ]
  },
  {
   "cell_type": "markdown",
   "id": "73c95639-359d-4817-8345-d4967296aa8b",
   "metadata": {
    "tags": []
   },
   "source": [
    "#### Part 4"
   ]
  },
  {
   "cell_type": "code",
   "execution_count": 11,
   "id": "5e8047fe-352e-4412-be36-cfaec05c31aa",
   "metadata": {},
   "outputs": [],
   "source": [
    "def calc_l1_norm(x, y):\n",
    "    return np.sum([np.absolute((a-b)) for a, b in zip(x, y)])"
   ]
  },
  {
   "cell_type": "code",
   "execution_count": 12,
   "id": "5e0ea1c0-fb18-405d-9843-e81c9e56def2",
   "metadata": {},
   "outputs": [],
   "source": [
    "def k_medians(k, df):\n",
    "    assign_new_all  = []\n",
    "    centers_all = []\n",
    "    sum_ds = []\n",
    "    \n",
    "    for t in range(100):\n",
    "        # randomly pick k points from df to intialize centers\n",
    "        centers = df.sample(n= k, replace = False)\n",
    "\n",
    "        assign_last = np.ones(len(df))\n",
    "        assign_new = np.zeros(len(df))\n",
    "\n",
    "        # while cluster assignment doesn't change \n",
    "        while((assign_last != assign_new).any()):\n",
    "            assign_last = assign_new\n",
    "\n",
    "            # calculate distance between each point and center \n",
    "            #-> assign to minimum distance \n",
    "            for i in range(len(df)):\n",
    "                distances_i = [calc_l1_norm(df.iloc[i], centers.iloc[j]) \n",
    "                               for j in range(len(centers))]\n",
    "                assign_new[i] = np.argmin(distances_i)\n",
    "\n",
    "            # recalculate cluster centers \n",
    "            for j in range(len(centers)):\n",
    "                df_k = mall_df.iloc[np.where(assign_new == j)]\n",
    "                # assign mean \n",
    "                centers.iloc[j] = df_k.agg('median')\n",
    "                \n",
    "                \n",
    "        # calculate within cluster sum to centroid \n",
    "        sum_di = 0\n",
    "        for c in range(k):\n",
    "            df_c = df.iloc[np.where(assign_new == c)]\n",
    "            wcsd = [calc_euclid(df_c.iloc[z], centers.iloc[c]) \n",
    "                    for z in range(len(df_c))]\n",
    "            sum_di += np.sum(wcsd)\n",
    "            \n",
    "        \n",
    "        assign_new_all.append(assign_new)\n",
    "        centers_all.append(centers)\n",
    "        sum_ds.append(sum_di)\n",
    "            \n",
    "                               \n",
    "    # return [assign_new, centers]\n",
    "    return [assign_new_all[np.argmin(sum_ds)], \n",
    "            centers_all[np.argmin(sum_ds)], \n",
    "            np.min(sum_ds)]"
   ]
  },
  {
   "cell_type": "code",
   "execution_count": 13,
   "id": "a91e55f8-9e89-435a-9ab5-8272349e2c02",
   "metadata": {},
   "outputs": [],
   "source": [
    "med_assignments, med_centers, min_sum_ds_med = k_medians(5, mall_df)"
   ]
  },
  {
   "cell_type": "code",
   "execution_count": 14,
   "id": "f8a6a3cc-47eb-40a3-9343-c6a0339a681e",
   "metadata": {},
   "outputs": [
    {
     "data": {
      "text/plain": [
       "array([4., 3., 4., 3., 4., 3., 4., 3., 4., 3., 4., 3., 4., 3., 4., 3., 4.,\n",
       "       3., 4., 3., 4., 3., 4., 3., 4., 3., 4., 1., 4., 3., 4., 3., 4., 3.,\n",
       "       4., 3., 4., 3., 0., 3., 0., 3., 0., 1., 0., 1., 1., 1., 1., 1., 1.,\n",
       "       1., 1., 1., 1., 1., 1., 1., 1., 1., 1., 1., 1., 1., 1., 1., 1., 1.,\n",
       "       1., 1., 1., 1., 1., 1., 1., 1., 1., 1., 1., 1., 1., 1., 1., 1., 1.,\n",
       "       1., 1., 1., 1., 1., 1., 1., 1., 0., 1., 1., 1., 1., 1., 1., 0., 1.,\n",
       "       1., 1., 1., 0., 1., 1., 0., 1., 1., 1., 0., 1., 1., 1., 0., 1., 0.,\n",
       "       1., 1., 0., 1., 2., 0., 2., 0., 2., 0., 2., 0., 2., 0., 1., 0., 2.,\n",
       "       0., 2., 0., 2., 0., 2., 0., 2., 0., 2., 0., 2., 0., 2., 0., 2., 0.,\n",
       "       2., 0., 2., 0., 2., 0., 2., 0., 2., 0., 2., 0., 2., 0., 2., 0., 1.,\n",
       "       0., 2., 0., 2., 0., 2., 0., 2., 0., 2., 0., 2., 0., 2., 0., 2., 0.,\n",
       "       2., 0., 2., 0., 2., 0., 2., 0., 2., 0., 2., 0., 2.])"
      ]
     },
     "execution_count": 14,
     "metadata": {},
     "output_type": "execute_result"
    }
   ],
   "source": [
    "med_assignments"
   ]
  },
  {
   "cell_type": "code",
   "execution_count": 15,
   "id": "d48a7769-1961-4a61-ba5b-d4b0b1a245e1",
   "metadata": {},
   "outputs": [
    {
     "data": {
      "text/html": [
       "<div>\n",
       "<style scoped>\n",
       "    .dataframe tbody tr th:only-of-type {\n",
       "        vertical-align: middle;\n",
       "    }\n",
       "\n",
       "    .dataframe tbody tr th {\n",
       "        vertical-align: top;\n",
       "    }\n",
       "\n",
       "    .dataframe thead th {\n",
       "        text-align: right;\n",
       "    }\n",
       "</style>\n",
       "<table border=\"1\" class=\"dataframe\">\n",
       "  <thead>\n",
       "    <tr style=\"text-align: right;\">\n",
       "      <th></th>\n",
       "      <th>Annual_Income</th>\n",
       "      <th>Spending_Score</th>\n",
       "    </tr>\n",
       "  </thead>\n",
       "  <tbody>\n",
       "    <tr>\n",
       "      <th>124</th>\n",
       "      <td>78.0</td>\n",
       "      <td>22.5</td>\n",
       "    </tr>\n",
       "    <tr>\n",
       "      <th>86</th>\n",
       "      <td>54.0</td>\n",
       "      <td>51.5</td>\n",
       "    </tr>\n",
       "    <tr>\n",
       "      <th>145</th>\n",
       "      <td>79.0</td>\n",
       "      <td>85.0</td>\n",
       "    </tr>\n",
       "    <tr>\n",
       "      <th>33</th>\n",
       "      <td>23.5</td>\n",
       "      <td>78.0</td>\n",
       "    </tr>\n",
       "    <tr>\n",
       "      <th>6</th>\n",
       "      <td>23.0</td>\n",
       "      <td>14.0</td>\n",
       "    </tr>\n",
       "  </tbody>\n",
       "</table>\n",
       "</div>"
      ],
      "text/plain": [
       "     Annual_Income  Spending_Score\n",
       "124           78.0            22.5\n",
       "86            54.0            51.5\n",
       "145           79.0            85.0\n",
       "33            23.5            78.0\n",
       "6             23.0            14.0"
      ]
     },
     "execution_count": 15,
     "metadata": {},
     "output_type": "execute_result"
    }
   ],
   "source": [
    "med_centers"
   ]
  },
  {
   "cell_type": "code",
   "execution_count": 225,
   "id": "0979d89b-c8e3-4841-aac5-c2ce51323ca9",
   "metadata": {},
   "outputs": [
    {
     "data": {
      "image/png": "[encoded data removed]",
      "text/plain": [
       "<Figure size 432x288 with 1 Axes>"
      ]
     },
     "metadata": {
      "needs_background": "light"
     },
     "output_type": "display_data"
    }
   ],
   "source": [
    "fig, ax = plt.subplots()\n",
    "for a in np.unique(med_assignments):\n",
    "    i = np.where(med_assignments == a)\n",
    "    # add scatter\n",
    "    ax.scatter(mall_df.Annual_Income.iloc[i], \n",
    "               mall_df.Spending_Score.iloc[i], label=a)\n",
    "    # add center \n",
    "    ax.scatter(med_centers.Annual_Income.iloc[int(a)], \n",
    "               med_centers.Spending_Score.iloc[int(a)], marker = 'x', c = 'black')\n",
    "ax.legend()\n",
    "plt.xlabel('Annual Income')\n",
    "plt.ylabel('Spending Score')\n",
    "plt.show()"
   ]
  },
  {
   "cell_type": "markdown",
   "id": "2e4ac261-8f8f-42a0-bb92-bd8004d9bf44",
   "metadata": {},
   "source": [
    "**Do you get exactly the same results when using k-means and k-medians?**"
   ]
  },
  {
   "cell_type": "code",
   "execution_count": 16,
   "id": "9d2d7840-7e47-413f-a3de-0fc0a3a75ecb",
   "metadata": {},
   "outputs": [
    {
     "name": "stdout",
     "output_type": "stream",
     "text": [
      "The total sum within cluster distance to centroid for my k-medians implementation was 2862.072\n"
     ]
    }
   ],
   "source": [
    "print('The total sum within cluster distance to centroid for my k-medians implementation was ' + str(round(min_sum_ds_med,3)))"
   ]
  },
  {
   "cell_type": "markdown",
   "id": "ffe5ff95-35c1-4146-a58f-d298f1b95295",
   "metadata": {},
   "source": [
    "I get slightly different results where k-medians does slightly better using my metric.  "
   ]
  },
  {
   "cell_type": "markdown",
   "id": "a4078964-e971-4487-8b44-612879dca0ab",
   "metadata": {},
   "source": [
    "### Exercise 5"
   ]
  },
  {
   "cell_type": "markdown",
   "id": "abbccc93-b64d-4f58-9166-8410f1179cb7",
   "metadata": {
    "tags": []
   },
   "source": [
    "#### Part 1"
   ]
  },
  {
   "cell_type": "code",
   "execution_count": 1,
   "id": "e6d69ce2-6163-42d7-8baa-84a4fdda9b44",
   "metadata": {
    "id": "QgTNTrbqDQTX"
   },
   "outputs": [],
   "source": [
    "import torch\n",
    "import torch.nn as nn\n",
    "import torch.nn.functional as F\n",
    "import torchvision\n",
    "import torchvision.transforms as transforms\n",
    "import torch.optim as optim\n",
    "from torch.utils.data.dataset import random_split\n",
    "from torchvision import datasets\n",
    "from sklearn.metrics import confusion_matrix\n",
    "import PIL"
   ]
  },
  {
   "cell_type": "code",
   "execution_count": 2,
   "id": "8f32b62f-9b49-4b87-b0cd-40a911844244",
   "metadata": {
    "id": "6a29nw3JDYwj"
   },
   "outputs": [],
   "source": [
    "##Do Not Touch This Cell\n",
    "\n",
    "class Net(nn.Module):\n",
    "    def __init__(self):\n",
    "        super(Net, self).__init__()\n",
    "        self.conv1 = nn.Conv2d(3, 8, 5)\n",
    "        self.conv2 = nn.Conv2d(8, 16, 3)\n",
    "        self.bn1 = nn.BatchNorm2d(8)\n",
    "        self.bn2 = nn.BatchNorm2d(16)\n",
    "        self.fc1 = nn.Linear(16*6*6, 120)\n",
    "        self.fc2 = nn.Linear(120, 84)\n",
    "        self.fc3 = nn.Linear(84, 10)\n",
    "\n",
    "    def forward(self, x):\n",
    "        out = F.relu(self.bn1(self.conv1(x)))\n",
    "        out = F.max_pool2d(out, 2)\n",
    "        out = F.relu(self.bn2(self.conv2(out)))\n",
    "        out = F.max_pool2d(out, 2)\n",
    "        out = out.view(out.size(0), -1)\n",
    "        out = F.relu(self.fc1(out))\n",
    "        out = F.relu(self.fc2(out))\n",
    "        out = self.fc3(out)\n",
    "        return out"
   ]
  },
  {
   "cell_type": "code",
   "execution_count": 113,
   "id": "9215e58f-98b6-4fbd-8c38-1d4876c5efdc",
   "metadata": {
    "id": "bYVvBsNKDjdY"
   },
   "outputs": [
    {
     "name": "stdout",
     "output_type": "stream",
     "text": [
      "Train on CPU...\n"
     ]
    }
   ],
   "source": [
    "##Do Not Touch This Cell\n",
    "\n",
    "device = 'cuda' if torch.cuda.is_available() else 'cpu'\n",
    "net = Net().to(device)\n",
    "optimizer = optim.SGD(net.parameters(), lr=0.01, momentum=0.5)\n",
    "if device =='cuda':\n",
    "    print(\"Train on GPU...\")\n",
    "else:\n",
    "    print(\"Train on CPU...\")"
   ]
  },
  {
   "cell_type": "code",
   "execution_count": 114,
   "id": "37a2be16-6b70-4ef5-baf1-965fccc445c7",
   "metadata": {
    "id": "Bu618_bdDyaF"
   },
   "outputs": [
    {
     "data": {
      "text/plain": [
       "<torch._C.Generator at 0x7fb0574465f0>"
      ]
     },
     "execution_count": 114,
     "metadata": {},
     "output_type": "execute_result"
    }
   ],
   "source": [
    "##Do Not Touch This Cell\n",
    "max_epochs = 50\n",
    "\n",
    "random_seed = 671\n",
    "torch.manual_seed(random_seed)"
   ]
  },
  {
   "cell_type": "code",
   "execution_count": 115,
   "id": "56c08c35-1b60-4e3c-a976-6271f19ae7e2",
   "metadata": {
    "id": "lvBlqSLwD1bP"
   },
   "outputs": [
    {
     "name": "stdout",
     "output_type": "stream",
     "text": [
      "Files already downloaded and verified\n",
      "Files already downloaded and verified\n"
     ]
    }
   ],
   "source": [
    "train_transform = transforms.Compose(\n",
    "     [transforms.ToTensor(),\n",
    "     transforms.Normalize((0.4914, 0.4822, 0.4465), (0.2023, 0.1994, 0.2010))])\n",
    "\n",
    "test_transform = transforms.Compose(\n",
    "     [transforms.ToTensor(),\n",
    "     transforms.Normalize((0.4914, 0.4822, 0.4465), (0.2023, 0.1994, 0.2010))])\n",
    "\n",
    "dataset = torchvision.datasets.CIFAR10(root='./data', train=True, download=True, transform=train_transform)\n",
    "##TODO: Split the set into 80% train, 20% validation (there are 50K total images)\n",
    "train_num = int(0.8 * len(dataset))\n",
    "val_num = len(dataset) - train_num\n",
    "train_set, val_set = random_split(dataset, [train_num, val_num])\n",
    "\n",
    "train_loader = torch.utils.data.DataLoader(train_set, batch_size=128, shuffle=True)\n",
    "val_loader = torch.utils.data.DataLoader(val_set, batch_size=128, shuffle=False)\n",
    "\n",
    "test_set = torchvision.datasets.CIFAR10(root='./data', train=False, download=True, transform=test_transform)\n",
    "test_loader = torch.utils.data.DataLoader(test_set, batch_size=1, shuffle=False)\n",
    "\n",
    "classes = ['plane', 'car', 'bird', 'cat', 'deer', 'dog', 'frog', 'horse', 'ship', 'truck']"
   ]
  },
  {
   "cell_type": "code",
   "execution_count": 116,
   "id": "2efe8eb2-7168-422c-ac3e-0af4958ec820",
   "metadata": {
    "id": "3tTdQ-8lFY57"
   },
   "outputs": [
    {
     "name": "stdout",
     "output_type": "stream",
     "text": [
      "[epoch 1] loss: 0.01585 accuracy: 0.2651 val loss: 0.01338 val accuracy: 0.3792\n",
      "[epoch 2] loss: 0.01225 accuracy: 0.4210 val loss: 0.01221 val accuracy: 0.4287\n",
      "[epoch 3] loss: 0.01087 accuracy: 0.4958 val loss: 0.01042 val accuracy: 0.5327\n",
      "[epoch 4] loss: 0.00997 accuracy: 0.5447 val loss: 0.00977 val accuracy: 0.5580\n",
      "[epoch 5] loss: 0.00937 accuracy: 0.5763 val loss: 0.00943 val accuracy: 0.5765\n",
      "[epoch 6] loss: 0.00896 accuracy: 0.5970 val loss: 0.00955 val accuracy: 0.5872\n",
      "[epoch 7] loss: 0.00866 accuracy: 0.6091 val loss: 0.00908 val accuracy: 0.5902\n",
      "[epoch 8] loss: 0.00839 accuracy: 0.6216 val loss: 0.00860 val accuracy: 0.6168\n",
      "[epoch 9] loss: 0.00815 accuracy: 0.6318 val loss: 0.00856 val accuracy: 0.6243\n",
      "[epoch 10] loss: 0.00794 accuracy: 0.6416 val loss: 0.00846 val accuracy: 0.6247\n",
      "[epoch 11] loss: 0.00776 accuracy: 0.6507 val loss: 0.00878 val accuracy: 0.6108\n",
      "[epoch 12] loss: 0.00757 accuracy: 0.6607 val loss: 0.00829 val accuracy: 0.6316\n",
      "[epoch 13] loss: 0.00741 accuracy: 0.6668 val loss: 0.00839 val accuracy: 0.6320\n",
      "[epoch 14] loss: 0.00726 accuracy: 0.6741 val loss: 0.00783 val accuracy: 0.6524\n",
      "[epoch 15] loss: 0.00710 accuracy: 0.6818 val loss: 0.00807 val accuracy: 0.6463\n",
      "[epoch 16] loss: 0.00695 accuracy: 0.6861 val loss: 0.00811 val accuracy: 0.6438\n",
      "[epoch 17] loss: 0.00678 accuracy: 0.6946 val loss: 0.00775 val accuracy: 0.6616\n",
      "[epoch 18] loss: 0.00663 accuracy: 0.7034 val loss: 0.00793 val accuracy: 0.6530\n",
      "[epoch 19] loss: 0.00649 accuracy: 0.7095 val loss: 0.00825 val accuracy: 0.6415\n",
      "[epoch 20] loss: 0.00637 accuracy: 0.7127 val loss: 0.00774 val accuracy: 0.6605\n",
      "[epoch 21] loss: 0.00621 accuracy: 0.7208 val loss: 0.00763 val accuracy: 0.6722\n",
      "[epoch 22] loss: 0.00607 accuracy: 0.7269 val loss: 0.00760 val accuracy: 0.6751\n",
      "[epoch 23] loss: 0.00593 accuracy: 0.7355 val loss: 0.00739 val accuracy: 0.6831\n",
      "[epoch 24] loss: 0.00582 accuracy: 0.7395 val loss: 0.00741 val accuracy: 0.6780\n",
      "[epoch 25] loss: 0.00571 accuracy: 0.7439 val loss: 0.00762 val accuracy: 0.6772\n",
      "[epoch 26] loss: 0.00554 accuracy: 0.7516 val loss: 0.00747 val accuracy: 0.6809\n",
      "[epoch 27] loss: 0.00541 accuracy: 0.7574 val loss: 0.00734 val accuracy: 0.6838\n",
      "[epoch 28] loss: 0.00529 accuracy: 0.7623 val loss: 0.00747 val accuracy: 0.6772\n",
      "[epoch 29] loss: 0.00518 accuracy: 0.7695 val loss: 0.00756 val accuracy: 0.6808\n",
      "[epoch 30] loss: 0.00506 accuracy: 0.7738 val loss: 0.00757 val accuracy: 0.6782\n",
      "[epoch 31] loss: 0.00494 accuracy: 0.7802 val loss: 0.00763 val accuracy: 0.6792\n",
      "[epoch 32] loss: 0.00484 accuracy: 0.7806 val loss: 0.00754 val accuracy: 0.6826\n",
      "[epoch 33] loss: 0.00469 accuracy: 0.7909 val loss: 0.00772 val accuracy: 0.6730\n",
      "[epoch 34] loss: 0.00458 accuracy: 0.7955 val loss: 0.00771 val accuracy: 0.6786\n",
      "[epoch 35] loss: 0.00451 accuracy: 0.7971 val loss: 0.00773 val accuracy: 0.6796\n",
      "[epoch 36] loss: 0.00434 accuracy: 0.8076 val loss: 0.00779 val accuracy: 0.6830\n",
      "[epoch 37] loss: 0.00425 accuracy: 0.8114 val loss: 0.00824 val accuracy: 0.6677\n",
      "[epoch 38] loss: 0.00413 accuracy: 0.8152 val loss: 0.00833 val accuracy: 0.6669\n",
      "[epoch 39] loss: 0.00404 accuracy: 0.8219 val loss: 0.00805 val accuracy: 0.6760\n",
      "[epoch 40] loss: 0.00389 accuracy: 0.8242 val loss: 0.00795 val accuracy: 0.6825\n",
      "[epoch 41] loss: 0.00380 accuracy: 0.8296 val loss: 0.00817 val accuracy: 0.6818\n",
      "[epoch 42] loss: 0.00370 accuracy: 0.8341 val loss: 0.00900 val accuracy: 0.6603\n",
      "[epoch 43] loss: 0.00356 accuracy: 0.8411 val loss: 0.00821 val accuracy: 0.6801\n",
      "[epoch 44] loss: 0.00348 accuracy: 0.8440 val loss: 0.00883 val accuracy: 0.6657\n",
      "[epoch 45] loss: 0.00341 accuracy: 0.8485 val loss: 0.00840 val accuracy: 0.6774\n",
      "[epoch 46] loss: 0.00328 accuracy: 0.8528 val loss: 0.00895 val accuracy: 0.6723\n",
      "[epoch 47] loss: 0.00318 accuracy: 0.8582 val loss: 0.00882 val accuracy: 0.6741\n",
      "[epoch 48] loss: 0.00310 accuracy: 0.8620 val loss: 0.00882 val accuracy: 0.6743\n",
      "[epoch 49] loss: 0.00300 accuracy: 0.8658 val loss: 0.00902 val accuracy: 0.6761\n",
      "[epoch 50] loss: 0.00291 accuracy: 0.8706 val loss: 0.00903 val accuracy: 0.6766\n"
     ]
    }
   ],
   "source": [
    "loss_list, acc_list = [], []\n",
    "loss_list_val, acc_list_val = [], []\n",
    "criterion = nn.CrossEntropyLoss()\n",
    "\n",
    "for epoch in range(max_epochs):\n",
    "    #TODO: set the net to train mode:\n",
    "    net.train()\n",
    "\n",
    "    epoch_loss = 0.0\n",
    "    correct = 0\n",
    "    for batch_idx, (data, labels) in enumerate(train_loader):\n",
    "        data, labels = data.to(device), labels.to(device)\n",
    "\n",
    "        optimizer.zero_grad()\n",
    "        ##TODO: pass the data into the network and store the output\n",
    "        outputs = net(data)\n",
    "\n",
    "        ##TODO: Calculate the cross entropy loss between the output and target \n",
    "        loss_fn = torch.nn.CrossEntropyLoss()\n",
    "        loss = loss_fn(outputs, labels)\n",
    "        \n",
    "        ##TODO: Perform backpropagation\n",
    "        loss.backward()\n",
    "        optimizer.step()\n",
    "    \n",
    "        ##TODO: Get the prediction from the output\n",
    "        predicted = torch.argmax(outputs, 1)\n",
    "\n",
    "        ##TODO: Calculate the correct number and add the number to correct\n",
    "        correct += (predicted == labels).sum().item()\n",
    "\n",
    "        ##TODO: Add the loss to epoch_loss.\n",
    "        epoch_loss += loss.item()\n",
    "\n",
    "    ##TODO: calculate the average loss\n",
    "    avg_loss = epoch_loss / len(train_set)\n",
    "\n",
    "    ##TODO: calculate the average accuracy\n",
    "    avg_acc = correct / len(train_set)\n",
    "\n",
    "    ##TODO: append average epoch loss to loss list\n",
    "    loss_list.append(avg_loss)\n",
    "\n",
    "    ##TODO: append average accuracy to accuracy list\n",
    "    acc_list.append(avg_acc)\n",
    "\n",
    "    # validation\n",
    "    ##TODO: set the model to eval mode\n",
    "    net.eval()\n",
    "\n",
    "    with torch.no_grad():\n",
    "        loss_val = 0.0\n",
    "        correct_val = 0\n",
    "        for batch_idx, (data, labels) in enumerate(val_loader):\n",
    "            data, labels = data.to(device), labels.to(device)\n",
    "            ##TODO: pass the data into the network and store the output\n",
    "            outputs = net(data)\n",
    "\n",
    "            ##TODO: Calculate the cross entropy loss between the output and target \n",
    "            loss_fn = torch.nn.CrossEntropyLoss()\n",
    "            loss = loss_fn(outputs, labels)\n",
    "\n",
    "            ##TODO: Get the prediction from the output\n",
    "            predicted = torch.argmax(outputs, 1)\n",
    "\n",
    "            ##TODO: Calculate the correct number and add the number to correct_val\n",
    "            correct_val += (predicted == labels).sum().item()\n",
    "\n",
    "            ##TODO: Add the loss to loss_val\n",
    "            loss_val += loss.item()\n",
    "\n",
    "        ##TODO: calculate the average loss of validation\n",
    "        avg_loss_val = loss_val / len(val_set)\n",
    "\n",
    "        ##TODO: calculate the average accuracy of validation\n",
    "        avg_acc_val = correct_val / len(val_set)\n",
    "\n",
    "        ##TODO: append average epoch loss to loss list of validation\n",
    "        loss_list_val.append(avg_loss_val)\n",
    "\n",
    "        ##TODO: append average accuracy to accuracy list of validation\n",
    "        acc_list_val.append(avg_acc_val)\n",
    "\n",
    "    print('[epoch %d] loss: %.5f accuracy: %.4f val loss: %.5f val accuracy: %.4f' % (epoch + 1, avg_loss, avg_acc, avg_loss_val, avg_acc_val))"
   ]
  },
  {
   "cell_type": "markdown",
   "id": "af535d6f-9385-48cc-a66e-f2127e71a8db",
   "metadata": {
    "tags": []
   },
   "source": [
    "#### Part 2"
   ]
  },
  {
   "cell_type": "code",
   "execution_count": 117,
   "id": "387c7c75-cbc1-43e6-a8de-d7ac89cb1395",
   "metadata": {
    "id": "9rnxqivjbaZf"
   },
   "outputs": [
    {
     "data": {
      "image/png": "[encoded data removed]",
      "text/plain": [
       "<Figure size 432x288 with 1 Axes>"
      ]
     },
     "metadata": {
      "needs_background": "light"
     },
     "output_type": "display_data"
    }
   ],
   "source": [
    "##TODO: Plot the training losses and validation losses\n",
    "plt.plot(range(max_epochs), loss_list, label ='training_loss')\n",
    "plt.plot(range(max_epochs), loss_list_val, label ='validation_loss')\n",
    "plt.legend()\n",
    "plt.show()"
   ]
  },
  {
   "cell_type": "code",
   "execution_count": 118,
   "id": "f54f91b0-8663-44b2-b86a-c64efafe82a9",
   "metadata": {
    "id": "9NzRkpMQeoVg"
   },
   "outputs": [
    {
     "data": {
      "image/png": "[encoded data removed]",
      "text/plain": [
       "<Figure size 432x288 with 1 Axes>"
      ]
     },
     "metadata": {
      "needs_background": "light"
     },
     "output_type": "display_data"
    }
   ],
   "source": [
    "##TODO: Plot the training accuracies and validation accuracies\n",
    "plt.plot(range(max_epochs), acc_list, label ='training_accuracy')\n",
    "plt.plot(range(max_epochs), acc_list_val, label ='validation_accuracy')\n",
    "plt.legend()\n",
    "plt.show()"
   ]
  },
  {
   "cell_type": "markdown",
   "id": "ebe9c06f-90a7-4ace-9143-6fd30e3950fc",
   "metadata": {},
   "source": [
    "This model does overfit. Around epoch 10 onwards, the training accuracy continues to increase (and vice versa for loss) while the validation accuracy starts to taper off - a sure sign of overfitting. "
   ]
  },
  {
   "cell_type": "markdown",
   "id": "be5c5afc-7f29-4bc7-807f-1ba9e773dfbb",
   "metadata": {},
   "source": [
    "#### Part 3"
   ]
  },
  {
   "cell_type": "code",
   "execution_count": 119,
   "id": "c20fd108-ab09-476e-b326-b9dc46b5f534",
   "metadata": {
    "id": "zoZp-CnkXlHL"
   },
   "outputs": [
    {
     "name": "stdout",
     "output_type": "stream",
     "text": [
      "Accuracy on the 10000 test images: 67.79 %\n"
     ]
    }
   ],
   "source": [
    "#Test\n",
    "true_labels = []\n",
    "predictions = []\n",
    "correct_test = 0\n",
    "net.eval()\n",
    "with torch.no_grad():\n",
    "    for batch_idx, (data, label) in enumerate(test_loader):\n",
    "        data, label = data.to(device), label.to(device)\n",
    "        ##TODO: pass the data into the network and store the output\n",
    "        outputs = net(data)\n",
    "\n",
    "        ##TODO: Get the prediction from the output\n",
    "        predicted = torch.argmax(outputs, 1)\n",
    "        \n",
    "        ##TODO: Calculate the correct number and add the number to correct_test\n",
    "        correct_test += (predicted == label).sum().item()\n",
    "\n",
    "        ##TODO: update predictions list and true label list\n",
    "        predictions.append(predicted)\n",
    "        true_labels.append(label)\n",
    "        ##We can directly append the value because here batch_size=1\n",
    "\n",
    "\n",
    "print('Accuracy on the 10000 test images: %.2f %%' % (100 * correct_test / len(test_set)))"
   ]
  },
  {
   "cell_type": "code",
   "execution_count": 127,
   "id": "578e6619-21de-4c31-97ce-5e53bc54c649",
   "metadata": {},
   "outputs": [],
   "source": [
    "test = [x.numpy() for x in predictions]\n",
    "test2 = [x.numpy() for x in true_labels]"
   ]
  },
  {
   "cell_type": "code",
   "execution_count": 128,
   "id": "5a11d8f8-b49b-497f-af7f-3353cbf793e0",
   "metadata": {
    "id": "UIG4QdQZmxCm"
   },
   "outputs": [
    {
     "data": {
      "text/plain": [
       "array([[761,  27,  62,  34,  28,  16,  17,  22, 115,  53],\n",
       "       [ 32, 836,  12,  22,   4,  12,  12,   8,  65, 107],\n",
       "       [ 55,   8, 579,  90,  64,  56,  54,  26,  22,  12],\n",
       "       [ 12,  14,  56, 437,  48, 169,  66,  26,  14,   9],\n",
       "       [ 49,   5, 107,  77, 668,  69,  61,  61,  11,  10],\n",
       "       [  5,   4,  60, 168,  30, 534,  36,  58,   4,   5],\n",
       "       [  9,   5,  39,  64,  40,  30, 728,   7,   3,  11],\n",
       "       [ 24,   6,  66,  83, 106, 106,  20, 780,  12,  41],\n",
       "       [ 36,  19,  13,   9,   8,   6,   1,   0, 724,  20],\n",
       "       [ 17,  76,   6,  16,   4,   2,   5,  12,  30, 732]])"
      ]
     },
     "execution_count": 128,
     "metadata": {},
     "output_type": "execute_result"
    }
   ],
   "source": [
    "##TODO: print the confusion matrix of test set\n",
    "##You can use sklearn.metrics.confusion_matrix\n",
    "confusion_matrix(test, test2)"
   ]
  },
  {
   "cell_type": "markdown",
   "id": "fce2e9ba-bf7a-472c-8914-e9a11a5ca777",
   "metadata": {},
   "source": [
    "Class 3 has the least amount of correctly classified with only 437. This intuitively makes sense because the digit 3 has components (the rounded curves) that resemble other digits (in this case, it appears to be mixing up for 5 the most which makes sense because these two digits on their lower half are the exact same). "
   ]
  }
 ],
 "metadata": {
  "kernelspec": {
   "display_name": "Python 3 (ipykernel)",
   "language": "python",
   "name": "python3"
  },
  "language_info": {
   "codemirror_mode": {
    "name": "ipython",
    "version": 3
   },
   "file_extension": ".py",
   "mimetype": "text/x-python",
   "name": "python",
   "nbconvert_exporter": "python",
   "pygments_lexer": "ipython3",
   "version": "3.9.7"
  }
 },
 "nbformat": 4,
 "nbformat_minor": 5
}
