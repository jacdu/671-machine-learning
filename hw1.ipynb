{
 "cells": [
  {
   "cell_type": "code",
   "execution_count": 1,
   "id": "cff2e3d7-5b2f-4854-a769-4942bb206d70",
   "metadata": {},
   "outputs": [],
   "source": [
    "import numpy as np\n",
    "import math\n",
    "import pandas as pd\n",
    "import matplotlib.pyplot as plt\n",
    "from sklearn import tree\n",
    "from sklearn.model_selection import KFold\n",
    "from gosdt.model.gosdt import GOSDT\n",
    "from gosdt.model.threshold_guess import compute_thresholds, cut "
   ]
  },
  {
   "cell_type": "markdown",
   "id": "5f32a465",
   "metadata": {},
   "source": [
    "Agreement 1) This assignment represents my own work. I did not work on this assignment with others. All coding was done by myself.\n",
    "\n",
    "Agreement 2) I understand that if I struggle with this assignment that I will reevaluate whether this is the correct class for me to take. I understand that the homework only gets harder."
   ]
  },
  {
   "cell_type": "markdown",
   "id": "d99289dc-cc15-4a36-83cc-72e539e9fd31",
   "metadata": {},
   "source": [
    "### Exercise 1"
   ]
  },
  {
   "cell_type": "markdown",
   "id": "048278fb-0772-4e13-a031-6b5ea697bfe1",
   "metadata": {},
   "source": [
    "1. ranking \n",
    "2. classification - based on image, classify type of galaxy\n",
    "3. regression - based on characteristics, predict salary \n",
    "4. regression - based on historical data, predict lbs of veggies \n",
    "5. pattern mining - find patterns between clothing product sales to understand trends\n",
    "6. density estimation - to get distribution of data \n",
    "7. conditional probability estimation - use features of customers to estimate probability of sale \n",
    "8. conditional probability estimation - use features to estimate probabiltiy of default \n",
    "9. conditional probability estimation - use MRI scans to estimate probability of tumor \n",
    "10. clustering - calc distance based on genetic data to cluster species together "
   ]
  },
  {
   "cell_type": "markdown",
   "id": "36dcf52e-5927-48a2-9097-4f7e9695b859",
   "metadata": {
    "tags": []
   },
   "source": [
    "### Exercise 2"
   ]
  },
  {
   "cell_type": "markdown",
   "id": "b4bad6d4-81e6-46f1-bfdc-9b4cb31c1447",
   "metadata": {},
   "source": [
    "#### Part 1"
   ]
  },
  {
   "cell_type": "markdown",
   "id": "4990cbed-7006-4735-9560-54576a63611a",
   "metadata": {},
   "source": [
    "$$ KL(P,Q) = \\sum_{a \\in \\mathcal{O}} P(a) log(\\frac{P(a)}{Q(a)}) $$\n",
    "$$ = \\sum_{a \\in \\mathcal{O}} P(a) \\cdot -log(\\frac{Q(a)}{P(a)}) $$\n",
    "When $f(a) = -log(\\frac{Q(a)}{P(a)}) $ and $ E(f(a)) = \\sum_a P(a)f(a) $:\n",
    "$$ = E[-log(\\frac{Q(a)}{P(a)})]  $$"
   ]
  },
  {
   "cell_type": "markdown",
   "id": "ed60f057-b658-46f4-99b6-869ecb62d51a",
   "metadata": {},
   "source": [
    "Given $-log$ is a convex function, by Jensen's inequality:\n",
    "$$ = E[-log(\\frac{Q}{P(a)})]  \\geq -logE[(\\frac{Q}{P(a)})] $$\n",
    "$$ \\geq -log(\\sum_a P(a) \\cdot \\frac{Q(a)}{P(a)})  $$\n",
    "$$ \\geq -log(1)  $$\n",
    "$$ \\geq 0 $$ "
   ]
  },
  {
   "cell_type": "markdown",
   "id": "77061222-ad36-45c7-a88a-3823fe587974",
   "metadata": {},
   "source": [
    "Therefore:\n",
    "$$ KL(P,Q) = \\sum_{a \\in \\mathcal{O}} P(a) log(\\frac{P(a)}{Q(a)}) \\geq 0 $$"
   ]
  },
  {
   "cell_type": "markdown",
   "id": "a3941c06-ea0f-418c-ad81-632c2a4b9f13",
   "metadata": {},
   "source": [
    "#### Part 2"
   ]
  },
  {
   "cell_type": "markdown",
   "id": "f4541ae1-c7c8-41f6-b530-cae230c66608",
   "metadata": {},
   "source": [
    "$$ KL(P,Q) = \\sum_{a \\in \\mathcal{O}} P(a) log(\\frac{P(a)}{Q(a)}) $$"
   ]
  },
  {
   "cell_type": "markdown",
   "id": "b110974d-b06e-4200-9d96-3db01755f3ef",
   "metadata": {},
   "source": [
    "If P & Q are from the same distribution, then $ P(a) = Q(a) $\n",
    "$$ = \\sum_{a \\in \\mathcal{O}} p(a)log(1) = \\sum_{a \\in \\mathcal{O}} p(a)\\cdot 0 = 0 $$"
   ]
  },
  {
   "cell_type": "markdown",
   "id": "23c2fe1d-0087-461e-b8b6-fc1f8f274457",
   "metadata": {
    "tags": []
   },
   "source": [
    "#### Part 3"
   ]
  },
  {
   "cell_type": "markdown",
   "id": "dddba5d0-a501-4dd9-8be5-c7aef4b8180a",
   "metadata": {},
   "source": [
    "Using $ P \\sim Bern(0.2)$ and $Q \\sim Bern(0.5)$:"
   ]
  },
  {
   "cell_type": "markdown",
   "id": "29ac78a5-a45e-4be5-9884-50afcd2ed66c",
   "metadata": {},
   "source": [
    "$$KL(P,Q) = \\sum_{a \\in [0,1]} P(a) log(\\frac{P(a)}{Q(a)}) $$\n",
    "$$ = P(0)\\cdot log(\\frac{P(0)}{Q(0)}) + P(1) \\cdot log(\\frac{P(1)}{Q(1)}) $$\n",
    "$$ = 0.8 \\cdot log(\\frac{0.8}{0.5}) + 0.2 \\cdot log(\\frac{0.2}{0.5}) $$\n",
    "$$KL(P,Q) \\approx 0.1927 $$"
   ]
  },
  {
   "cell_type": "markdown",
   "id": "673370d1-042e-4c3a-8e54-89bc0c65a686",
   "metadata": {
    "tags": []
   },
   "source": [
    "$$KL(Q,P) = \\sum_{a \\in [0,1]} Q(a) log(\\frac{Q(a)}{P(a)}) $$\n",
    "$$ = Q(0)\\cdot log(\\frac{Q(0)}{P(0)}) + Q(1) \\cdot log(\\frac{Q(1)}{P(1)}) $$\n",
    "$$ = 0.5 \\cdot log(\\frac{0.5}{0.8}) + 0.5 \\cdot log(\\frac{0.5}{0.2})$$\n",
    "$$KL(Q,P) \\approx 0.2231 $$"
   ]
  },
  {
   "cell_type": "markdown",
   "id": "f18a54f0-f056-4cbd-ab3c-298183343e50",
   "metadata": {},
   "source": [
    "We can see from the above values that empirically $ KL(P,Q) \\neq KL(Q,P)$"
   ]
  },
  {
   "cell_type": "markdown",
   "id": "b4b3d49d-6baf-47d9-a20c-ab4ec4a366f1",
   "metadata": {},
   "source": [
    "#### Part 4"
   ]
  },
  {
   "cell_type": "markdown",
   "id": "2b9c798a-92c9-4b29-b537-645df2f182fc",
   "metadata": {},
   "source": [
    "$$ H(X) - H(X \\mid Y) $$\n",
    "Rewriting using the expressions from instructions:\n",
    "$$ = \\sum_{i=1}^n -P(x_i)logP(x_i)- \\sum_{i=1}^n\\sum_{j=1}^m -P(x_i, y_j)log(\\frac{P(x_i, y_j)}{P(y_j)}$$\n",
    "$$ = - \\sum_{i=1}^n P(x_i)logP(x_i) + \\sum_{i=1}^n\\sum_{j=1}^m P(x_i, y_j)[logP(x_i, y_j) - logP(y_j)]$$\n",
    "$$ = - \\sum_{i=1}^n P(x_i)logP(x_i) + \\sum_{i=1}^n\\sum_{j=1}^m P(x_i, y_j)logP(x_i, y_j) - \\sum_{i=1}^n\\sum_{j=1}^m P(x_i, y_j)logP(y_j)$$"
   ]
  },
  {
   "cell_type": "markdown",
   "id": "a8043783-75be-4238-9c35-47e10b6693a8",
   "metadata": {},
   "source": [
    "Given $ P(x_i) = \\sum_{j=1}^m P(x_i, y_j)$ by definition of marginal probability:\n",
    "$$ = - \\sum_{i=1}^n\\sum_{j=1}^m P(x_i, y_j)logP(x_i)+ \\sum_{i=1}^n\\sum_{j=1}^m P(x_i, y_j)logP(x_i, y_j) - \\sum_{i=1}^n\\sum_{j=1}^m P(x_i, y_j)logP(y_j)$$"
   ]
  },
  {
   "cell_type": "markdown",
   "id": "9479b716",
   "metadata": {},
   "source": [
    "$$ = - \\sum_{i=1}^n\\sum_{j=1}^m P(x_i, y_j) [ logP(x_i) + logP(y_j) - log P(x_i, y_j)] $$\n",
    "$$ = - \\sum_{i=1}^n\\sum_{j=1}^m P(x_i, y_j) log(\\frac{P(x_i)P(y_j)}{P(x_i, y_j)})$$\n",
    "$$ = \\sum_{i=1}^n\\sum_{j=1}^m P(x_i, y_j) log(\\frac{P(x_i, y_j)}{P(x_i)P(y_j)})$$\n",
    "This is in the form of KL divergence for $KL((X,Y), XY) = KL(J, PQ) $"
   ]
  },
  {
   "cell_type": "markdown",
   "id": "9e6dacc7-8dd5-44c8-99f0-2c6934037589",
   "metadata": {},
   "source": [
    "#### Part 5"
   ]
  },
  {
   "cell_type": "markdown",
   "id": "ee9c51cb-11f2-4b67-9b3f-68494924ee50",
   "metadata": {},
   "source": [
    "$$ H(Y) - H(Y \\mid X) $$\n",
    "Rewriting using the expressions from instructions:\n",
    "$$ = \\sum_{j=1}^m -P(y_j)logP(y_j)- \\sum_{i=1}^n\\sum_{j=1}^m -P(x_i, y_j)log(\\frac{P(x_i, y_j)}{P(x_i)}$$\n",
    "$$ = - \\sum_{j=1}^m P(y_j)logP(y_j) + \\sum_{i=1}^n\\sum_{j=1}^m P(x_i, y_j)logP(x_i, y_j) - \\sum_{i=1}^n\\sum_{j=1}^m P(x_i, y_j)logP(x_i)$$"
   ]
  },
  {
   "cell_type": "markdown",
   "id": "ac3a7190-e5ec-431a-a849-cd10e96d6c40",
   "metadata": {},
   "source": [
    "Given $ P(y_j) = \\sum_{i=1}^n P(x_i, y_j)$:\n",
    "$$ = - \\sum_{i=1}^n\\sum_{j=1}^m P(x_i, y_j)logP(y_j)+ \\sum_{i=1}^n\\sum_{j=1}^m P(x_i, y_j)logP(x_i, y_j) - \\sum_{i=1}^n\\sum_{j=1}^m P(x_i, y_j)logP(y_j)$$"
   ]
  },
  {
   "cell_type": "markdown",
   "id": "da038d30",
   "metadata": {},
   "source": [
    "$$ = \\sum_{i=1}^n\\sum_{j=1}^m P(x_i, y_j) [ -logP(y_j) + log P(x_i, y_j) - logP(x_i)] $$\n",
    "$$ = \\sum_{i=1}^n\\sum_{j=1}^m P(x_i, y_j) log(\\frac{P(x_i, y_j)}{P(x_i)P(y_j)})$$\n",
    "$$ = KL(J, PQ) $$\n",
    "This is as the same form as found in Part 4"
   ]
  },
  {
   "cell_type": "markdown",
   "id": "99f332ec-021d-49f6-8ea9-835bf8b5d5e6",
   "metadata": {},
   "source": [
    "#### Part 6"
   ]
  },
  {
   "cell_type": "markdown",
   "id": "0d133e54-76af-4612-940c-f8f647d81049",
   "metadata": {},
   "source": [
    "Misclassification error decreases when p decreases as it is a min function. Therefore, to show that two functions trend the same way, we need to show that entropy decreases when p decreases too. "
   ]
  },
  {
   "cell_type": "markdown",
   "id": "c6d9c2a0-80b8-4f70-ab9f-718c98df6df4",
   "metadata": {},
   "source": [
    "First, finding the critical points of $H(p)$ by finding the points where $H'(p)=0$"
   ]
  },
  {
   "cell_type": "markdown",
   "id": "7bca216e-e155-4c81-800d-85afc821b693",
   "metadata": {},
   "source": [
    "$$ H'(p) = log(\\frac{1-p}{p}) = 0 $$\n",
    "$$ p = \\frac{1}{2} $$"
   ]
  },
  {
   "cell_type": "markdown",
   "id": "64c08401-93c4-4ddb-aa1e-311258e61238",
   "metadata": {},
   "source": [
    "Since the only critical point for $H(p) = \\frac{1}{2}$, then $H(p)$ is monotonic on $[0, \\frac{1}{2}]$ for $ p < \\frac{1}{2} $"
   ]
  },
  {
   "cell_type": "markdown",
   "id": "f14e92cb-b28c-4385-90c2-34019ab735ba",
   "metadata": {},
   "source": [
    "$$ H'(0.1) = log\\frac{0.9}{0.1} = 2.197 $$\n",
    "$$ H'(0.4) = log\\frac{0.6}{0.4} = 0.405 $$\n",
    "Therfore $H'(p) > 0$ for $[0, 0.5]$ and is a strictly increasing function. This indicates that as p decreases, entropy also decreases. Thus, we have show that a smaller H corresponds to smaller misclassification error when $p< 0.5$"
   ]
  },
  {
   "cell_type": "markdown",
   "id": "b1044599-e013-4990-b2cd-3a90e2d4fc7e",
   "metadata": {
    "tags": []
   },
   "source": [
    "### Exercise 3"
   ]
  },
  {
   "cell_type": "markdown",
   "id": "eb5335bc-1dc1-46b5-a680-1f812c11a498",
   "metadata": {},
   "source": [
    "Initializing functions and given parameters:"
   ]
  },
  {
   "cell_type": "code",
   "execution_count": 2,
   "id": "b3b39311-8452-4765-bb57-debb9a63fd0c",
   "metadata": {},
   "outputs": [],
   "source": [
    "theta = np.array([0.05, -3, 2.1, 0.008])\n",
    "theta_0 = 0.3"
   ]
  },
  {
   "cell_type": "code",
   "execution_count": 3,
   "id": "5e0b7cab-db7f-4172-925f-cad939cb0776",
   "metadata": {},
   "outputs": [],
   "source": [
    "def g(x):\n",
    "    return(np.dot(theta, np.transpose(x)) + theta_0)"
   ]
  },
  {
   "cell_type": "code",
   "execution_count": 4,
   "id": "b9e3ebc3-a99e-4704-9cf1-c4d2c702b548",
   "metadata": {},
   "outputs": [],
   "source": [
    "def tanh(z):\n",
    "    return (np.exp(z) -np.exp(-z)) / (np.exp(z)+ np.exp(-z))"
   ]
  },
  {
   "cell_type": "code",
   "execution_count": 5,
   "id": "5c84dadf-c3ba-4b05-9eba-4f3f072b183f",
   "metadata": {},
   "outputs": [],
   "source": [
    "def f(x):\n",
    "    return tanh(g(x))"
   ]
  },
  {
   "cell_type": "code",
   "execution_count": 6,
   "id": "6c05f449-df7b-43e8-9fb3-0a5fbe9f10c2",
   "metadata": {},
   "outputs": [],
   "source": [
    "X = np.array([[20,1,0,20], [18,1,1,33], \n",
    "              [11,0,1,21], [31,0,0,18], \n",
    "              [19,1,1,7], [21,1,0,10], \n",
    "              [44,1,0,23],[15,1,1,16],\n",
    "              [16,0,1,15], [17,1,0,6]])"
   ]
  },
  {
   "cell_type": "code",
   "execution_count": 7,
   "id": "f9c4b227-9f88-40db-82ba-b55b7996d12f",
   "metadata": {},
   "outputs": [],
   "source": [
    "y = np.array([0, 0,1,1,1,0,1,0,1,0])"
   ]
  },
  {
   "cell_type": "markdown",
   "id": "5ddaa624-0c03-4343-9f19-4b6b6bee88b6",
   "metadata": {},
   "source": [
    "#### Part 1"
   ]
  },
  {
   "cell_type": "code",
   "execution_count": 8,
   "id": "97ebb543-2bf4-4e6c-9504-423ca8ccf77d",
   "metadata": {},
   "outputs": [
    {
     "data": {
      "text/plain": [
       "array([-1.54 ,  0.564,  3.118,  1.994,  0.406, -1.57 , -0.316,  0.278,\n",
       "        3.32 , -1.802])"
      ]
     },
     "execution_count": 8,
     "metadata": {},
     "output_type": "execute_result"
    }
   ],
   "source": [
    "g(X)"
   ]
  },
  {
   "cell_type": "markdown",
   "id": "1120a652-e84f-4a9b-87ba-8595f0cfeccc",
   "metadata": {},
   "source": [
    "Thresholds of -0.316, 0.406, 1.994 would minimize misclassification error at 0.2"
   ]
  },
  {
   "cell_type": "markdown",
   "id": "5ffe5990-d58e-422d-aa94-ba5fe543423d",
   "metadata": {},
   "source": [
    "#### Part 2"
   ]
  },
  {
   "cell_type": "code",
   "execution_count": 9,
   "id": "3e2eb986-745f-430d-abed-94977a031486",
   "metadata": {},
   "outputs": [
    {
     "data": {
      "text/plain": [
       "array([-0.91212037,  0.51093923,  0.99609231,  0.96360121,  0.38507106,\n",
       "       -0.91702576, -0.30588564,  0.27105303,  0.99738936, -0.94701274])"
      ]
     },
     "execution_count": 9,
     "metadata": {},
     "output_type": "execute_result"
    }
   ],
   "source": [
    "f_scores = f(X)\n",
    "f_scores"
   ]
  },
  {
   "cell_type": "markdown",
   "id": "99ce91d4-60ee-44c9-901d-708ce5589a58",
   "metadata": {},
   "source": [
    "Thresholds of -0.30588564, 0.38507106, 0.96360121 would minimize misclassification error at 0.2"
   ]
  },
  {
   "cell_type": "markdown",
   "id": "a72c127f-4dd5-4d4c-bed6-4669eb8323e1",
   "metadata": {},
   "source": [
    "Calculating predictions using threshold of 0.9636:"
   ]
  },
  {
   "cell_type": "code",
   "execution_count": 10,
   "id": "309560c3-e418-44f1-a1c7-24e348719042",
   "metadata": {},
   "outputs": [
    {
     "data": {
      "text/plain": [
       "array([0, 0, 1, 1, 0, 0, 0, 0, 1, 0])"
      ]
     },
     "execution_count": 10,
     "metadata": {},
     "output_type": "execute_result"
    }
   ],
   "source": [
    "y_pred = (f_scores >= f_scores[3]).astype('int')\n",
    "y_pred"
   ]
  },
  {
   "cell_type": "markdown",
   "id": "154f0a3c-6880-4345-bc31-bbd9e45c2375",
   "metadata": {},
   "source": [
    "Functions to calculate metrics:"
   ]
  },
  {
   "cell_type": "code",
   "execution_count": 11,
   "id": "4639ab9d-1cc9-4316-9e59-dd03196a1636",
   "metadata": {},
   "outputs": [],
   "source": [
    "def calc_conf_mat(y, y_p):\n",
    "    '''returns matrix where when i=j=0 is \n",
    "    true positive and i=j=1 is true negative'''\n",
    "    \n",
    "    tp = (y_p[np.where(y== 1)] == 1).sum()\n",
    "    tn = (y_p[np.where(y== 0)] == 0).sum()\n",
    "    fp = (y_p[np.where(y== 0)] == 1).sum()\n",
    "    fn = (y_p[np.where(y== 1)] == 0).sum()\n",
    "    \n",
    "    return np.array([[tp, fp], [fn, tn]])"
   ]
  },
  {
   "cell_type": "code",
   "execution_count": 12,
   "id": "acbeb52c-941f-46b6-a639-76ebd6e7ec9b",
   "metadata": {},
   "outputs": [],
   "source": [
    "def calc_precision(y, y_p):\n",
    "    tp = (y_p[np.where(y== 1)] == 1).sum()\n",
    "    num_pred_pos = (y_p == 1).sum()\n",
    "    \n",
    "    if num_pred_pos == 0:\n",
    "        return 0 \n",
    "    else:\n",
    "        return tp / num_pred_pos"
   ]
  },
  {
   "cell_type": "code",
   "execution_count": 13,
   "id": "5922086f-c64c-4175-b525-ded33442dde0",
   "metadata": {},
   "outputs": [],
   "source": [
    "def calc_recall(y, y_p):\n",
    "    tp = (y_p[np.where(y== 1)] == 1).sum()\n",
    "    num_true_pos = (y == 1).sum()\n",
    "    if num_true_pos == 0:\n",
    "        return 0 \n",
    "    else:\n",
    "        return tp / num_true_pos"
   ]
  },
  {
   "cell_type": "code",
   "execution_count": 14,
   "id": "cd319ea5-cb2b-4133-b9d1-2f5f60e7fc47",
   "metadata": {},
   "outputs": [],
   "source": [
    "def calc_f1(y, y_p):\n",
    "    prec = calc_precision(y, y_p)\n",
    "    rec = calc_recall(y, y_p)\n",
    "    if (prec+rec) == 0:\n",
    "        return 0 \n",
    "    else:\n",
    "        return  2 * (prec * rec) / (prec+rec)\n"
   ]
  },
  {
   "cell_type": "markdown",
   "id": "4c5b2cd1-9e14-4e07-9d57-076f759cb20b",
   "metadata": {},
   "source": [
    "Computing metrics:"
   ]
  },
  {
   "cell_type": "code",
   "execution_count": 15,
   "id": "83dcfaf5-57db-40bc-a0b1-2ee3c3ddf1ff",
   "metadata": {},
   "outputs": [
    {
     "data": {
      "text/plain": [
       "array([[3, 0],\n",
       "       [2, 5]])"
      ]
     },
     "execution_count": 15,
     "metadata": {},
     "output_type": "execute_result"
    }
   ],
   "source": [
    "# compute confusion matrix \n",
    "calc_conf_mat(y, y_pred)"
   ]
  },
  {
   "cell_type": "code",
   "execution_count": 16,
   "id": "f4e3882b-3e79-46b8-9a02-4bd2f70c93fe",
   "metadata": {},
   "outputs": [
    {
     "data": {
      "text/plain": [
       "1.0"
      ]
     },
     "execution_count": 16,
     "metadata": {},
     "output_type": "execute_result"
    }
   ],
   "source": [
    "# compute precision \n",
    "calc_precision(y, y_pred)"
   ]
  },
  {
   "cell_type": "code",
   "execution_count": 17,
   "id": "66a199aa-df85-4b11-b25d-4ed2ec0272e8",
   "metadata": {},
   "outputs": [
    {
     "data": {
      "text/plain": [
       "0.6"
      ]
     },
     "execution_count": 17,
     "metadata": {},
     "output_type": "execute_result"
    }
   ],
   "source": [
    "# compute recall \n",
    "calc_recall(y, y_pred)"
   ]
  },
  {
   "cell_type": "code",
   "execution_count": 18,
   "id": "170de653-5cd3-4269-aba7-a0215f86d9f3",
   "metadata": {},
   "outputs": [
    {
     "data": {
      "text/plain": [
       "0.7499999999999999"
      ]
     },
     "execution_count": 18,
     "metadata": {},
     "output_type": "execute_result"
    }
   ],
   "source": [
    "# compute F1 \n",
    "calc_f1(y, y_pred)"
   ]
  },
  {
   "cell_type": "markdown",
   "id": "d243d83f-184c-4c21-90a0-f705e7c7e60b",
   "metadata": {
    "tags": []
   },
   "source": [
    "#### Part 3"
   ]
  },
  {
   "cell_type": "code",
   "execution_count": 19,
   "id": "d7c08a5d-b149-485b-a02f-f332717cd2d3",
   "metadata": {},
   "outputs": [],
   "source": [
    "# get indices of f(x) to sort descending \n",
    "desc_idx = np.argsort(f_scores)[::-1]\n",
    "\n",
    "# initialize\n",
    "tp_arr = np.array([])\n",
    "fp_arr = np.array([])\n",
    "\n",
    "# for each val of asc array, calc tpr, fpr and append \n",
    "for idx in desc_idx:\n",
    "    y_pred_i = (f_scores >= f_scores[idx]).astype('int')\n",
    "    tp = (y_pred_i[np.where(y== 1)] == 1).sum()\n",
    "    fp = (y_pred_i[np.where(y== 0)] == 1).sum()\n",
    "    \n",
    "    tp_arr = np.append(tp_arr, tp/5)\n",
    "    fp_arr = np.append(fp_arr, fp/5)"
   ]
  },
  {
   "cell_type": "code",
   "execution_count": 20,
   "id": "2a9e6955-0f78-4471-9d33-601dafc0f925",
   "metadata": {},
   "outputs": [
    {
     "data": {
      "image/png": "[encoded data removed]",
      "text/plain": [
       "<Figure size 432x288 with 1 Axes>"
      ]
     },
     "metadata": {
      "needs_background": "light"
     },
     "output_type": "display_data"
    }
   ],
   "source": [
    "# plot fp as x, tp as y \n",
    "best_fp = np.array([fp_arr[2], fp_arr[4], fp_arr[6]])\n",
    "best_tp = np.array([tp_arr[2], tp_arr[4], tp_arr[6]])\n",
    "plt.scatter(best_fp, best_tp)\n",
    "plt.plot(fp_arr, tp_arr)\n",
    "plt.xlabel('FPR')\n",
    "plt.ylabel('TPR')\n",
    "plt.show()"
   ]
  },
  {
   "cell_type": "markdown",
   "id": "1b48cd46-771b-43a5-bbb9-73fb695ad202",
   "metadata": {},
   "source": [
    "### Exercise 4"
   ]
  },
  {
   "cell_type": "markdown",
   "id": "6b3970b5-e06a-4ad2-a9b9-606439eed8d2",
   "metadata": {},
   "source": [
    "#### Part 1"
   ]
  },
  {
   "cell_type": "markdown",
   "id": "fda0c7d0-7e11-400f-a256-3c1b7bbf8759",
   "metadata": {},
   "source": [
    "<img src=\"4dt.png\" width=\"250\">"
   ]
  },
  {
   "cell_type": "markdown",
   "id": "dc46581b-68db-4f9a-ad45-cd3d3191b4cc",
   "metadata": {},
   "source": [
    "#### Part 2"
   ]
  },
  {
   "cell_type": "markdown",
   "id": "9ca20009-8ed9-4ff1-b855-0065a4db1be0",
   "metadata": {},
   "source": [
    "Calculating Gini index: $2p(1-p)$ by splitting first on each feature where $p$ is prop of correctly classified in a given branch and weighting by prop of observations for that branch:"
   ]
  },
  {
   "cell_type": "markdown",
   "id": "16d01193-7b08-4748-a40e-abec72410d25",
   "metadata": {},
   "source": [
    "For A: \n",
    "$$ Gini(A) = \\frac{4}{8}\\cdot (2\\cdot1\\cdot0) + \\frac{4}{8} \\cdot(2\\cdot0.75\\cdot0.25) $$\n",
    "$$ Gini(A) = 0.1875$$ "
   ]
  },
  {
   "cell_type": "markdown",
   "id": "c0d02d61-fdb6-40c5-bc44-02a93b01a298",
   "metadata": {},
   "source": [
    "For B: \n",
    "$$ Gini(B) = \\frac{4}{8}\\cdot (2\\cdot0.75\\cdot0.25) + \\frac{4}{8} \\cdot(2\\cdot0.5\\cdot0.5) $$\n",
    "$$ Gini(B) = 0.4375$$"
   ]
  },
  {
   "cell_type": "markdown",
   "id": "ca9b366d-179b-44c0-85f4-2453fe2e63db",
   "metadata": {},
   "source": [
    "For C: \n",
    "$$ Gini(C) = \\frac{4}{8}\\cdot (2\\cdot0.75\\cdot0.25) + \\frac{4}{8} \\cdot(2\\cdot0.5\\cdot0.5) $$\n",
    "Given it is the same as for B:\n",
    "$$ Gini(C) = 0.4375$$"
   ]
  },
  {
   "cell_type": "markdown",
   "id": "b8eeab78-99db-44dc-a420-d9b4513acd3a",
   "metadata": {},
   "source": [
    "Given feature A has the highest purity using the lowest Gini index value as a measure, we would split on A first. "
   ]
  },
  {
   "cell_type": "markdown",
   "id": "666407b4-5116-4c72-8f08-87bd634b719a",
   "metadata": {
    "tags": []
   },
   "source": [
    "#### Part 3"
   ]
  },
  {
   "cell_type": "markdown",
   "id": "4f43a427-0963-46a4-a188-3ed3e5aa3352",
   "metadata": {},
   "source": [
    "Information gain is the difference between entropy of original and post-split where entropy is $H[p, 1-p] = -plog_2(p) - (1-p)log_2(1-p)$"
   ]
  },
  {
   "cell_type": "markdown",
   "id": "b06f008e-7c65-433e-b209-726bba39ff0f",
   "metadata": {},
   "source": [
    "Original Entropy $ = H[\\frac{5}{8}, \\frac{3}{8}] = 0.9544$"
   ]
  },
  {
   "cell_type": "markdown",
   "id": "c7c607f4-0c94-4a1d-9174-42a79d597e13",
   "metadata": {},
   "source": [
    "For A: \n",
    "$$ H(A) = (\\frac{4}{8}H[1,0]+ \\frac{4}{8}H[0.75,0.25]) $$\n",
    "$$ H(A)= [0.5*0 + 0.5(-0.75log_2(0.75) - 0.25log_2(0.25))] $$\n",
    "$$ H(A) = 0.4056 $$\n",
    "\n",
    "$$ IG(A) = H(original) - H(A) $$\n",
    "$$ IG(A) = 0.9544 - 0.4056 = 0.5488 $$"
   ]
  },
  {
   "cell_type": "markdown",
   "id": "e3417f19-f160-433f-afcd-61fa9a2e373a",
   "metadata": {},
   "source": [
    "For B: \n",
    "$$H(B) = (\\frac{4}{8}H[0.75,0.25]+ \\frac{4}{8}H[0.5,0.5])$$\n",
    "$$H(B)= [0.5 (-0.75log_2(0.75) - 0.25log_2(0.25)) + 0.5(1)]  $$\n",
    "$$ H(B) = 0.9056 $$ \n",
    "$$ IG(B) = 0.9544 - 0.9056 = 0.0488 $$"
   ]
  },
  {
   "cell_type": "markdown",
   "id": "48680ebc-0073-4fc6-97d1-6ab1f1795277",
   "metadata": {},
   "source": [
    "For C: \n",
    "$$H(C) = (\\frac{4}{8}H[0.75,0.25]+ \\frac{4}{8}H[0.5,0.5]) $$\n",
    "Since it's the same as for B: \n",
    "$$ IG(C) = 0.0488 $$"
   ]
  },
  {
   "cell_type": "markdown",
   "id": "f803d93e-b121-41ef-ac3b-d58ae5f61fad",
   "metadata": {},
   "source": [
    "A has the greatest information gain, so the first split is consistent with 4.2"
   ]
  },
  {
   "cell_type": "markdown",
   "id": "a36917bb-8bab-4f6a-b8ab-9ca067f20283",
   "metadata": {},
   "source": [
    "### Exercise 5"
   ]
  },
  {
   "cell_type": "markdown",
   "id": "52bc738c-01a0-4e99-b6c4-cc4d93968c05",
   "metadata": {},
   "source": [
    "#### Part 1"
   ]
  },
  {
   "cell_type": "markdown",
   "id": "8130049e-2eff-4603-9bfd-ecdadf6aa17b",
   "metadata": {},
   "source": [
    "**Processing data**"
   ]
  },
  {
   "cell_type": "code",
   "execution_count": 21,
   "id": "9f553d80-e67d-4347-9650-2acdf340fcb8",
   "metadata": {},
   "outputs": [],
   "source": [
    "train = pd.read_csv('carseats_train.csv')\n",
    "test = pd.read_csv('carseats_test.csv')"
   ]
  },
  {
   "cell_type": "code",
   "execution_count": 22,
   "id": "fca82f47-eafc-456e-a53f-43429510b163",
   "metadata": {},
   "outputs": [],
   "source": [
    "# make categorical data into indicator variables \n",
    "# shelveloc, urban, us for train and test \n",
    "def process_categorical_to_indicator(df):\n",
    "    # get dummies\n",
    "    shelve_dummy = pd.get_dummies(\n",
    "        df['ShelveLoc'], \n",
    "        drop_first=True\n",
    "    ).rename(columns=lambda x: 'ShelveLoc_' + str(x))\n",
    "    urban_dummy = pd.get_dummies(\n",
    "        df['Urban'],\n",
    "        drop_first=True\n",
    "    ).rename(columns=lambda x: 'Urban_' + str(x))\n",
    "    us_dummy = pd.get_dummies(\n",
    "        df['US'],\n",
    "        drop_first=True\n",
    "    ).rename(columns=lambda x: 'US_' + str(x))\n",
    "    \n",
    "    final_df = pd.concat(\n",
    "        [df.drop(['ShelveLoc', 'Urban', 'US'], axis=1\n",
    "                                 ).copy(), \n",
    "         shelve_dummy, urban_dummy, us_dummy], axis=1)\n",
    "    \n",
    "    return final_df"
   ]
  },
  {
   "cell_type": "code",
   "execution_count": 23,
   "id": "3b8d79f7-b788-47d2-b9d2-e147a64a8312",
   "metadata": {},
   "outputs": [],
   "source": [
    "proc_train = process_categorical_to_indicator(train)\n",
    "proc_test = process_categorical_to_indicator(test)"
   ]
  },
  {
   "cell_type": "code",
   "execution_count": 24,
   "id": "5b876c22-a4f7-46cf-9b3a-c03c094f32c6",
   "metadata": {},
   "outputs": [],
   "source": [
    "X_train = proc_train.drop(['Sales'],axis=1).copy()\n",
    "X_test = proc_test.drop(['Sales'],axis=1).copy()\n",
    "y_train = proc_train.loc[:,'Sales'].copy()\n",
    "y_test = proc_test.loc[:,'Sales'].copy()"
   ]
  },
  {
   "cell_type": "markdown",
   "id": "ef3c977e-bf94-4165-82ff-a767cc2789b0",
   "metadata": {},
   "source": [
    "#### Part 2 "
   ]
  },
  {
   "cell_type": "markdown",
   "id": "03e60914-b562-4603-ba27-2621b54f54bb",
   "metadata": {},
   "source": [
    "**CV function for tree-based methods**"
   ]
  },
  {
   "cell_type": "code",
   "execution_count": 25,
   "id": "f9fc4ba3-090d-49f4-b749-3c157bf5b727",
   "metadata": {},
   "outputs": [],
   "source": [
    "def tree_cross_val_tune(X, y, fxn, param_vals, eval_fxn):\n",
    "    ''' takes in data, fxn classifier, param values to tune, \n",
    "    and fxn to calc evaluation metric;\n",
    "    returns df of k values and avg evaluation metric across folds ''' \n",
    "    \n",
    "    kf = KFold(n_splits=5, shuffle=True, random_state=12)\n",
    "    metrics = []\n",
    "    for train_index, test_index in kf.split(X):\n",
    "        X_train, X_test = X.iloc[train_index], X.iloc[test_index]\n",
    "        y_train, y_test = np.array(y.iloc[train_index]), np.array(y.iloc[test_index])\n",
    "        \n",
    "        for j in param_vals:\n",
    "            # train for each param value \n",
    "            preds_ij = fxn(X_train, X_test, y_train, j)\n",
    "            # calc evaluation \n",
    "            score = eval_fxn(y_test, preds_ij)\n",
    "            # store metrics somehow \n",
    "            metrics.append([j, score])\n",
    "\n",
    "    # report average f1 score across folds for each parameter value \n",
    "    metrics = pd.DataFrame(metrics, columns=['param', 'score'])\n",
    "    # group by param and average across score \n",
    "    avg_metrics = metrics.groupby('param').mean().reset_index()\n",
    "    \n",
    "    \n",
    "    return avg_metrics"
   ]
  },
  {
   "cell_type": "markdown",
   "id": "7e09cd27-45fd-4dce-86e3-199b3ebbf8bc",
   "metadata": {},
   "source": [
    "**Tuning parameters for CART**"
   ]
  },
  {
   "cell_type": "code",
   "execution_count": 26,
   "id": "0881491f-b10f-4b89-bab3-c772e4dcaa3b",
   "metadata": {},
   "outputs": [],
   "source": [
    "# sklearn decision tree function \n",
    "def decision_tree_predictions(X_train, X_test, y_train, max_depth):\n",
    "    clf = tree.DecisionTreeClassifier(max_depth = max_depth)\n",
    "    clf = clf.fit(X_train, y_train)\n",
    "    preds = clf.predict(X_test)\n",
    "    return np.array(preds)"
   ]
  },
  {
   "cell_type": "code",
   "execution_count": 27,
   "id": "e1ef17fa-7c1f-49bb-b92f-bc98fa97ccb9",
   "metadata": {},
   "outputs": [],
   "source": [
    "dt_scores = tree_cross_val_tune(X_train, \n",
    "                                y_train, \n",
    "                                decision_tree_predictions, \n",
    "                                [2,3,4,5,6,7,8,9,10], \n",
    "                                calc_f1)\n",
    "depth = dt_scores['param'][dt_scores.score == dt_scores.score.max()].values[0]"
   ]
  },
  {
   "cell_type": "code",
   "execution_count": 28,
   "id": "c1a71e0e-9d0c-4f4e-af81-7b33350996ed",
   "metadata": {},
   "outputs": [
    {
     "name": "stdout",
     "output_type": "stream",
     "text": [
      "The best performing CART model is for a max depth of 7 with F1 score of 0.635\n"
     ]
    },
    {
     "data": {
      "text/html": [
       "<div>\n",
       "<style scoped>\n",
       "    .dataframe tbody tr th:only-of-type {\n",
       "        vertical-align: middle;\n",
       "    }\n",
       "\n",
       "    .dataframe tbody tr th {\n",
       "        vertical-align: top;\n",
       "    }\n",
       "\n",
       "    .dataframe thead th {\n",
       "        text-align: right;\n",
       "    }\n",
       "</style>\n",
       "<table border=\"1\" class=\"dataframe\">\n",
       "  <thead>\n",
       "    <tr style=\"text-align: right;\">\n",
       "      <th></th>\n",
       "      <th>param</th>\n",
       "      <th>score</th>\n",
       "    </tr>\n",
       "  </thead>\n",
       "  <tbody>\n",
       "    <tr>\n",
       "      <th>0</th>\n",
       "      <td>2</td>\n",
       "      <td>0.538582</td>\n",
       "    </tr>\n",
       "    <tr>\n",
       "      <th>1</th>\n",
       "      <td>3</td>\n",
       "      <td>0.593627</td>\n",
       "    </tr>\n",
       "    <tr>\n",
       "      <th>2</th>\n",
       "      <td>4</td>\n",
       "      <td>0.580952</td>\n",
       "    </tr>\n",
       "    <tr>\n",
       "      <th>3</th>\n",
       "      <td>5</td>\n",
       "      <td>0.615748</td>\n",
       "    </tr>\n",
       "    <tr>\n",
       "      <th>4</th>\n",
       "      <td>6</td>\n",
       "      <td>0.633557</td>\n",
       "    </tr>\n",
       "    <tr>\n",
       "      <th>5</th>\n",
       "      <td>7</td>\n",
       "      <td>0.635000</td>\n",
       "    </tr>\n",
       "    <tr>\n",
       "      <th>6</th>\n",
       "      <td>8</td>\n",
       "      <td>0.577462</td>\n",
       "    </tr>\n",
       "    <tr>\n",
       "      <th>7</th>\n",
       "      <td>9</td>\n",
       "      <td>0.632832</td>\n",
       "    </tr>\n",
       "    <tr>\n",
       "      <th>8</th>\n",
       "      <td>10</td>\n",
       "      <td>0.604437</td>\n",
       "    </tr>\n",
       "  </tbody>\n",
       "</table>\n",
       "</div>"
      ],
      "text/plain": [
       "   param     score\n",
       "0      2  0.538582\n",
       "1      3  0.593627\n",
       "2      4  0.580952\n",
       "3      5  0.615748\n",
       "4      6  0.633557\n",
       "5      7  0.635000\n",
       "6      8  0.577462\n",
       "7      9  0.632832\n",
       "8     10  0.604437"
      ]
     },
     "execution_count": 28,
     "metadata": {},
     "output_type": "execute_result"
    }
   ],
   "source": [
    "print('The best performing CART model is for a max depth of '+ str(depth) + ' with F1 score of ' + str(round(dt_scores.score.max(), 4)))\n",
    "dt_scores"
   ]
  },
  {
   "cell_type": "markdown",
   "id": "67bb675b-1dea-4cdc-abc6-2d7e78418ff6",
   "metadata": {},
   "source": [
    "**Tuning parameters for GOSDT**"
   ]
  },
  {
   "cell_type": "code",
   "execution_count": 29,
   "id": "0a06780a-25eb-4fab-9c8e-1acc4e038042",
   "metadata": {},
   "outputs": [],
   "source": [
    "# extra processing\n",
    "n_est = 40 \n",
    "max_depth = 1 \n",
    "X_train_guessed, thresholds, header, threshold_guess_time = compute_thresholds(\n",
    "    X_train.copy(), y_train, n_est, max_depth)\n",
    "X_test_guessed = cut(X_test.copy(), thresholds)\n",
    "X_test_guessed = X_test_guessed[header]"
   ]
  },
  {
   "cell_type": "code",
   "execution_count": 30,
   "id": "4b77939b-b31c-4bda-9f50-c778ee807bc4",
   "metadata": {},
   "outputs": [],
   "source": [
    "# gosdt\n",
    "def gosdt_predictions(X_train, X_test, y_train, reg):\n",
    "    gosdt_tree = GOSDT({\n",
    "            \"depth_budget\": 2,\n",
    "            \"regularization\": reg,\n",
    "            \"verbose\": False,\n",
    "        })\n",
    "    gosdt_tree = gosdt_tree.fit(X_train, y_train)\n",
    "    preds = gosdt_tree.predict(X_test)\n",
    "    return np.array(preds)"
   ]
  },
  {
   "cell_type": "code",
   "execution_count": 31,
   "id": "fb3e0ed5-3a3d-4ab8-b1ea-05ec0e59048a",
   "metadata": {},
   "outputs": [
    {
     "name": "stdout",
     "output_type": "stream",
     "text": [
      "gosdt reported successful execution\n",
      "training completed. 0.000/0.000/0.000 (user, system, wall), mem=161976 MB\n",
      "bounds: [0.864444..0.864444] (0.000000) loss=0.364444, iterations=0\n",
      "gosdt reported successful execution\n",
      "training completed. 0.000/0.000/0.000 (user, system, wall), mem=162116 MB\n",
      "bounds: [0.664444..0.664444] (0.000000) loss=0.364444, iterations=0\n",
      "gosdt reported successful execution\n",
      "training completed. 0.000/0.000/0.000 (user, system, wall), mem=162244 MB\n",
      "bounds: [0.448889..0.448889] (0.000000) loss=0.248889, iterations=0\n",
      "gosdt reported successful execution\n",
      "training completed. 0.000/0.000/0.000 (user, system, wall), mem=162308 MB\n",
      "bounds: [0.268889..0.268889] (0.000000) loss=0.248889, iterations=0\n",
      "gosdt reported successful execution\n",
      "training completed. 0.000/0.000/0.000 (user, system, wall), mem=162312 MB\n",
      "bounds: [0.258889..0.258889] (0.000000) loss=0.248889, iterations=0\n",
      "gosdt reported successful execution\n",
      "training completed. 0.000/0.000/0.000 (user, system, wall), mem=162328 MB\n",
      "bounds: [0.864444..0.864444] (0.000000) loss=0.364444, iterations=0\n",
      "gosdt reported successful execution\n",
      "training completed. 0.000/0.000/0.000 (user, system, wall), mem=162328 MB\n",
      "bounds: [0.664444..0.664444] (0.000000) loss=0.364444, iterations=0\n",
      "gosdt reported successful execution\n",
      "training completed. 0.000/0.000/0.000 (user, system, wall), mem=162332 MB\n",
      "bounds: [0.464444..0.464444] (0.000000) loss=0.364444, iterations=0\n",
      "gosdt reported successful execution\n",
      "training completed. 0.000/0.000/0.000 (user, system, wall), mem=162340 MB\n",
      "bounds: [0.300000..0.300000] (0.000000) loss=0.280000, iterations=0\n",
      "gosdt reported successful execution\n",
      "training completed. 0.000/0.000/0.000 (user, system, wall), mem=162340 MB\n",
      "bounds: [0.290000..0.290000] (0.000000) loss=0.280000, iterations=0\n",
      "gosdt reported successful execution\n",
      "training completed. 0.000/0.000/0.000 (user, system, wall), mem=162340 MB\n",
      "bounds: [0.889381..0.889381] (0.000000) loss=0.389381, iterations=0\n",
      "gosdt reported successful execution\n",
      "training completed. 0.000/0.000/0.000 (user, system, wall), mem=162340 MB\n",
      "bounds: [0.689381..0.689381] (0.000000) loss=0.389381, iterations=0\n",
      "gosdt reported successful execution\n",
      "training completed. 0.000/0.000/0.000 (user, system, wall), mem=162348 MB\n",
      "bounds: [0.487611..0.487611] (0.000000) loss=0.287611, iterations=0\n",
      "gosdt reported successful execution\n",
      "training completed. 0.000/0.000/0.000 (user, system, wall), mem=162348 MB\n",
      "bounds: [0.307611..0.307611] (0.000000) loss=0.287611, iterations=0\n",
      "gosdt reported successful execution\n",
      "training completed. 0.000/0.000/0.000 (user, system, wall), mem=162352 MB\n",
      "bounds: [0.297611..0.297611] (0.000000) loss=0.287611, iterations=0\n",
      "gosdt reported successful execution\n",
      "training completed. 0.000/0.000/0.000 (user, system, wall), mem=162352 MB\n",
      "bounds: [0.871681..0.871681] (0.000000) loss=0.371681, iterations=0\n",
      "gosdt reported successful execution\n",
      "training completed. 0.000/0.000/0.000 (user, system, wall), mem=162384 MB\n",
      "bounds: [0.671681..0.671681] (0.000000) loss=0.371681, iterations=0\n",
      "gosdt reported successful execution\n",
      "training completed. 0.000/0.000/0.000 (user, system, wall), mem=162384 MB\n",
      "bounds: [0.471681..0.471681] (0.000000) loss=0.371681, iterations=0\n",
      "gosdt reported successful execution\n",
      "training completed. 0.000/0.000/0.000 (user, system, wall), mem=162384 MB\n",
      "bounds: [0.307611..0.307611] (0.000000) loss=0.287611, iterations=0\n",
      "gosdt reported successful execution\n",
      "training completed. 0.000/0.000/0.000 (user, system, wall), mem=162384 MB\n",
      "bounds: [0.297611..0.297611] (0.000000) loss=0.287611, iterations=0\n",
      "gosdt reported successful execution\n",
      "training completed. 0.000/0.000/0.000 (user, system, wall), mem=162412 MB\n",
      "bounds: [0.871681..0.871681] (0.000000) loss=0.371681, iterations=0\n",
      "gosdt reported successful execution\n",
      "training completed. 0.000/0.000/0.000 (user, system, wall), mem=162472 MB\n",
      "bounds: [0.671681..0.671681] (0.000000) loss=0.371681, iterations=0\n",
      "gosdt reported successful execution\n",
      "training completed. 0.000/0.000/0.000 (user, system, wall), mem=162472 MB\n",
      "bounds: [0.471681..0.471681] (0.000000) loss=0.371681, iterations=0\n",
      "gosdt reported successful execution\n",
      "training completed. 0.000/0.000/0.000 (user, system, wall), mem=162472 MB\n",
      "bounds: [0.298761..0.298761] (0.000000) loss=0.278761, iterations=0\n",
      "gosdt reported successful execution\n",
      "training completed. 0.000/0.000/0.000 (user, system, wall), mem=162472 MB\n",
      "bounds: [0.288761..0.288761] (0.000000) loss=0.278761, iterations=0\n"
     ]
    }
   ],
   "source": [
    "gosdt_scores = tree_cross_val_tune(X_train_guessed, \n",
    "                                   y_train, \n",
    "                                   gosdt_predictions, \n",
    "                                   [0.5, 0.3, 0.1, 0.01,0.005], \n",
    "                                   calc_f1)\n",
    "reg = gosdt_scores['param'][gosdt_scores.score == gosdt_scores.score.max()].values[0]"
   ]
  },
  {
   "cell_type": "code",
   "execution_count": 32,
   "id": "2a9e1ef2-d2d7-4ef6-94df-c9cd9aea7aab",
   "metadata": {},
   "outputs": [
    {
     "name": "stdout",
     "output_type": "stream",
     "text": [
      "The best performing GOSDT model is for regularization of 0.005 with F1 score of 0.5262\n"
     ]
    },
    {
     "data": {
      "text/html": [
       "<div>\n",
       "<style scoped>\n",
       "    .dataframe tbody tr th:only-of-type {\n",
       "        vertical-align: middle;\n",
       "    }\n",
       "\n",
       "    .dataframe tbody tr th {\n",
       "        vertical-align: top;\n",
       "    }\n",
       "\n",
       "    .dataframe thead th {\n",
       "        text-align: right;\n",
       "    }\n",
       "</style>\n",
       "<table border=\"1\" class=\"dataframe\">\n",
       "  <thead>\n",
       "    <tr style=\"text-align: right;\">\n",
       "      <th></th>\n",
       "      <th>param</th>\n",
       "      <th>score</th>\n",
       "    </tr>\n",
       "  </thead>\n",
       "  <tbody>\n",
       "    <tr>\n",
       "      <th>0</th>\n",
       "      <td>0.005</td>\n",
       "      <td>0.526223</td>\n",
       "    </tr>\n",
       "    <tr>\n",
       "      <th>1</th>\n",
       "      <td>0.010</td>\n",
       "      <td>0.526223</td>\n",
       "    </tr>\n",
       "    <tr>\n",
       "      <th>2</th>\n",
       "      <td>0.100</td>\n",
       "      <td>0.186717</td>\n",
       "    </tr>\n",
       "    <tr>\n",
       "      <th>3</th>\n",
       "      <td>0.300</td>\n",
       "      <td>0.000000</td>\n",
       "    </tr>\n",
       "    <tr>\n",
       "      <th>4</th>\n",
       "      <td>0.500</td>\n",
       "      <td>0.000000</td>\n",
       "    </tr>\n",
       "  </tbody>\n",
       "</table>\n",
       "</div>"
      ],
      "text/plain": [
       "   param     score\n",
       "0  0.005  0.526223\n",
       "1  0.010  0.526223\n",
       "2  0.100  0.186717\n",
       "3  0.300  0.000000\n",
       "4  0.500  0.000000"
      ]
     },
     "execution_count": 32,
     "metadata": {},
     "output_type": "execute_result"
    }
   ],
   "source": [
    "print('The best performing GOSDT model is for regularization of '+ str(reg) + ' with F1 score of ' + str(round(gosdt_scores.score.max(), 4)))\n",
    "\n",
    "gosdt_scores"
   ]
  },
  {
   "cell_type": "markdown",
   "id": "67001cea-9730-4930-aaa0-64fafd409f73",
   "metadata": {},
   "source": [
    "#### Part 3"
   ]
  },
  {
   "cell_type": "markdown",
   "id": "3b758ca3-0596-4257-9ddd-507d1b73b4fb",
   "metadata": {},
   "source": [
    "**KNN function**"
   ]
  },
  {
   "cell_type": "code",
   "execution_count": 33,
   "id": "a09dece0-e4d9-476c-b4b6-53464b2fadb3",
   "metadata": {},
   "outputs": [],
   "source": [
    "def euclid_dist(x, y):\n",
    "    return np.sqrt(((x-y)**2).sum())"
   ]
  },
  {
   "cell_type": "code",
   "execution_count": 34,
   "id": "f61bada3-ac2e-44e8-aad2-113118ad7ecb",
   "metadata": {},
   "outputs": [],
   "source": [
    "def manhattan_dist(x, y):\n",
    "    return np.abs(x - y).sum()"
   ]
  },
  {
   "cell_type": "code",
   "execution_count": 35,
   "id": "14e47478-92c9-425c-b444-93a8be2311cd",
   "metadata": {},
   "outputs": [],
   "source": [
    "def knn_predictions(X_train, X_test, y_train, num_neighbors, distance_metric='euclidean'):\n",
    "    distance_fxn = (euclid_dist if distance_metric=='euclidean' else manhattan_dist)\n",
    "    y_train = np.array(y_train)\n",
    "    predictions = []\n",
    "    for idx, row in X_test.iterrows():\n",
    "        test_i = np.array(row)\n",
    "        # calc distances between x train \n",
    "        distances = [distance_fxn(np.array(train_i), test_i) \n",
    "                     for i, train_i in X_train.iterrows()]\n",
    "        distances = np.array(distances)\n",
    "        \n",
    "        # sort indices by ascending value\n",
    "        asc_idx = np.argsort(distances)\n",
    "        \n",
    "        # find n nearest neighbors \n",
    "        idx_neighbors = asc_idx[:num_neighbors]\n",
    "        \n",
    "        # take majority vote \n",
    "        y_neighbors = y_train[idx_neighbors]\n",
    "        \n",
    "        majority = y_neighbors.mean()\n",
    "        \n",
    "        predictions.append((1 if majority >= 0.5 else 0))\n",
    "        \n",
    "    return np.array(predictions)"
   ]
  },
  {
   "cell_type": "markdown",
   "id": "cd014429-7297-431a-9c93-9198dc71e9f0",
   "metadata": {},
   "source": [
    "**KNN CV Function**"
   ]
  },
  {
   "cell_type": "code",
   "execution_count": 36,
   "id": "003a85a8-e65d-4b31-9e07-b664ce107f2e",
   "metadata": {},
   "outputs": [],
   "source": [
    "def knn_cross_val_tune(X, y, fxn, param_vals, eval_fxn):\n",
    "    ''' takes in data, fxn classifier, param values to tune, \n",
    "    and fxn to calc evaluation metric;\n",
    "    returns df of k values and avg evaluation metric across folds ''' \n",
    "    \n",
    "    kf = KFold(n_splits=5, shuffle=True, random_state=12)\n",
    "    metrics = []\n",
    "    for train_index, test_index in kf.split(X):\n",
    "        X_train, X_test = X.iloc[train_index], X.iloc[test_index]\n",
    "        y_train, y_test = np.array(y.iloc[train_index]), np.array(y.iloc[test_index])\n",
    "        \n",
    "        for j in param_vals:\n",
    "            preds_ij_man = fxn(X_train, X_test, y_train, j, 'manhattan_dist')\n",
    "            preds_ij_euc = fxn(X_train, X_test, y_train, j)\n",
    "\n",
    "            score_man = eval_fxn(y_test, preds_ij_man)\n",
    "            score_euc = eval_fxn(y_test, preds_ij_euc)\n",
    "\n",
    "            metrics.append([j, 'manhattan', score_man])\n",
    "            metrics.append([j, 'euclidean', score_euc])\n",
    "                \n",
    "    metrics = pd.DataFrame(metrics, columns=['param', 'distance', 'score'])\n",
    "    avg_metrics = metrics.groupby(['param', 'distance']).mean().reset_index()\n",
    "    \n",
    "    \n",
    "    return avg_metrics"
   ]
  },
  {
   "cell_type": "markdown",
   "id": "fdb6a0f5-2712-497d-b67e-3c3528d6a26c",
   "metadata": {},
   "source": [
    "**Tuning KNN**"
   ]
  },
  {
   "cell_type": "code",
   "execution_count": 37,
   "id": "337423b2-68e1-4d59-b5cc-44d400327109",
   "metadata": {},
   "outputs": [],
   "source": [
    "# use cross_val_tune and knn function to tune knn (num_neighbors, distance) \n",
    "knn_scores = knn_cross_val_tune(X_train, \n",
    "                                y_train, \n",
    "                                knn_predictions, \n",
    "                                [1,3,5,7,9,11, 13, 15, 17, 19, 25],\n",
    "                                calc_f1)\n",
    "knn_metric = knn_scores['distance'][knn_scores.score == knn_scores.score.max()].values[0]\n",
    "nn = knn_scores['param'][knn_scores.score == knn_scores.score.max()].values[0]"
   ]
  },
  {
   "cell_type": "code",
   "execution_count": 38,
   "id": "97b44822-300c-43ec-bfac-3c6a626c1ec8",
   "metadata": {},
   "outputs": [
    {
     "name": "stdout",
     "output_type": "stream",
     "text": [
      "The best performing KNN model is for 1 nearest neighbors and manhattan distance metric with F1 score of 0.453\n"
     ]
    },
    {
     "data": {
      "text/html": [
       "<div>\n",
       "<style scoped>\n",
       "    .dataframe tbody tr th:only-of-type {\n",
       "        vertical-align: middle;\n",
       "    }\n",
       "\n",
       "    .dataframe tbody tr th {\n",
       "        vertical-align: top;\n",
       "    }\n",
       "\n",
       "    .dataframe thead th {\n",
       "        text-align: right;\n",
       "    }\n",
       "</style>\n",
       "<table border=\"1\" class=\"dataframe\">\n",
       "  <thead>\n",
       "    <tr style=\"text-align: right;\">\n",
       "      <th></th>\n",
       "      <th>param</th>\n",
       "      <th>distance</th>\n",
       "      <th>score</th>\n",
       "    </tr>\n",
       "  </thead>\n",
       "  <tbody>\n",
       "    <tr>\n",
       "      <th>0</th>\n",
       "      <td>1</td>\n",
       "      <td>euclidean</td>\n",
       "      <td>0.431348</td>\n",
       "    </tr>\n",
       "    <tr>\n",
       "      <th>1</th>\n",
       "      <td>1</td>\n",
       "      <td>manhattan</td>\n",
       "      <td>0.453013</td>\n",
       "    </tr>\n",
       "    <tr>\n",
       "      <th>2</th>\n",
       "      <td>3</td>\n",
       "      <td>euclidean</td>\n",
       "      <td>0.379023</td>\n",
       "    </tr>\n",
       "    <tr>\n",
       "      <th>3</th>\n",
       "      <td>3</td>\n",
       "      <td>manhattan</td>\n",
       "      <td>0.394998</td>\n",
       "    </tr>\n",
       "    <tr>\n",
       "      <th>4</th>\n",
       "      <td>5</td>\n",
       "      <td>euclidean</td>\n",
       "      <td>0.356234</td>\n",
       "    </tr>\n",
       "    <tr>\n",
       "      <th>5</th>\n",
       "      <td>5</td>\n",
       "      <td>manhattan</td>\n",
       "      <td>0.354113</td>\n",
       "    </tr>\n",
       "    <tr>\n",
       "      <th>6</th>\n",
       "      <td>7</td>\n",
       "      <td>euclidean</td>\n",
       "      <td>0.373473</td>\n",
       "    </tr>\n",
       "    <tr>\n",
       "      <th>7</th>\n",
       "      <td>7</td>\n",
       "      <td>manhattan</td>\n",
       "      <td>0.427906</td>\n",
       "    </tr>\n",
       "    <tr>\n",
       "      <th>8</th>\n",
       "      <td>9</td>\n",
       "      <td>euclidean</td>\n",
       "      <td>0.361911</td>\n",
       "    </tr>\n",
       "    <tr>\n",
       "      <th>9</th>\n",
       "      <td>9</td>\n",
       "      <td>manhattan</td>\n",
       "      <td>0.444358</td>\n",
       "    </tr>\n",
       "    <tr>\n",
       "      <th>10</th>\n",
       "      <td>11</td>\n",
       "      <td>euclidean</td>\n",
       "      <td>0.346048</td>\n",
       "    </tr>\n",
       "    <tr>\n",
       "      <th>11</th>\n",
       "      <td>11</td>\n",
       "      <td>manhattan</td>\n",
       "      <td>0.400840</td>\n",
       "    </tr>\n",
       "    <tr>\n",
       "      <th>12</th>\n",
       "      <td>13</td>\n",
       "      <td>euclidean</td>\n",
       "      <td>0.353505</td>\n",
       "    </tr>\n",
       "    <tr>\n",
       "      <th>13</th>\n",
       "      <td>13</td>\n",
       "      <td>manhattan</td>\n",
       "      <td>0.390114</td>\n",
       "    </tr>\n",
       "    <tr>\n",
       "      <th>14</th>\n",
       "      <td>15</td>\n",
       "      <td>euclidean</td>\n",
       "      <td>0.390980</td>\n",
       "    </tr>\n",
       "    <tr>\n",
       "      <th>15</th>\n",
       "      <td>15</td>\n",
       "      <td>manhattan</td>\n",
       "      <td>0.374474</td>\n",
       "    </tr>\n",
       "    <tr>\n",
       "      <th>16</th>\n",
       "      <td>17</td>\n",
       "      <td>euclidean</td>\n",
       "      <td>0.364014</td>\n",
       "    </tr>\n",
       "    <tr>\n",
       "      <th>17</th>\n",
       "      <td>17</td>\n",
       "      <td>manhattan</td>\n",
       "      <td>0.368864</td>\n",
       "    </tr>\n",
       "    <tr>\n",
       "      <th>18</th>\n",
       "      <td>19</td>\n",
       "      <td>euclidean</td>\n",
       "      <td>0.351970</td>\n",
       "    </tr>\n",
       "    <tr>\n",
       "      <th>19</th>\n",
       "      <td>19</td>\n",
       "      <td>manhattan</td>\n",
       "      <td>0.376574</td>\n",
       "    </tr>\n",
       "    <tr>\n",
       "      <th>20</th>\n",
       "      <td>25</td>\n",
       "      <td>euclidean</td>\n",
       "      <td>0.329713</td>\n",
       "    </tr>\n",
       "    <tr>\n",
       "      <th>21</th>\n",
       "      <td>25</td>\n",
       "      <td>manhattan</td>\n",
       "      <td>0.247214</td>\n",
       "    </tr>\n",
       "  </tbody>\n",
       "</table>\n",
       "</div>"
      ],
      "text/plain": [
       "    param   distance     score\n",
       "0       1  euclidean  0.431348\n",
       "1       1  manhattan  0.453013\n",
       "2       3  euclidean  0.379023\n",
       "3       3  manhattan  0.394998\n",
       "4       5  euclidean  0.356234\n",
       "5       5  manhattan  0.354113\n",
       "6       7  euclidean  0.373473\n",
       "7       7  manhattan  0.427906\n",
       "8       9  euclidean  0.361911\n",
       "9       9  manhattan  0.444358\n",
       "10     11  euclidean  0.346048\n",
       "11     11  manhattan  0.400840\n",
       "12     13  euclidean  0.353505\n",
       "13     13  manhattan  0.390114\n",
       "14     15  euclidean  0.390980\n",
       "15     15  manhattan  0.374474\n",
       "16     17  euclidean  0.364014\n",
       "17     17  manhattan  0.368864\n",
       "18     19  euclidean  0.351970\n",
       "19     19  manhattan  0.376574\n",
       "20     25  euclidean  0.329713\n",
       "21     25  manhattan  0.247214"
      ]
     },
     "execution_count": 38,
     "metadata": {},
     "output_type": "execute_result"
    }
   ],
   "source": [
    "print('The best performing KNN model is for '+ str(nn) + ' nearest neighbors and ' + knn_metric + ' distance metric with F1 score of ' + str(round(knn_scores.score.max(), 4)))\n",
    "knn_scores"
   ]
  },
  {
   "cell_type": "markdown",
   "id": "63c6cee1-ec51-4b2f-b8f4-843ea76a1e9b",
   "metadata": {},
   "source": [
    "#### Part 4"
   ]
  },
  {
   "cell_type": "markdown",
   "id": "3c48342b-4894-4882-ab8d-3197f05c8366",
   "metadata": {},
   "source": [
    "For each model, taking the tuned parameters with the best performance and fitting the model and predicting on the test set, it appears that CART performs the best with the highest test F1 score. "
   ]
  },
  {
   "cell_type": "code",
   "execution_count": 39,
   "id": "448ff676-a0b5-4235-b3dc-4ef81f6ccbc8",
   "metadata": {},
   "outputs": [
    {
     "name": "stdout",
     "output_type": "stream",
     "text": [
      "gosdt reported successful execution\n",
      "training completed. 0.001/0.000/0.000 (user, system, wall), mem=163328 MB\n",
      "bounds: [0.286596..0.286596] (0.000000) loss=0.276596, iterations=0\n",
      "KNN F1 test score using 1 nearest neighbors and manhattan distance metric: 0.5536\n",
      "CART F1 score using max depth of 7: 0.7156\n",
      "GOSDT F1 score using regularization of 0.005: 0.5412\n"
     ]
    }
   ],
   "source": [
    "knn_preds = knn_predictions(X_train, X_test, y_train, nn, distance_metric=knn_metric)\n",
    "dt_preds = decision_tree_predictions(X_train, X_test, y_train, depth)\n",
    "gosdt_preds = gosdt_predictions(X_train, X_test, y_train, reg)\n",
    "print('KNN F1 test score using ' + str(nn) + ' nearest neighbors and ' + knn_metric + ' distance metric: ' + str(round(calc_f1(y_test, knn_preds),4)))\n",
    "print('CART F1 score using' + ' max depth of ' + str(depth) +': ' + str(round(calc_f1(y_test, dt_preds),4)))\n",
    "print('GOSDT F1 score using' + ' regularization of ' + str(reg) +': ' + str(round(calc_f1(y_test, gosdt_preds),4)))"
   ]
  },
  {
   "cell_type": "markdown",
   "id": "a544a6e6-de29-4394-87a2-ed3f753601ee",
   "metadata": {},
   "source": [
    "#### Part 5"
   ]
  },
  {
   "cell_type": "markdown",
   "id": "56621470-3bce-4cb3-b86f-d75ae052717e",
   "metadata": {},
   "source": [
    "For K-fold cross-validation, it splits the dataset into k equal folds. It will train k times and for each time, it will alternate which fold is the test fold and train on the k-1 folds. The evaluation metric will be calculated on the test fold each time. \n",
    "\n",
    "For LOOCV, it trains n times for n observations. Each iteration, it cycles and alternatively leaves one point out. It trains on n-1 observations, and uses the left-out point as the test set to calculate the evaulation metric. "
   ]
  },
  {
   "cell_type": "markdown",
   "id": "021f0f57-7d8a-4574-9ba4-7ded41503e80",
   "metadata": {},
   "source": [
    "In terms of disadvantages, LOOCV is computationally expensive since it requires going through every data point and alternating which point is left out (this is especially disadvantageous when n is large or many features). Also, since LOOCV trains each time with n-1 observations for n times, the resulting model is highly dependent on the training set and can lead to high variance in its performance when generalizing. "
   ]
  },
  {
   "cell_type": "markdown",
   "id": "77c0c23e-f7c0-4926-a8b1-4bca9e4001d8",
   "metadata": {},
   "source": [
    "#### Part 6"
   ]
  },
  {
   "cell_type": "code",
   "execution_count": 40,
   "id": "7d8b378d-0d95-49cb-9aca-47bcd2f6a074",
   "metadata": {},
   "outputs": [
    {
     "data": {
      "text/plain": [
       "0.3723404255319149"
      ]
     },
     "execution_count": 40,
     "metadata": {},
     "output_type": "execute_result"
    }
   ],
   "source": [
    "(train.Sales == 1).sum() / len(train)"
   ]
  },
  {
   "cell_type": "code",
   "execution_count": 41,
   "id": "6b05af60-8b92-414d-92a9-2bdecf7b36e5",
   "metadata": {},
   "outputs": [
    {
     "data": {
      "text/plain": [
       "0.6276595744680851"
      ]
     },
     "execution_count": 41,
     "metadata": {},
     "output_type": "execute_result"
    }
   ],
   "source": [
    "(train.Sales == 0).sum() / len(train)"
   ]
  },
  {
   "cell_type": "markdown",
   "id": "43d30b6f-953b-4d19-af4e-bbea02bbb081",
   "metadata": {},
   "source": [
    "Sales with values of 1 comprises about 37% of the training dataset, while values of 0 makes up the other 63%. Because of the imbalance in the dataset, F1 would be a better evaluation than accuracy."
   ]
  },
  {
   "cell_type": "markdown",
   "id": "f4fa78d6-c41b-4a3d-937c-6df27da3da5a",
   "metadata": {},
   "source": [
    "### Exercise 6 "
   ]
  },
  {
   "cell_type": "markdown",
   "id": "3e9523d3-532c-4e34-a154-5bc037934ba2",
   "metadata": {},
   "source": [
    "#### Part 1"
   ]
  },
  {
   "cell_type": "markdown",
   "id": "623908f1-69d6-4894-bf7d-74a52df4180f",
   "metadata": {},
   "source": [
    "We can prove $NN \\xrightarrow{p} x_{test}$ if for any $ \\epsilon > 0$:\n",
    "$$ \\lim_{n \\to \\infty} P(\\rho(NN, x_{test}) > \\epsilon) = 0$$ "
   ]
  },
  {
   "cell_type": "markdown",
   "id": "1249ac1c-8358-4d3c-9d0d-cea6c49333f6",
   "metadata": {},
   "source": [
    "If the distance between a point and its nearest neighbor is greater than some value, then every point must also be greater than that value. Since the points are iid, the above can be written as:\n",
    "$$ \\lim_{n \\to \\infty} \\prod_{j=1}^{n} P(\\rho(x_j, x_{test}) > \\epsilon) = 0$$ "
   ]
  },
  {
   "cell_type": "markdown",
   "id": "fd1914f5-f3e6-46e9-8a2a-f7973ded6499",
   "metadata": {},
   "source": [
    "$$ = \\lim_{n \\to \\infty} \\prod_{j=1}^{n} P(  \\sum_{i=1}^{d} I(x_j \\neq x_{test}) > \\epsilon)$$ "
   ]
  },
  {
   "cell_type": "markdown",
   "id": "cc3fc00f-d698-44d5-b223-d5233a5a1471",
   "metadata": {},
   "source": [
    "When $\\epsilon > d$, since the max value of $\\rho(x_j, x_{test}) $ is d:\n",
    "$$ P(  \\sum_{i=1}^{d} I(x_j \\neq x_{test}) > \\epsilon) = 0 $$ "
   ]
  },
  {
   "cell_type": "markdown",
   "id": "19af08c6-9aca-497b-86e5-e2e7bc0d4391",
   "metadata": {},
   "source": [
    "When $\\epsilon <= d$:\n",
    "$$ \\lim_{n \\to \\infty} \\prod_{j=1}^{n} P(\\rho(x_j, x_{test}) > \\epsilon) = \\lim_{n \\to \\infty} (P(\\rho(x_j, x_{test}) > \\epsilon))^n $$\n",
    "Since by definition, probability is a proportion between 0 and 1, \n",
    "$$ \\lim_{n \\to \\infty} (0 \\leq P(\\rho(x_j, x_{test}) > \\epsilon) < 1)^n  = 0$$"
   ]
  },
  {
   "cell_type": "markdown",
   "id": "3b095877-38c4-4a62-a5ae-d7e944445354",
   "metadata": {},
   "source": [
    "Since we have proven $ \\lim_{n \\to \\infty} \\prod_{j=1}^{n} P(\\rho(x_j, x_{test}) > \\epsilon) = 0$ for any $\\epsilon > 0$, \n",
    "by definition of probability convergence, $NN \\xrightarrow{p} x_{test}$\n"
   ]
  },
  {
   "cell_type": "markdown",
   "id": "e6bfb8c8-8714-410a-91f2-7ef088d7dbee",
   "metadata": {},
   "source": [
    "#### Part 2"
   ]
  },
  {
   "cell_type": "markdown",
   "id": "4e4f0b2e-1255-4f4e-b1aa-c9269a6201fc",
   "metadata": {},
   "source": [
    "Given the result in 6.1:\n",
    "$$NN \\xrightarrow{p} x_{test}$$\n",
    "Given $f$ is a Lipschitz function and therefore continuous, by CMT:\n",
    "$$ f(NN) \\xrightarrow{p} f(x_{test}) $$\n",
    "$$ f(NN) - f(x_{test})\\xrightarrow{p} 0 $$\n"
   ]
  },
  {
   "cell_type": "markdown",
   "id": "83d9a889-708f-438b-aa47-fc5f6f1ec51d",
   "metadata": {},
   "source": [
    "By CMT again:\n",
    "$$ | f(NN) - f(x_{test}|\\xrightarrow{p} 0 $$"
   ]
  },
  {
   "cell_type": "markdown",
   "id": "b89236c5-592c-42d2-a48e-76628c842401",
   "metadata": {},
   "source": [
    "#### Part 3 "
   ]
  },
  {
   "cell_type": "markdown",
   "id": "4cd9511a-50c9-4e7d-b11e-f58e50493f1a",
   "metadata": {},
   "source": [
    "$$ K' = \\mathbb{E}[\\rho(x_{test}, x) \\leq 2]$$\n",
    "$$ = n \\cdot [(P(\\rho(x_{test}, x) = 0) + (P(\\rho(x_{test}, x) = 1)) + (P(\\rho(x_{test}, x) = 2))] $$"
   ]
  },
  {
   "cell_type": "markdown",
   "id": "13d7a1a0-5fef-4835-8a63-ea3b8568fba1",
   "metadata": {},
   "source": [
    "$$ = n \\cdot [\\binom{d}{0} \\frac{1}{2^d} + \\binom{d}{1} \\frac{1}{2^d} + \\binom{d}{2} \\frac{1}{2^d}] $$\n",
    "$$ K' = \\frac{n}{2^d} \\cdot ( 1 + d + \\frac{d \\cdot (d-1)}{2}) $$"
   ]
  },
  {
   "cell_type": "markdown",
   "id": "2c62cf3e-4722-4027-9897-a44a34948715",
   "metadata": {},
   "source": [
    "$$ K' = \\frac{n(2 + d + d^2)}{2^{d+1}}$$"
   ]
  },
  {
   "cell_type": "markdown",
   "id": "fa15725e-4e6b-4d00-aa7f-53e13d11e709",
   "metadata": {},
   "source": [
    "#### Part 4"
   ]
  },
  {
   "cell_type": "markdown",
   "id": "759a4292-782c-4a37-9d26-762602c8836f",
   "metadata": {},
   "source": [
    "As $d \\to \\infty$ and for a fixed $n, K' \\to 0$, the numerator grows by a polynomial, and the denominator grows exponentially. "
   ]
  },
  {
   "cell_type": "markdown",
   "id": "c16dad55-8f54-47d8-8786-412282d8dfe9",
   "metadata": {},
   "source": [
    "#### Part 5"
   ]
  },
  {
   "cell_type": "markdown",
   "id": "933eaae4-69e5-49a9-b9e3-396c112ce122",
   "metadata": {},
   "source": [
    "As the number of features increase (ie d), points become further apart and the expected number of points within a given distance goes to 0 (ie K'). Therefore, the predictions from KNN will not be very good since there are essentially no close neighbors for a test point from which to take a majority vote. "
   ]
  }
 ],
 "metadata": {
  "kernelspec": {
   "display_name": "Python 3 (ipykernel)",
   "language": "python",
   "name": "python3"
  },
  "language_info": {
   "codemirror_mode": {
    "name": "ipython",
    "version": 3
   },
   "file_extension": ".py",
   "mimetype": "text/x-python",
   "name": "python",
   "nbconvert_exporter": "python",
   "pygments_lexer": "ipython3",
   "version": "3.9.7"
  }
 },
 "nbformat": 4,
 "nbformat_minor": 5
}
