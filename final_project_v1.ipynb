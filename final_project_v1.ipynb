{
 "cells": [
  {
   "cell_type": "code",
   "execution_count": 67,
   "id": "68c3e460-f409-4a79-af85-bff618935d5b",
   "metadata": {},
   "outputs": [],
   "source": [
    "import pandas as pd\n",
    "import numpy as np\n",
    "import matplotlib.pyplot as plt\n",
    "import seaborn as sns\n",
    "\n",
    "import scikit_posthocs as sp\n",
    "import statsmodels.api as sm\n",
    "from statsmodels.formula.api import ols\n",
    "from scipy.stats import ttest_ind\n",
    "\n",
    "from sklearn.pipeline import Pipeline\n",
    "from sklearn.ensemble import RandomForestClassifier, GradientBoostingClassifier, AdaBoostClassifier\n",
    "from sklearn.linear_model import LogisticRegression\n",
    "from sklearn.model_selection import GridSearchCV, train_test_split, RepeatedStratifiedKFold\n",
    "\n",
    "from imblearn.under_sampling import RandomUnderSampler, TomekLinks, ClusterCentroids\n",
    "from imblearn.over_sampling import RandomOverSampler, SMOTE\n",
    "from imblearn.combine import SMOTETomek,SMOTEENN\n",
    "from imblearn.pipeline import Pipeline as imbPipeline\n",
    "from sklearn.metrics import fbeta_score, make_scorer, f1_score\n",
    "\n",
    "import time"
   ]
  },
  {
   "cell_type": "code",
   "execution_count": 3,
   "id": "ddbbb2a5-32f0-4e5f-9550-a416f0060c75",
   "metadata": {},
   "outputs": [],
   "source": [
    "# read in data \n",
    "train_df = pd.read_csv('train.csv')"
   ]
  },
  {
   "cell_type": "markdown",
   "id": "3324efff-4d93-4bd7-8a75-c0cb0a1ffe20",
   "metadata": {},
   "source": [
    "### Data Processing"
   ]
  },
  {
   "cell_type": "code",
   "execution_count": 4,
   "id": "1022609d-9aa3-44e9-8a29-d8a138176b33",
   "metadata": {},
   "outputs": [],
   "source": [
    "# make attrition into boolean\n",
    "train_df['label'] = [1 if x == 'Yes' else 0 for x in train_df['Attrition']]"
   ]
  },
  {
   "cell_type": "markdown",
   "id": "c219cad8-2266-4aef-9c61-06e5fb9db6a6",
   "metadata": {},
   "source": [
    "#### Class Categories"
   ]
  },
  {
   "cell_type": "code",
   "execution_count": 212,
   "id": "0c374b5d-1bab-44d9-854c-849552eece0d",
   "metadata": {},
   "outputs": [
    {
     "data": {
      "text/plain": [
       "Attrition\n",
       "No     1181\n",
       "Yes     159\n",
       "dtype: int64"
      ]
     },
     "execution_count": 212,
     "metadata": {},
     "output_type": "execute_result"
    }
   ],
   "source": [
    "# class balance \n",
    "train_df.groupby('Attrition').size()"
   ]
  },
  {
   "cell_type": "markdown",
   "id": "6bac6a91-a5c4-46da-be2b-112ca59e25d5",
   "metadata": {},
   "source": [
    "#### Numerical Data"
   ]
  },
  {
   "cell_type": "code",
   "execution_count": 5,
   "id": "f0bc2c59-52a8-45bf-b9c2-ae490333dd35",
   "metadata": {},
   "outputs": [],
   "source": [
    "# get all numerical data\n",
    "all_num_data = train_df[['Age', 'DailyRate', 'DistanceFromHome', \n",
    "                         'HourlyRate', 'MonthlyIncome', 'MonthlyRate', \n",
    "                         'NumCompaniesWorked','PercentSalaryHike',\n",
    "                         'TotalWorkingYears', 'TrainingTimesLastYear', \n",
    "                         'YearsAtCompany', 'YearsInCurrentRole', \n",
    "                         'YearsSinceLastPromotion',\n",
    "                         'YearsWithCurrManager']].copy()"
   ]
  },
  {
   "cell_type": "code",
   "execution_count": 6,
   "id": "6f86692e-1a66-44c8-98df-f2ba8b93e487",
   "metadata": {},
   "outputs": [],
   "source": [
    "# try making proportions of numeric data \n",
    "all_num_data['prop_at_company'] = all_num_data.loc[:, 'YearsAtCompany']/ \n",
    "    all_num_data.loc[:, 'TotalWorkingYears']\n",
    "all_num_data['prop_in_role'] = all_num_data.loc[:,'YearsInCurrentRole'] / \n",
    "    all_num_data.loc[:,'YearsAtCompany']\n",
    "all_num_data['prop_manager'] = all_num_data.loc[:,'YearsWithCurrManager'] / \n",
    "    all_num_data.loc[:,'YearsAtCompany']\n",
    "all_num_data['starting_age'] = all_num_data.loc[:,'Age'] - \n",
    "    all_num_data.loc[:,'TotalWorkingYears']"
   ]
  },
  {
   "cell_type": "code",
   "execution_count": null,
   "id": "e57ed8c5-588c-437c-93c9-c7281fceb201",
   "metadata": {},
   "outputs": [],
   "source": [
    "# t-test results \n",
    "# sig \n",
    "# Age\n",
    "# DistanceFromHome\n",
    "# MonthlyIncome\n",
    "# TotalWorkingYears\n",
    "# YearsAtCompany\n",
    "# YearsInCurrentRole\n",
    "# YearsSinceLastPromotion\n",
    "# YearsWithCurrManager\n",
    "\n",
    "# not really \n",
    "# DailyRate 0.04\n",
    "\n",
    "# not sig\n",
    "# HourlyRate\n",
    "# MonthlyRate\n",
    "# NumCompaniesWorked\n",
    "# PercentSalaryHike\n",
    "# TrainingTimesLastYear"
   ]
  },
  {
   "cell_type": "code",
   "execution_count": 168,
   "id": "a99ecafe-1d79-4f9a-8c5c-f33a6d9bcf26",
   "metadata": {},
   "outputs": [
    {
     "data": {
      "text/plain": [
       "Ttest_indResult(statistic=-9.447424555409121, pvalue=3.537021583242409e-18)"
      ]
     },
     "execution_count": 168,
     "metadata": {},
     "output_type": "execute_result"
    }
   ],
   "source": [
    "# two sample t tests\n",
    "ttest_ind(train_df.YearsWithCurrManager[train_df.label == 1] , \n",
    "          train_df.YearsWithCurrManager[train_df.label == 0], \n",
    "          equal_var=False)"
   ]
  },
  {
   "cell_type": "markdown",
   "id": "777924c7-5f2f-4efd-b79c-08ba0fadd939",
   "metadata": {},
   "source": [
    "#### Categorical Data"
   ]
  },
  {
   "cell_type": "code",
   "execution_count": 117,
   "id": "efc2ac66-6c9b-458b-9b8c-0cc09141a04b",
   "metadata": {},
   "outputs": [],
   "source": [
    "# anova results \n",
    "# not sig \n",
    "# department\n",
    "# education\n",
    "# education field \n",
    "# Gender\n",
    "# PerformanceRating\n",
    "# RelationshipSatisfaction\n",
    "\n",
    "# not really\n",
    "# JobSatisfaction 0.04 but no pairwise sig\n",
    "# WorkLifeBalance only a little bit  (1 vs not)\n",
    "\n",
    "# sig\n",
    "# business travel \n",
    "# EnvironmentSatisfaction\n",
    "# JobInvolvement !\n",
    "# JobLevel !\n",
    "# JobRole !\n",
    "# MaritalStatus\n",
    "# OverTime !\n",
    "# Shift!\n"
   ]
  },
  {
   "cell_type": "code",
   "execution_count": 143,
   "id": "96e2c78d-d7f6-4364-b8dc-6620f99950cb",
   "metadata": {},
   "outputs": [
    {
     "data": {
      "text/html": [
       "<div>\n",
       "<style scoped>\n",
       "    .dataframe tbody tr th:only-of-type {\n",
       "        vertical-align: middle;\n",
       "    }\n",
       "\n",
       "    .dataframe tbody tr th {\n",
       "        vertical-align: top;\n",
       "    }\n",
       "\n",
       "    .dataframe thead th {\n",
       "        text-align: right;\n",
       "    }\n",
       "</style>\n",
       "<table border=\"1\" class=\"dataframe\">\n",
       "  <thead>\n",
       "    <tr style=\"text-align: right;\">\n",
       "      <th></th>\n",
       "      <th>sum_sq</th>\n",
       "      <th>df</th>\n",
       "      <th>F</th>\n",
       "      <th>PR(&gt;F)</th>\n",
       "    </tr>\n",
       "  </thead>\n",
       "  <tbody>\n",
       "    <tr>\n",
       "      <th>C(WorkLifeBalance)</th>\n",
       "      <td>2.136707</td>\n",
       "      <td>3.0</td>\n",
       "      <td>6.895423</td>\n",
       "      <td>0.000131</td>\n",
       "    </tr>\n",
       "    <tr>\n",
       "      <th>Residual</th>\n",
       "      <td>137.996875</td>\n",
       "      <td>1336.0</td>\n",
       "      <td>NaN</td>\n",
       "      <td>NaN</td>\n",
       "    </tr>\n",
       "  </tbody>\n",
       "</table>\n",
       "</div>"
      ],
      "text/plain": [
       "                        sum_sq      df         F    PR(>F)\n",
       "C(WorkLifeBalance)    2.136707     3.0  6.895423  0.000131\n",
       "Residual            137.996875  1336.0       NaN       NaN"
      ]
     },
     "execution_count": 143,
     "metadata": {},
     "output_type": "execute_result"
    }
   ],
   "source": [
    "# anova test \n",
    "model = ols('label ~ C(WorkLifeBalance)', data=train_df).fit()\n",
    "anova_table = sm.stats.anova_lm(model, typ=2)\n",
    "anova_table"
   ]
  },
  {
   "cell_type": "code",
   "execution_count": 144,
   "id": "1f133691-1c17-40e3-b701-5f7fc565165b",
   "metadata": {},
   "outputs": [
    {
     "data": {
      "text/html": [
       "<div>\n",
       "<style scoped>\n",
       "    .dataframe tbody tr th:only-of-type {\n",
       "        vertical-align: middle;\n",
       "    }\n",
       "\n",
       "    .dataframe tbody tr th {\n",
       "        vertical-align: top;\n",
       "    }\n",
       "\n",
       "    .dataframe thead th {\n",
       "        text-align: right;\n",
       "    }\n",
       "</style>\n",
       "<table border=\"1\" class=\"dataframe\">\n",
       "  <thead>\n",
       "    <tr style=\"text-align: right;\">\n",
       "      <th></th>\n",
       "      <th>3</th>\n",
       "      <th>2</th>\n",
       "      <th>1</th>\n",
       "      <th>4</th>\n",
       "    </tr>\n",
       "  </thead>\n",
       "  <tbody>\n",
       "    <tr>\n",
       "      <th>3</th>\n",
       "      <td>1.000000</td>\n",
       "      <td>0.214708</td>\n",
       "      <td>0.012222</td>\n",
       "      <td>0.597453</td>\n",
       "    </tr>\n",
       "    <tr>\n",
       "      <th>2</th>\n",
       "      <td>0.214708</td>\n",
       "      <td>1.000000</td>\n",
       "      <td>0.100920</td>\n",
       "      <td>0.801794</td>\n",
       "    </tr>\n",
       "    <tr>\n",
       "      <th>1</th>\n",
       "      <td>0.012222</td>\n",
       "      <td>0.100920</td>\n",
       "      <td>1.000000</td>\n",
       "      <td>0.100920</td>\n",
       "    </tr>\n",
       "    <tr>\n",
       "      <th>4</th>\n",
       "      <td>0.597453</td>\n",
       "      <td>0.801794</td>\n",
       "      <td>0.100920</td>\n",
       "      <td>1.000000</td>\n",
       "    </tr>\n",
       "  </tbody>\n",
       "</table>\n",
       "</div>"
      ],
      "text/plain": [
       "          3         2         1         4\n",
       "3  1.000000  0.214708  0.012222  0.597453\n",
       "2  0.214708  1.000000  0.100920  0.801794\n",
       "1  0.012222  0.100920  1.000000  0.100920\n",
       "4  0.597453  0.801794  0.100920  1.000000"
      ]
     },
     "execution_count": 144,
     "metadata": {},
     "output_type": "execute_result"
    }
   ],
   "source": [
    "# pairwise step down t-tests \n",
    "sp.posthoc_ttest(train_df, val_col='label',group_col ='WorkLifeBalance', \n",
    "                 equal_var=False, p_adjust = 'holm')"
   ]
  },
  {
   "cell_type": "markdown",
   "id": "5855adaf-b743-4eb1-8564-e01a4f68843a",
   "metadata": {},
   "source": [
    "### EDA"
   ]
  },
  {
   "cell_type": "code",
   "execution_count": 63,
   "id": "b0572d8f-4bff-4cfc-aca7-535ab3b96feb",
   "metadata": {},
   "outputs": [
    {
     "data": {
      "text/plain": [
       "<seaborn.axisgrid.FacetGrid at 0x7f9530c08d00>"
      ]
     },
     "execution_count": 63,
     "metadata": {},
     "output_type": "execute_result"
    },
    {
     "data": {
      "image/png": "[encoded data removed]",
      "text/plain": [
       "<Figure size 1080x720 with 6 Axes>"
      ]
     },
     "metadata": {
      "needs_background": "light"
     },
     "output_type": "display_data"
    }
   ],
   "source": [
    "# numerical boxplot\n",
    "# facetting numeric\n",
    "num_melt_data = train_df[['Attrition', 'Age', 'MonthlyIncome', \n",
    "       'TotalWorkingYears', \n",
    "       'YearsAtCompany', 'YearsInCurrentRole', \n",
    "       'YearsWithCurrManager']].melt(id_vars = 'Attrition',\n",
    "                                     var_name = 'column', \n",
    "                                     value_name = 'value')\n",
    "\n",
    "sns.catplot(\n",
    "    data=num_melt_data, x='Attrition', y='value',\n",
    "    col='column', kind='box', col_wrap=3, sharey=False\n",
    ")"
   ]
  },
  {
   "cell_type": "code",
   "execution_count": 65,
   "id": "d3f4947d-3cd8-474b-acf9-514fb91f7b06",
   "metadata": {},
   "outputs": [
    {
     "data": {
      "text/plain": [
       "<AxesSubplot:>"
      ]
     },
     "execution_count": 65,
     "metadata": {},
     "output_type": "execute_result"
    },
    {
     "data": {
      "image/png": "[encoded data removed]",
      "text/plain": [
       "<Figure size 792x648 with 2 Axes>"
      ]
     },
     "metadata": {
      "needs_background": "light"
     },
     "output_type": "display_data"
    }
   ],
   "source": [
    "# correlation matrix for predictors \n",
    "# numeric significant predictors \n",
    "corr = train_df[['Age', 'DistanceFromHome', 'MonthlyIncome', \n",
    "       'TotalWorkingYears', \n",
    "       'YearsAtCompany', 'YearsInCurrentRole', \n",
    "             'YearsSinceLastPromotion',\n",
    "       'YearsWithCurrManager']].corr()\n",
    "\n",
    "# Generate a mask for the upper triangle\n",
    "mask = np.triu(np.ones_like(corr, dtype=bool))\n",
    "\n",
    "# Set up the matplotlib figure\n",
    "f, ax = plt.subplots(figsize=(11, 9))\n",
    "\n",
    "# Generate a custom diverging colormap\n",
    "cmap = sns.color_palette(\"Blues\", as_cmap=True)\n",
    "\n",
    "# Draw the heatmap with the mask and correct aspect ratio\n",
    "sns.heatmap(corr, mask=mask, cmap=cmap, vmax=1, center=0.5, annot = True,\n",
    "            square=True, linewidths=.5, cbar_kws={\"shrink\": .5})"
   ]
  },
  {
   "cell_type": "code",
   "execution_count": 66,
   "id": "0041e7be-6db8-48d9-bce0-91e83b072c51",
   "metadata": {},
   "outputs": [
    {
     "data": {
      "text/plain": [
       "<AxesSubplot:xlabel='Job Involvement', ylabel='Proportion Attrition'>"
      ]
     },
     "execution_count": 66,
     "metadata": {},
     "output_type": "execute_result"
    },
    {
     "data": {
      "image/png": "[encoded data removed]",
      "text/plain": [
       "<Figure size 432x288 with 1 Axes>"
      ]
     },
     "metadata": {
      "needs_background": "light"
     },
     "output_type": "display_data"
    }
   ],
   "source": [
    "# categorical barplot\n",
    "train_df.groupby(['EducationField', 'JobInvolvement']).agg(\n",
    "    {'label':'mean'}).reset_index().rename(\n",
    "    columns={'label':'Proportion Attrition', \n",
    "             'EducationField':'Education Field', \n",
    "             'JobInvolvement':'Job Involvement'}\n",
    ").pipe((sns.barplot, \"data\"), x='Job Involvement', \n",
    "       y='Proportion Attrition', hue='Education Field')"
   ]
  },
  {
   "cell_type": "code",
   "execution_count": 6,
   "id": "2a93f450-b217-43da-b987-f9cfd8b9b6bc",
   "metadata": {},
   "outputs": [],
   "source": [
    "# subset data based on feature selection\n",
    "sig_num_data = train_df[['Age','DistanceFromHome','MonthlyIncome',\n",
    "                         'TotalWorkingYears','YearsAtCompany',\n",
    "                         'YearsInCurrentRole','YearsSinceLastPromotion',\n",
    "                         'YearsWithCurrManager',]]\n",
    "sig_cat_data = train_df[['BusinessTravel', 'EnvironmentSatisfaction', \n",
    "                         'JobInvolvement', 'JobLevel', 'MaritalStatus', \n",
    "                         'OverTime', 'Shift']]\n",
    "\n",
    "# make dummies \n",
    "sig_dummy_data = pd.get_dummies(sig_cat_data)\n",
    "\n",
    "# add specific dummy for work life balance 1 vs not\n",
    "sig_dummy_data['WorkLifeBalance_1'] = [1 if x == 1 else 0 \n",
    "                                       for x in train_df['WorkLifeBalance']]"
   ]
  },
  {
   "cell_type": "code",
   "execution_count": 7,
   "id": "f14166c4-6c81-4168-a66c-a38202cfef5f",
   "metadata": {},
   "outputs": [],
   "source": [
    "# get all data, not just significant predictors \n",
    "cat_data = train_df[['BusinessTravel', 'Department', 'Education', \n",
    "                     'EducationField', 'EnvironmentSatisfaction', \n",
    "                     'Gender', 'JobInvolvement', 'JobLevel', 'JobRole', \n",
    "                     'JobSatisfaction', 'MaritalStatus', 'Over18', \n",
    "                     'OverTime', 'PerformanceRating','RelationshipSatisfaction', \n",
    "                     'Shift','WorkLifeBalance']].astype('category')\n",
    "dummy_data = pd.get_dummies(cat_data)\n",
    "\n",
    "num_data = train_df[['Age', 'DailyRate', 'DistanceFromHome', 'HourlyRate', \n",
    "                     'MonthlyIncome', 'MonthlyRate', 'NumCompaniesWorked',\n",
    "                     'PercentSalaryHike','TotalWorkingYears', \n",
    "                     'TrainingTimesLastYear', 'YearsAtCompany', \n",
    "                     'YearsInCurrentRole', 'YearsSinceLastPromotion',\n",
    "                     'YearsWithCurrManager']]"
   ]
  },
  {
   "cell_type": "code",
   "execution_count": 8,
   "id": "f6c45042-003e-4dab-88df-5630f8ede200",
   "metadata": {},
   "outputs": [],
   "source": [
    "# make train data on all \n",
    "train_df_2 = pd.concat([train_df.label, num_data, dummy_data], axis =1)\n",
    "X2 = train_df_2.drop(columns=['label']).copy()\n",
    "y2 = train_df_2.label.copy()"
   ]
  },
  {
   "cell_type": "code",
   "execution_count": 7,
   "id": "44adc89e-71cd-4261-a3e2-aa3b8a5275f4",
   "metadata": {},
   "outputs": [],
   "source": [
    "# make train data on sig\n",
    "# train_df_sig = pd.concat([train_df.label, sig_num_data, sig_dummy_data], axis =1)\n",
    "\n",
    "# X = train_df_sig.drop(columns=['label']).copy()\n",
    "# y = train_df_sig.label.copy()"
   ]
  },
  {
   "cell_type": "markdown",
   "id": "22afaf2a-8d3d-4c85-a0d7-9de6aae932fc",
   "metadata": {
    "tags": []
   },
   "source": [
    "### Model Tuning "
   ]
  },
  {
   "cell_type": "code",
   "execution_count": 129,
   "id": "517a9e8d-ef6f-4e29-8a90-99edd50dc47c",
   "metadata": {},
   "outputs": [],
   "source": [
    "# hyperparameter tuning \n",
    "def tuning(X_train, y_train):\n",
    "    ''' takes a given X and y and tunes for smote & under \n",
    "    and smote & tomek,as well as random forest, gradient boosting, \n",
    "    and Adaboost models - returns the cv results and the model fit \n",
    "    for the best one of each models'''\n",
    "    \n",
    "    # create scores\n",
    "    scoring = {\"AUC\": \"roc_auc\", 'F1': 'f1_weighted'}\n",
    "    \n",
    "    \n",
    "    # create pipeline\n",
    "    # smote and undersampling with 3 neighbors\n",
    "    both3_pipe = imbPipeline([\n",
    "        ('over', SMOTE(k_neighbors=3)), \n",
    "        ('under', RandomUnderSampler()),\n",
    "        ('classifier', RandomForestClassifier()) \n",
    "    ])\n",
    "    # smote and undersampling with 5 neighbors\n",
    "    both5_pipe = imbPipeline([\n",
    "        ('over', SMOTE(k_neighbors=5)), \n",
    "        ('under', RandomUnderSampler()),\n",
    "        ('classifier', RandomForestClassifier()) \n",
    "    ])\n",
    "    # smote w tomek links with 3 neighbors\n",
    "    smt3_pipe = imbPipeline([\n",
    "        ('resampling', SMOTETomek(smote= SMOTE(sampling_strategy='minority', \n",
    "                                               k_neighbors=3))),\n",
    "        ('classifier' , RandomForestClassifier())])\n",
    "    # smote w tomek links with 5 neighbors\n",
    "    smt5_pipe = imbPipeline([\n",
    "        ('resampling', SMOTETomek(smote= SMOTE(sampling_strategy='minority',\n",
    "                                               k_neighbors=5))),\n",
    "        ('classifier' , RandomForestClassifier())])\n",
    "    \n",
    "    # set params for steps of pipeline \n",
    "    param_grid = [\n",
    "        {'classifier' : [RandomForestClassifier()],\n",
    "        'classifier__n_estimators' : list(range(25,251,25)),\n",
    "        'classifier__max_features' : ['log2', 'sqrt'],\n",
    "        'classifier__max_depth' : list(range(1, 6))},\n",
    "        {'classifier' : [GradientBoostingClassifier()],\n",
    "        'classifier__n_estimators' : list(range(25,251,25)),\n",
    "        'classifier__max_features' : ['log2', 'sqrt'],\n",
    "        'classifier__max_depth' : list(range(1, 6))},\n",
    "        {'classifier' : [AdaBoostClassifier()],\n",
    "        'classifier__n_estimators': list(range(10,51,10)),\n",
    "         'classifier__learning_rate': [0.0001, 0.001, 0.01, 0.1, 1.0]}\n",
    "    ]\n",
    "\n",
    "    # create folds for cv\n",
    "    folds = RepeatedStratifiedKFold(n_repeats=5, random_state=512)\n",
    "    \n",
    "    # grid search through param grid\n",
    "    both3_gscv = GridSearchCV(both3_pipe, param_grid = param_grid, \n",
    "                              cv = folds, verbose=0, scoring=scoring, \n",
    "                              refit='AUC',)\n",
    "    smt3_gscv = GridSearchCV(smt3_pipe, param_grid = param_grid, \n",
    "                             cv = folds, verbose=0, scoring=scoring, \n",
    "                             refit='AUC',)\n",
    "    both5_gscv = GridSearchCV(both5_pipe, param_grid = param_grid, \n",
    "                              cv = folds, verbose=0, scoring=scoring, \n",
    "                              refit='AUC',)\n",
    "    smt5_gscv = GridSearchCV(smt5_pipe, param_grid = param_grid, \n",
    "                             cv = folds, verbose=0, scoring=scoring, \n",
    "                             refit='AUC',)\n",
    "    \n",
    "\n",
    "    # fit on data\n",
    "    smt3_gscv.fit(X_train, y_train)\n",
    "    both3_gscv.fit(X_train, y_train)\n",
    "    print('finished k-3')\n",
    "    \n",
    "    smt5_gscv.fit(X_train, y_train)\n",
    "    both5_gscv.fit(X_train, y_train)\n",
    "    print('finished k-5')\n",
    "\n",
    "    return [smt3_gscv, smt5_gscv, both3_gscv, both5_gscv]"
   ]
  },
  {
   "cell_type": "code",
   "execution_count": 12,
   "id": "37dc0d8e-cef4-456d-a05f-ec16faf05454",
   "metadata": {},
   "outputs": [
    {
     "name": "stdout",
     "output_type": "stream",
     "text": [
      "finished k-3\n",
      "finished k-5\n"
     ]
    }
   ],
   "source": [
    "# time training\n",
    "start_train = time.time()\n",
    "smt_res3_v3,smt_res5_v3, both_res3_v3, both_res5_v3 = tuning(X2, y2)\n",
    "end_train = time.time()"
   ]
  },
  {
   "cell_type": "code",
   "execution_count": 13,
   "id": "d3e48cfd-2163-4064-836a-14e68b70fb82",
   "metadata": {},
   "outputs": [
    {
     "data": {
      "text/plain": [
       "5310.188762664795"
      ]
     },
     "execution_count": 13,
     "metadata": {},
     "output_type": "execute_result"
    }
   ],
   "source": [
    "# train time \n",
    "end_train-start_train"
   ]
  },
  {
   "cell_type": "markdown",
   "id": "c6f02484-a37c-4bd7-bb5f-4926988e49dc",
   "metadata": {},
   "source": [
    "#### Find best hyperparameter & model"
   ]
  },
  {
   "cell_type": "code",
   "execution_count": 177,
   "id": "090be5de-0299-424e-8011-f7c865db17c4",
   "metadata": {},
   "outputs": [],
   "source": [
    "# getting cv results \n",
    "smt_res3_df = pd.DataFrame(smt_res3_v3.cv_results_)\n",
    "smt_res5_df = pd.DataFrame(smt_res5_v3.cv_results_)\n",
    "both_res3_df = pd.DataFrame(both_res3_v3.cv_results_)\n",
    "both_res5_df = pd.DataFrame(both_res5_v3.cv_results_)"
   ]
  },
  {
   "cell_type": "code",
   "execution_count": 178,
   "id": "b2ed278e-35f3-4c52-bf61-057bcdbd09ac",
   "metadata": {},
   "outputs": [
    {
     "data": {
      "text/plain": [
       "0.9342203904899563"
      ]
     },
     "execution_count": 178,
     "metadata": {},
     "output_type": "execute_result"
    }
   ],
   "source": [
    "both_res3_df.mean_test_F1.max()"
   ]
  },
  {
   "cell_type": "code",
   "execution_count": 179,
   "id": "155180cd-567d-4b51-b897-95f10af09a34",
   "metadata": {},
   "outputs": [
    {
     "data": {
      "text/plain": [
       "0.9342462602807566"
      ]
     },
     "execution_count": 179,
     "metadata": {},
     "output_type": "execute_result"
    }
   ],
   "source": [
    "both_res5_df.mean_test_F1.max()"
   ]
  },
  {
   "cell_type": "code",
   "execution_count": 180,
   "id": "36d8be11-d874-4254-a553-1740b3221088",
   "metadata": {},
   "outputs": [
    {
     "data": {
      "text/plain": [
       "0.9346943639144921"
      ]
     },
     "execution_count": 180,
     "metadata": {},
     "output_type": "execute_result"
    }
   ],
   "source": [
    "smt_res3_df.mean_test_F1.max()"
   ]
  },
  {
   "cell_type": "code",
   "execution_count": 181,
   "id": "36088dc1-bb4d-4f2c-9e7a-bb1f42192f84",
   "metadata": {},
   "outputs": [
    {
     "data": {
      "text/plain": [
       "0.9352922047035329"
      ]
     },
     "execution_count": 181,
     "metadata": {},
     "output_type": "execute_result"
    }
   ],
   "source": [
    "smt_res5_df.mean_test_F1.max()"
   ]
  },
  {
   "cell_type": "code",
   "execution_count": 184,
   "id": "2dc0575a-3908-4812-9e6f-9fc1851b788e",
   "metadata": {},
   "outputs": [
    {
     "data": {
      "text/plain": [
       "[{'classifier': GradientBoostingClassifier(max_depth=2, max_features='sqrt', n_estimators=250),\n",
       "  'classifier__max_depth': 2,\n",
       "  'classifier__max_features': 'log2',\n",
       "  'classifier__n_estimators': 250}]"
      ]
     },
     "execution_count": 184,
     "metadata": {},
     "output_type": "execute_result"
    }
   ],
   "source": [
    "# finding params based on the model config that had highest mean F1 score \n",
    "list(smt_res5_df.params[smt_res5_df.mean_test_F1 == \n",
    "                        smt_res5_df.mean_test_F1.max()]) "
   ]
  },
  {
   "cell_type": "code",
   "execution_count": 185,
   "id": "0c4598ef-3137-4e45-a43e-c50b2d35e4d6",
   "metadata": {},
   "outputs": [
    {
     "data": {
      "text/html": [
       "<style>#sk-container-id-7 {color: black;background-color: white;}#sk-container-id-7 pre{padding: 0;}#sk-container-id-7 div.sk-toggleable {background-color: white;}#sk-container-id-7 label.sk-toggleable__label {cursor: pointer;display: block;width: 100%;margin-bottom: 0;padding: 0.3em;box-sizing: border-box;text-align: center;}#sk-container-id-7 label.sk-toggleable__label-arrow:before {content: \"▸\";float: left;margin-right: 0.25em;color: #696969;}#sk-container-id-7 label.sk-toggleable__label-arrow:hover:before {color: black;}#sk-container-id-7 div.sk-estimator:hover label.sk-toggleable__label-arrow:before {color: black;}#sk-container-id-7 div.sk-toggleable__content {max-height: 0;max-width: 0;overflow: hidden;text-align: left;background-color: #f0f8ff;}#sk-container-id-7 div.sk-toggleable__content pre {margin: 0.2em;color: black;border-radius: 0.25em;background-color: #f0f8ff;}#sk-container-id-7 input.sk-toggleable__control:checked~div.sk-toggleable__content {max-height: 200px;max-width: 100%;overflow: auto;}#sk-container-id-7 input.sk-toggleable__control:checked~label.sk-toggleable__label-arrow:before {content: \"▾\";}#sk-container-id-7 div.sk-estimator input.sk-toggleable__control:checked~label.sk-toggleable__label {background-color: #d4ebff;}#sk-container-id-7 div.sk-label input.sk-toggleable__control:checked~label.sk-toggleable__label {background-color: #d4ebff;}#sk-container-id-7 input.sk-hidden--visually {border: 0;clip: rect(1px 1px 1px 1px);clip: rect(1px, 1px, 1px, 1px);height: 1px;margin: -1px;overflow: hidden;padding: 0;position: absolute;width: 1px;}#sk-container-id-7 div.sk-estimator {font-family: monospace;background-color: #f0f8ff;border: 1px dotted black;border-radius: 0.25em;box-sizing: border-box;margin-bottom: 0.5em;}#sk-container-id-7 div.sk-estimator:hover {background-color: #d4ebff;}#sk-container-id-7 div.sk-parallel-item::after {content: \"\";width: 100%;border-bottom: 1px solid gray;flex-grow: 1;}#sk-container-id-7 div.sk-label:hover label.sk-toggleable__label {background-color: #d4ebff;}#sk-container-id-7 div.sk-serial::before {content: \"\";position: absolute;border-left: 1px solid gray;box-sizing: border-box;top: 0;bottom: 0;left: 50%;z-index: 0;}#sk-container-id-7 div.sk-serial {display: flex;flex-direction: column;align-items: center;background-color: white;padding-right: 0.2em;padding-left: 0.2em;position: relative;}#sk-container-id-7 div.sk-item {position: relative;z-index: 1;}#sk-container-id-7 div.sk-parallel {display: flex;align-items: stretch;justify-content: center;background-color: white;position: relative;}#sk-container-id-7 div.sk-item::before, #sk-container-id-7 div.sk-parallel-item::before {content: \"\";position: absolute;border-left: 1px solid gray;box-sizing: border-box;top: 0;bottom: 0;left: 50%;z-index: -1;}#sk-container-id-7 div.sk-parallel-item {display: flex;flex-direction: column;z-index: 1;position: relative;background-color: white;}#sk-container-id-7 div.sk-parallel-item:first-child::after {align-self: flex-end;width: 50%;}#sk-container-id-7 div.sk-parallel-item:last-child::after {align-self: flex-start;width: 50%;}#sk-container-id-7 div.sk-parallel-item:only-child::after {width: 0;}#sk-container-id-7 div.sk-dashed-wrapped {border: 1px dashed gray;margin: 0 0.4em 0.5em 0.4em;box-sizing: border-box;padding-bottom: 0.4em;background-color: white;}#sk-container-id-7 div.sk-label label {font-family: monospace;font-weight: bold;display: inline-block;line-height: 1.2em;}#sk-container-id-7 div.sk-label-container {text-align: center;}#sk-container-id-7 div.sk-container {/* jupyter's `normalize.less` sets `[hidden] { display: none; }` but bootstrap.min.css set `[hidden] { display: none !important; }` so we also need the `!important` here to be able to override the default hidden behavior on the sphinx rendered scikit-learn.org. See: https://github.com/scikit-learn/scikit-learn/issues/21755 */display: inline-block !important;position: relative;}#sk-container-id-7 div.sk-text-repr-fallback {display: none;}</style><div id=\"sk-container-id-7\" class=\"sk-top-container\"><div class=\"sk-text-repr-fallback\"><pre>Pipeline(steps=[(&#x27;resampling&#x27;,\n",
       "                 SMOTETomek(smote=SMOTE(sampling_strategy=&#x27;minority&#x27;))),\n",
       "                (&#x27;classifier&#x27;,\n",
       "                 GradientBoostingClassifier(max_depth=2, max_features=&#x27;log2&#x27;,\n",
       "                                            n_estimators=250))])</pre><b>In a Jupyter environment, please rerun this cell to show the HTML representation or trust the notebook. <br />On GitHub, the HTML representation is unable to render, please try loading this page with nbviewer.org.</b></div><div class=\"sk-container\" hidden><div class=\"sk-item sk-dashed-wrapped\"><div class=\"sk-label-container\"><div class=\"sk-label sk-toggleable\"><input class=\"sk-toggleable__control sk-hidden--visually\" id=\"sk-estimator-id-28\" type=\"checkbox\" ><label for=\"sk-estimator-id-28\" class=\"sk-toggleable__label sk-toggleable__label-arrow\">Pipeline</label><div class=\"sk-toggleable__content\"><pre>Pipeline(steps=[(&#x27;resampling&#x27;,\n",
       "                 SMOTETomek(smote=SMOTE(sampling_strategy=&#x27;minority&#x27;))),\n",
       "                (&#x27;classifier&#x27;,\n",
       "                 GradientBoostingClassifier(max_depth=2, max_features=&#x27;log2&#x27;,\n",
       "                                            n_estimators=250))])</pre></div></div></div><div class=\"sk-serial\"><div class=\"sk-item sk-dashed-wrapped\"><div class=\"sk-label-container\"><div class=\"sk-label sk-toggleable\"><input class=\"sk-toggleable__control sk-hidden--visually\" id=\"sk-estimator-id-29\" type=\"checkbox\" ><label for=\"sk-estimator-id-29\" class=\"sk-toggleable__label sk-toggleable__label-arrow\">resampling: SMOTETomek</label><div class=\"sk-toggleable__content\"><pre>SMOTETomek(smote=SMOTE(sampling_strategy=&#x27;minority&#x27;))</pre></div></div></div><div class=\"sk-parallel\"><div class=\"sk-parallel-item\"><div class=\"sk-item\"><div class=\"sk-label-container\"><div class=\"sk-label sk-toggleable\"><input class=\"sk-toggleable__control sk-hidden--visually\" id=\"sk-estimator-id-30\" type=\"checkbox\" ><label for=\"sk-estimator-id-30\" class=\"sk-toggleable__label sk-toggleable__label-arrow\">smote: SMOTE</label><div class=\"sk-toggleable__content\"><pre>SMOTE(sampling_strategy=&#x27;minority&#x27;)</pre></div></div></div><div class=\"sk-serial\"><div class=\"sk-item\"><div class=\"sk-estimator sk-toggleable\"><input class=\"sk-toggleable__control sk-hidden--visually\" id=\"sk-estimator-id-31\" type=\"checkbox\" ><label for=\"sk-estimator-id-31\" class=\"sk-toggleable__label sk-toggleable__label-arrow\">SMOTE</label><div class=\"sk-toggleable__content\"><pre>SMOTE(sampling_strategy=&#x27;minority&#x27;)</pre></div></div></div></div></div></div></div></div><div class=\"sk-item\"><div class=\"sk-estimator sk-toggleable\"><input class=\"sk-toggleable__control sk-hidden--visually\" id=\"sk-estimator-id-32\" type=\"checkbox\" ><label for=\"sk-estimator-id-32\" class=\"sk-toggleable__label sk-toggleable__label-arrow\">GradientBoostingClassifier</label><div class=\"sk-toggleable__content\"><pre>GradientBoostingClassifier(max_depth=2, max_features=&#x27;log2&#x27;, n_estimators=250)</pre></div></div></div></div></div></div></div>"
      ],
      "text/plain": [
       "Pipeline(steps=[('resampling',\n",
       "                 SMOTETomek(smote=SMOTE(sampling_strategy='minority'))),\n",
       "                ('classifier',\n",
       "                 GradientBoostingClassifier(max_depth=2, max_features='log2',\n",
       "                                            n_estimators=250))])"
      ]
     },
     "execution_count": 185,
     "metadata": {},
     "output_type": "execute_result"
    }
   ],
   "source": [
    "# fitting model based on above params - this is the classifier used to make predictions\n",
    "t = imbPipeline([\n",
    "        ('resampling', SMOTETomek(smote= SMOTE(sampling_strategy='minority', \n",
    "                                               k_neighbors=5))),\n",
    "        ('classifier' , GradientBoostingClassifier(max_depth=2, \n",
    "                                                   max_features='log2', n_estimators=250))])\n",
    "t.fit(X2, y2)"
   ]
  },
  {
   "cell_type": "markdown",
   "id": "cb199af2-8f30-442c-bfa9-992da5c8a899",
   "metadata": {},
   "source": [
    "#### Table on training results"
   ]
  },
  {
   "cell_type": "code",
   "execution_count": 202,
   "id": "553a02f9-395e-44a1-aab5-a4cb294f3ba0",
   "metadata": {},
   "outputs": [],
   "source": [
    "# find best F1 / AUC of each model for each sampling method \n",
    "\n",
    "# get results, and make classifier column into string \n",
    "both_res5_df['classifier_str'] = both_res5_df1.param_classifier.astype('str')\n",
    "both_res3_df['classifier_str'] = both_res3_df1.param_classifier.astype('str')\n",
    "smt_res5_df['classifier_str'] = smt_res5_df1.param_classifier.astype('str')\n",
    "smt_res3_df['classifier_str'] = smt_res3_df1.param_classifier.astype('str')\n",
    "\n",
    "smt3_gb = smt_res3_df[smt_res3_df.classifier_str\n",
    "                      .str.contains('Gradient')].copy()\n",
    "smt3_gb['params_str'] = smt3_gb.params.astype('str')\n",
    "\n",
    "smt5_gb = smt_res5_df[smt_res5_df.classifier_str\n",
    "                      .str.contains('Gradient')].copy()\n",
    "smt5_gb['params_str'] = smt5_gb.params.astype('str')\n",
    "\n",
    "both3_gb = both_res3_df[both_res3_df.classifier_str\n",
    "                        .str.contains('Gradient')].copy()\n",
    "both3_gb['params_str'] = both3_gb.params.astype('str')\n",
    "\n",
    "both5_gb = both_res5_df[both_res5_df.classifier_str\n",
    "                        .str.contains('Gradient')].copy()\n",
    "both5_gb['params_str'] = both5_gb.params.astype('str')"
   ]
  },
  {
   "cell_type": "code",
   "execution_count": 195,
   "id": "cb3e1b95-4c05-4008-be9e-eb6bcd6c9729",
   "metadata": {},
   "outputs": [
    {
     "name": "stdout",
     "output_type": "stream",
     "text": [
      "0.9144308019945826\n",
      "0.925142211135411\n"
     ]
    }
   ],
   "source": [
    "# find max F1 for sampling type and rf\n",
    "print(smt_res5_df1[smt_res5_df1.classifier_str\n",
    "                   .str.contains('Forest')]['mean_test_F1'].max())\n",
    "# find max AUC for sampling type and rf\n",
    "print(smt_res5_df1[smt_res5_df1.classifier_str\n",
    "                   .str.contains('Forest')]['mean_test_AUC'].max())"
   ]
  },
  {
   "cell_type": "code",
   "execution_count": 196,
   "id": "591ff55c-22cd-4371-a67f-da17a501027f",
   "metadata": {},
   "outputs": [
    {
     "name": "stdout",
     "output_type": "stream",
     "text": [
      "0.9352922047035329\n",
      "0.9524377873593051\n"
     ]
    }
   ],
   "source": [
    "# find max F1 for sampling type and gb\n",
    "print(smt_res5_df1[smt_res5_df1.classifier_str\n",
    "                   .str.contains('Gradient')]['mean_test_F1'].max())\n",
    "# find max AUC for sampling type and gb\n",
    "print(smt_res5_df1[smt_res5_df1.classifier_str\n",
    "                   .str.contains('Gradient')]['mean_test_AUC'].max())"
   ]
  },
  {
   "cell_type": "code",
   "execution_count": 197,
   "id": "261206f0-59cf-485f-87de-867121215735",
   "metadata": {},
   "outputs": [
    {
     "name": "stdout",
     "output_type": "stream",
     "text": [
      "0.9229145433912884\n",
      "0.9321965518901985\n"
     ]
    }
   ],
   "source": [
    "# find max F1 for sampling type and ab\n",
    "print(smt_res5_df1[smt_res5_df1.classifier_str\n",
    "                   .str.contains('AdaBoost')]['mean_test_F1'].max())\n",
    "# find max AUC for sampling type and ab\n",
    "print(smt_res5_df1[smt_res5_df1.classifier_str\n",
    "                   .str.contains('AdaBoost')]['mean_test_AUC'].max())"
   ]
  },
  {
   "cell_type": "markdown",
   "id": "46d1e5c7-d981-45c4-a44a-fa0ac27c7352",
   "metadata": {
    "tags": []
   },
   "source": [
    "#### Density plot of mean f1 scores by model"
   ]
  },
  {
   "cell_type": "code",
   "execution_count": 198,
   "id": "900a0428-9074-450c-be5c-4fc247f2a111",
   "metadata": {},
   "outputs": [],
   "source": [
    "# concat all res together\n",
    "res_total = pd.concat([smt_res3_df, smt_res5_df,\n",
    "                       both_res3_df, both_res5_df], axis=0)\n",
    "res_total.reset_index(inplace=True)"
   ]
  },
  {
   "cell_type": "code",
   "execution_count": 199,
   "id": "0b05aa46-bc8e-4e50-84e7-7a978592f5a5",
   "metadata": {},
   "outputs": [],
   "source": [
    "conditions = [\n",
    "    res_total.classifier_str.str.contains('RandomForest'),\n",
    "    res_total.classifier_str.str.contains('Gradient')]\n",
    "choices = ['Random Forest', 'Gradient Boosting']\n",
    "res_total['classifier'] = np.select(conditions, choices, default='AdaBoost')"
   ]
  },
  {
   "cell_type": "code",
   "execution_count": 200,
   "id": "4510c30e-4394-4413-b43a-233d11c038cf",
   "metadata": {},
   "outputs": [
    {
     "data": {
      "text/plain": [
       "Text(0.5, 0, 'Mean F1 Score')"
      ]
     },
     "execution_count": 200,
     "metadata": {},
     "output_type": "execute_result"
    },
    {
     "data": {
      "image/png": "[encoded data removed]",
      "text/plain": [
       "<Figure size 432x288 with 1 Axes>"
      ]
     },
     "metadata": {
      "needs_background": "light"
     },
     "output_type": "display_data"
    }
   ],
   "source": [
    "sns.kdeplot(data=res_total, x='mean_test_F1', hue='classifier')\n",
    "plt.xlabel('Mean F1 Score')"
   ]
  },
  {
   "cell_type": "markdown",
   "id": "e5b13e12-eaa8-4d45-a06e-ca7d4acad337",
   "metadata": {
    "tags": []
   },
   "source": [
    "#### Plot on hyperparameter GB training"
   ]
  },
  {
   "cell_type": "markdown",
   "id": "09973104-7e7b-433e-a591-de767cd792f8",
   "metadata": {},
   "source": [
    "**for max depth**"
   ]
  },
  {
   "cell_type": "code",
   "execution_count": 203,
   "id": "fd9f63e6-1cc6-4b61-95f5-8414ce6970d5",
   "metadata": {},
   "outputs": [],
   "source": [
    "depth_res_list = []\n",
    "\n",
    "# smt3\n",
    "for i in range(1,6):\n",
    "    string=': ' + str(i)\n",
    "    depth_res_list.append({'sampling_method':'smote_tomek_3', \n",
    "                           'max_depth':i, \n",
    "                  'F1':smt3_gb[smt3_gb.params_str.str.contains(string)]\n",
    "                           .mean_test_F1.mean()})\n",
    "    \n",
    "    depth_res_list.append({'sampling_method':'smote_tomek_5', \n",
    "                           'max_depth':i, \n",
    "                  'F1':smt5_gb[smt5_gb.params_str.str.contains(string)]\n",
    "                           .mean_test_F1.mean()})\n",
    "    \n",
    "    depth_res_list.append({'sampling_method':'smote_under_3', \n",
    "                           'max_depth':i, \n",
    "                  'F1':both3_gb[both3_gb.params_str.str.contains(string)]\n",
    "                           .mean_test_F1.mean()})\n",
    "\n",
    "    \n",
    "    depth_res_list.append({'sampling_method':'smote_under_5', 'max_depth':i, \n",
    "                  'F1':both5_gb[both5_gb.params_str.str.contains(string)]\n",
    "                           .mean_test_F1.mean()})"
   ]
  },
  {
   "cell_type": "code",
   "execution_count": 204,
   "id": "03189111-6a39-4cb6-aa73-05b59d2e5e9f",
   "metadata": {},
   "outputs": [],
   "source": [
    "depth_res = pd.DataFrame(depth_res_list)"
   ]
  },
  {
   "cell_type": "code",
   "execution_count": 205,
   "id": "715ee9b3-2ee7-4e56-bd76-9858f5824da4",
   "metadata": {},
   "outputs": [
    {
     "data": {
      "text/plain": [
       "<matplotlib.legend.Legend at 0x7f953209ec70>"
      ]
     },
     "execution_count": 205,
     "metadata": {},
     "output_type": "execute_result"
    },
    {
     "data": {
      "image/png": "[encoded data removed]",
      "text/plain": [
       "<Figure size 432x288 with 1 Axes>"
      ]
     },
     "metadata": {
      "needs_background": "light"
     },
     "output_type": "display_data"
    }
   ],
   "source": [
    "sns.lineplot(data=depth_res, x = 'max_depth', y='F1', hue='sampling_method')\n",
    "plt.xlabel(\"Maximum Depth\")\n",
    "plt.ylabel(\"Mean F1 Score\")\n",
    "plt.legend(bbox_to_anchor=(1.02, 0.6), loc='upper left', borderaxespad=0)"
   ]
  },
  {
   "cell_type": "markdown",
   "id": "301364fd-d65d-40f3-a3db-f0f8e91a621c",
   "metadata": {},
   "source": [
    "**for max features**"
   ]
  },
  {
   "cell_type": "code",
   "execution_count": 206,
   "id": "64a3c9c3-8469-4566-981d-6e69afedbf63",
   "metadata": {},
   "outputs": [],
   "source": [
    "feat_res_list = []\n",
    "\n",
    "# smt3\n",
    "for i in ['log', 'sqrt']:\n",
    "    feat_res_list.append({'sampling_method':'smote_tomek_3', \n",
    "                          'max_feat':i, \n",
    "                  'F1':smt3_gb[smt3_gb.params_str.str.contains(i)]\n",
    "                          .mean_test_F1.mean()})\n",
    "    \n",
    "    feat_res_list.append({'sampling_method':'smote_tomek_5', \n",
    "                          'max_feat':i, \n",
    "                  'F1':smt5_gb[smt5_gb.params_str.str.contains(i)]\n",
    "                          .mean_test_F1.mean()})\n",
    "    \n",
    "    feat_res_list.append({'sampling_method':'smote_under_3', \n",
    "                          'max_feat':i, \n",
    "                  'F1':both3_gb[both3_gb.params_str.str.contains(i)]\n",
    "                          .mean_test_F1.mean()})\n",
    "\n",
    "    feat_res_list.append({'sampling_method':'smote_under_5', \n",
    "                          'max_feat':i, \n",
    "                  'F1':both5_gb[both5_gb.params_str.str.contains(i)]\n",
    "                          .mean_test_F1.mean()})"
   ]
  },
  {
   "cell_type": "code",
   "execution_count": 207,
   "id": "5f78d317-4a6d-4e15-8aaf-9561c4ea7891",
   "metadata": {},
   "outputs": [],
   "source": [
    "feat_res = pd.DataFrame(feat_res_list)"
   ]
  },
  {
   "cell_type": "code",
   "execution_count": 208,
   "id": "64109a3d-2b3a-44bb-af2e-0310ec317d2d",
   "metadata": {},
   "outputs": [
    {
     "data": {
      "text/plain": [
       "<matplotlib.legend.Legend at 0x7f9531372b20>"
      ]
     },
     "execution_count": 208,
     "metadata": {},
     "output_type": "execute_result"
    },
    {
     "data": {
      "image/png": "[encoded data removed]",
      "text/plain": [
       "<Figure size 432x288 with 1 Axes>"
      ]
     },
     "metadata": {
      "needs_background": "light"
     },
     "output_type": "display_data"
    }
   ],
   "source": [
    "sns.barplot(data=feat_res, x = 'max_feat', y='F1', hue='sampling_method')\n",
    "plt.xlabel(\"Maximum Features\")\n",
    "plt.ylabel(\"Mean F1 Score\")\n",
    "plt.ylim(0.92, 0.925)\n",
    "plt.legend(bbox_to_anchor=(1.35, 0.5), loc='center right', borderaxespad=0)\n",
    "plt.legend(bbox_to_anchor=(1.02, 0.6), loc='upper left', borderaxespad=0)"
   ]
  },
  {
   "cell_type": "markdown",
   "id": "a2d5efc6-ef3e-459b-af62-c2ba924dbbaa",
   "metadata": {},
   "source": [
    "**For num features** "
   ]
  },
  {
   "cell_type": "code",
   "execution_count": 209,
   "id": "5d96bb3d-2bb7-47c1-90ad-7bc9a30f8081",
   "metadata": {},
   "outputs": [],
   "source": [
    "n_est_list = []\n",
    "\n",
    "# smt3\n",
    "for i in range(25, 251, 25):\n",
    "    string=': ' + str(i)\n",
    "    n_est_list.append({'sampling_method':'smote_tomek_3', \n",
    "                       'n_estimators':i, \n",
    "                  'F1':smt3_gb[smt3_gb.params_str.str.contains(string)]\n",
    "                       .mean_test_F1.mean()})\n",
    "    \n",
    "    n_est_list.append({'sampling_method':'smote_tomek_5', \n",
    "                       'n_estimators':i, \n",
    "                  'F1':smt5_gb[smt5_gb.params_str.str.contains(string)]\n",
    "                       .mean_test_F1.mean()})\n",
    "    \n",
    "    n_est_list.append({'sampling_method':'smote_under_3', \n",
    "                       'n_estimators':i, \n",
    "                  'F1':both3_gb[both3_gb.params_str.str.contains(string)]\n",
    "                       .mean_test_F1.mean()})\n",
    "\n",
    "    n_est_list.append({'sampling_method':'smote_under_5', \n",
    "                       'n_estimators':i, \n",
    "                  'F1':both5_gb[both5_gb.params_str.str.contains(string)]\n",
    "                       .mean_test_F1.mean()})"
   ]
  },
  {
   "cell_type": "code",
   "execution_count": 210,
   "id": "ad102f67-e2bd-46ad-a731-298155b04afd",
   "metadata": {},
   "outputs": [],
   "source": [
    "n_est_res = pd.DataFrame(n_est_list)"
   ]
  },
  {
   "cell_type": "code",
   "execution_count": 211,
   "id": "3a0014ed-c0dc-44eb-94c0-9d41b4f62fcb",
   "metadata": {},
   "outputs": [
    {
     "data": {
      "text/plain": [
       "<matplotlib.legend.Legend at 0x7f953174cd30>"
      ]
     },
     "execution_count": 211,
     "metadata": {},
     "output_type": "execute_result"
    },
    {
     "data": {
      "image/png": "[encoded data removed]",
      "text/plain": [
       "<Figure size 432x288 with 1 Axes>"
      ]
     },
     "metadata": {
      "needs_background": "light"
     },
     "output_type": "display_data"
    }
   ],
   "source": [
    "sns.lineplot(data=n_est_res, x = 'n_estimators', y='F1', hue='sampling_method')\n",
    "plt.xlabel(\"Number of Estimators\")\n",
    "plt.ylabel(\"Mean F1 Score\")\n",
    "plt.legend(bbox_to_anchor=(1.02, 0.6), loc='upper left', borderaxespad=0)"
   ]
  },
  {
   "cell_type": "markdown",
   "id": "38ef8a07-a1c3-4414-91d9-2bcb45956c00",
   "metadata": {},
   "source": [
    "#### Feature importance plot on GB best on training"
   ]
  },
  {
   "cell_type": "markdown",
   "id": "93eae991-20f1-4053-a7ed-95b358e3e908",
   "metadata": {},
   "source": [
    "### Make Predictions"
   ]
  },
  {
   "cell_type": "code",
   "execution_count": 21,
   "id": "92af104a-f015-4d30-a6c3-c4eba518ab6d",
   "metadata": {},
   "outputs": [],
   "source": [
    "# read test data\n",
    "test_df = pd.read_csv('test.csv')"
   ]
  },
  {
   "cell_type": "code",
   "execution_count": 22,
   "id": "60bd4f4e-e9d9-4b62-bc4b-42fe8316a346",
   "metadata": {},
   "outputs": [],
   "source": [
    "# process data\n",
    "cat_test_data = test_df[['BusinessTravel', 'Department', 'Education', \n",
    "                         'EducationField', 'EnvironmentSatisfaction', \n",
    "                         'Gender', 'JobInvolvement', 'JobLevel', \n",
    "                         'JobRole', 'JobSatisfaction', 'MaritalStatus', \n",
    "                         'Over18', 'OverTime', 'PerformanceRating',\n",
    "                         'RelationshipSatisfaction', 'Shift',\n",
    "                         'WorkLifeBalance']].astype('category')\n",
    "dummy_test_data = pd.get_dummies(cat_test_data)\n",
    "\n",
    "num_test_data = test_df[['Age', 'DailyRate', 'DistanceFromHome', 'HourlyRate', \n",
    "                         'MonthlyIncome', 'MonthlyRate', 'NumCompaniesWorked',\n",
    "                         'PercentSalaryHike','TotalWorkingYears', \n",
    "                         'TrainingTimesLastYear', 'YearsAtCompany', \n",
    "                         'YearsInCurrentRole', 'YearsSinceLastPromotion',\n",
    "                         'YearsWithCurrManager']]"
   ]
  },
  {
   "cell_type": "code",
   "execution_count": 23,
   "id": "74a5de8f-82ad-4d86-afe7-a934be96bc01",
   "metadata": {},
   "outputs": [],
   "source": [
    "# concat data together\n",
    "X_test = pd.concat([num_test_data,dummy_test_data], axis =1)"
   ]
  },
  {
   "cell_type": "code",
   "execution_count": 192,
   "id": "01ea1457-a413-4cc2-a7d3-e2b848ec32a9",
   "metadata": {},
   "outputs": [],
   "source": [
    "# make predictors and make format consistent\n",
    "test_preds = t.predict(X_test)\n",
    "test_preds_df = pd.DataFrame({'id':range(len(test_preds)), \n",
    "                              'Predicted':test_preds})"
   ]
  },
  {
   "cell_type": "code",
   "execution_count": 193,
   "id": "b3000fd0-b614-46ee-a052-1c2aa9ec7da8",
   "metadata": {},
   "outputs": [],
   "source": [
    "# test_preds_df.to_csv('test_preds_33.csv', index=False)"
   ]
  }
 ],
 "metadata": {
  "kernelspec": {
   "display_name": "Python 3 (ipykernel)",
   "language": "python",
   "name": "python3"
  },
  "language_info": {
   "codemirror_mode": {
    "name": "ipython",
    "version": 3
   },
   "file_extension": ".py",
   "mimetype": "text/x-python",
   "name": "python",
   "nbconvert_exporter": "python",
   "pygments_lexer": "ipython3",
   "version": "3.9.7"
  }
 },
 "nbformat": 4,
 "nbformat_minor": 5
}
