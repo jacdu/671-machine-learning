{
 "cells": [
  {
   "cell_type": "code",
   "execution_count": 306,
   "id": "ba494f2e-7c62-42e1-8f15-6f296881e50b",
   "metadata": {},
   "outputs": [],
   "source": [
    "import pandas as pd \n",
    "import numpy as np \n",
    "import random\n",
    "import matplotlib.pyplot as plt\n",
    "from sklearn import preprocessing\n",
    "from sklearn.svm import SVC\n",
    "from sklearn.ensemble import GradientBoostingClassifier, RandomForestClassifier\n",
    "from sklearn.linear_model import LogisticRegression\n",
    "from sklearn.model_selection import train_test_split, GridSearchCV, KFold\n",
    "from sklearn.metrics import roc_curve, auc\n",
    "import csv\n",
    "import math"
   ]
  },
  {
   "cell_type": "markdown",
   "id": "5f7f860c-3c12-4b26-9ca8-17c246c4f68e",
   "metadata": {},
   "source": [
    "Agreement 1) This assignment represents my own work. I did not work on this assignment with others. All coding was done by myself.\n",
    "\n",
    "Agreement 2) I understand that if I struggle with this assignment that I will reevaluate whether this is the correct class for me to take. I understand that the homework only gets harder."
   ]
  },
  {
   "cell_type": "markdown",
   "id": "be4e0c03-869e-42b7-9aa6-d7c57646123b",
   "metadata": {
    "tags": []
   },
   "source": [
    "### Exercise 1"
   ]
  },
  {
   "cell_type": "markdown",
   "id": "8edf9757-4073-4ac3-b5b2-5e60d8064cd8",
   "metadata": {},
   "source": [
    "#### Part 1"
   ]
  },
  {
   "cell_type": "markdown",
   "id": "8b13214c-f239-4a69-8399-908e3a425d77",
   "metadata": {},
   "source": [
    "Given $h(x) = f(x) + g(x) $:\n",
    "$$ h(ax + (1-a)x) = f(ax + (1-a)x) + g(ax + (1-a)x) $$"
   ]
  },
  {
   "cell_type": "markdown",
   "id": "b244e4e6-d6fa-4b69-9c79-1212347623b2",
   "metadata": {},
   "source": [
    "Give $f(x)$ and $g(x)$ are convex functions, so by definition: \n",
    "$$ f(ax + (1-a)x) \\leq af(x) + (1-a) f(x) $$\n",
    "$$ g(ax + (1-a)x) \\leq ag(x) + (1-a) g(x) $$"
   ]
  },
  {
   "cell_type": "markdown",
   "id": "1fbe22b3-9008-4cf8-b8a6-5dadb672f536",
   "metadata": {},
   "source": [
    "We then know that: \n",
    "$$ f(ax + (1-a)x) + g(ax + (1-a)x) \\leq af(x) + (1-a) f(x) + ag(x) + (1-a) g(x) $$ \n",
    "\n",
    "Therefore $h(x)$ satisfies the definition of a convex function: \n",
    "$$ h(ax + (1-a)x) \\leq ah(x) + (1-a) h(x) $$"
   ]
  },
  {
   "cell_type": "markdown",
   "id": "8f3578f6-fc0f-479c-b14e-6b65fbac9286",
   "metadata": {},
   "source": [
    "#### Part 2"
   ]
  },
  {
   "cell_type": "markdown",
   "id": "85085f0c-83f8-41fd-ac55-6d54d12dd861",
   "metadata": {},
   "source": [
    "By Hint 2:\n",
    "$$ log(\\prod_{i=1}^k g_i(x)) = \\sum_{i=1}^k log(g_i(x)) $$"
   ]
  },
  {
   "cell_type": "markdown",
   "id": "78a4aa07-a132-4554-af2c-481940566573",
   "metadata": {},
   "source": [
    "Since we are given $g_i(x) \\geq 0$, we know that $g_i(x)$ is in $\\mathbb{R^+}$ and so $log(g_i(x))$ is concave and monotonically increasing"
   ]
  },
  {
   "cell_type": "markdown",
   "id": "e39b45f6-c92e-432f-bb14-1b774dd7d8cf",
   "metadata": {},
   "source": [
    "By Hint 1, the sum of k concave functions is concave. Since we established that $log(g_i(x))$  is concave, then $ \\sum_{i=1}^k log(g_i(x))$ is also concave"
   ]
  },
  {
   "cell_type": "markdown",
   "id": "742482fa-9689-479a-899d-2466e1cb52c6",
   "metadata": {},
   "source": [
    "#### Part 3"
   ]
  },
  {
   "cell_type": "code",
   "execution_count": 278,
   "id": "f12dbf79-78ee-4f86-85d9-9ed8cfe8cc70",
   "metadata": {},
   "outputs": [],
   "source": [
    "a = np.array([-2, -1, -0.5, 2])\n",
    "b = np.array([10, 8, 6, 0])\n",
    "xvals = np.arange(0, 10)"
   ]
  },
  {
   "cell_type": "code",
   "execution_count": 287,
   "id": "392170da-5a19-457a-b7f4-4d0660a8233d",
   "metadata": {},
   "outputs": [],
   "source": [
    "yvals = [xvals * a[i] + b[i] for i in range(len(a))]"
   ]
  },
  {
   "cell_type": "code",
   "execution_count": 342,
   "id": "b93e04ab-d308-4836-8828-7d9a10ece1f9",
   "metadata": {},
   "outputs": [],
   "source": [
    "maxvals = []\n",
    "minvals = []\n",
    "for i in range(len(yvals[0])):\n",
    "    vals = [item[i] for item in yvals]\n",
    "    maxvals.append(max(vals))\n",
    "    minvals.append(min(vals))\n",
    "    "
   ]
  },
  {
   "cell_type": "code",
   "execution_count": 348,
   "id": "4eba18d8-6f02-4213-84dd-030eb6f7630e",
   "metadata": {},
   "outputs": [
    {
     "data": {
      "text/plain": [
       "<matplotlib.legend.Legend at 0x7f98eee7d550>"
      ]
     },
     "execution_count": 348,
     "metadata": {},
     "output_type": "execute_result"
    },
    {
     "data": {
      "image/png": "[encoded data removed]",
      "text/plain": [
       "<Figure size 432x288 with 1 Axes>"
      ]
     },
     "metadata": {
      "needs_background": "light"
     },
     "output_type": "display_data"
    }
   ],
   "source": [
    "for i in range(len(yvals)):\n",
    "    plt.plot(xvals, yvals[i], 'k' )\n",
    "plt.plot(xvals, maxvals, label='max')\n",
    "plt.plot(xvals, minvals, label='min')\n",
    "plt.legend()"
   ]
  },
  {
   "cell_type": "markdown",
   "id": "26805d27-db9a-430f-971d-a3ecc9e085f5",
   "metadata": {},
   "source": [
    "The maximum across these lines appear to be an approximately convex function, while the minimum across those lines is approximately concave. "
   ]
  },
  {
   "cell_type": "markdown",
   "id": "6f3bc240-7d9d-4a61-aa2b-12a435496bb0",
   "metadata": {},
   "source": [
    "#### Part 4"
   ]
  },
  {
   "cell_type": "markdown",
   "id": "e0468653-09e4-4c15-be99-813584fa3358",
   "metadata": {},
   "source": [
    "$$h(x) = max(f(x), g(x)) $$"
   ]
  },
  {
   "cell_type": "markdown",
   "id": "1664763d-d7ec-478b-9874-8bcabacb9e8e",
   "metadata": {},
   "source": [
    "Since we know that both $f(x)$ and $g(x)$ are convex, by definition: \n",
    "$$ f(ax + (1-a)x) \\leq af(x) + (1-a) f(x) $$\n",
    "$$ g(ax + (1-a)x) \\leq ag(x) + (1-a) g(x) $$"
   ]
  },
  {
   "cell_type": "markdown",
   "id": "4813b841-349c-4e35-b489-bf9f6be34613",
   "metadata": {},
   "source": [
    "Now looking at $max(f(x)), max(g(x))$, we can see that: \n",
    "$$ maxf(ax + (1-a)x) \\leq a \\cdot maxf(x) + (1-a) \\cdot maxf(x) $$\n",
    "$$ maxg(ax + (1-a)x) \\leq a \\cdot maxg(x) + (1-a)\\cdot maxg(x) $$\n",
    "\n",
    "This holds true  because $max(f(x)) \\geq f(x)$ for any value of $x$ and the same holds for $max(g(x))$. Therefore by definition, $max(f(x))$ and $max(g(x))$ are convex functions and so $h(x) = max(f(x), g(x))$ is convex as well. "
   ]
  },
  {
   "cell_type": "markdown",
   "id": "aa8c3a62-1144-4a31-9f97-369da81f677a",
   "metadata": {
    "tags": []
   },
   "source": [
    "#### Part 5"
   ]
  },
  {
   "cell_type": "markdown",
   "id": "8319bb0a-5238-4036-bb45-f07fd0c970bb",
   "metadata": {},
   "source": [
    "This does not hold true. Using the counterexample where $f(x) =  |x| $, $g(x) = |x-1| $, and $a = 0.5$:\n",
    "$$ min (0.5 |x| + 0.5 |x-1|)= 0.5 $$\n",
    "$$ 0.5 min(|x|) + 0.5 min(|x-1|) = 0.5 (0) + 0.5 (0) = 0 $$"
   ]
  },
  {
   "cell_type": "markdown",
   "id": "c92cc69c-5412-4074-93b3-ef247a04ccbc",
   "metadata": {},
   "source": [
    "Therefore \n",
    "$min (0.5 |x| + 0.5 |x-1|)$ is not $\\leq$ to $0.5 min(|x|) + 0.5 min(|x-1|) $ as $0.5 !\\leq 0 $\n",
    "and so $h(x) = min (f(x), g(x))$ is not necessarily convex. "
   ]
  },
  {
   "cell_type": "markdown",
   "id": "621c0824-073f-4848-bfe3-0325957b40d9",
   "metadata": {
    "tags": []
   },
   "source": [
    "#### Part 6a"
   ]
  },
  {
   "cell_type": "markdown",
   "id": "08c56b24-9c3c-436a-8085-f33a3a05098b",
   "metadata": {},
   "source": [
    "In order to show convexity, I will prove by showing the second derivative is strictly positive. "
   ]
  },
  {
   "cell_type": "markdown",
   "id": "f561f53d-e8b4-4ef1-bab3-a939d4769b90",
   "metadata": {},
   "source": [
    "First showing that the function is convex with respect to one of the terms of $\\omega$: \n",
    "$$ \\frac{\\partial}{\\partial \\omega_1} log(1 + e^{-y_i(\\omega^Tx_i + b)})  = \\frac{-y_i x_{i} e^{-y_i(\\omega^Tx_i + b)}}{(1 + e^{-y_i(\\omega^Tx_i + b)})}$$"
   ]
  },
  {
   "cell_type": "markdown",
   "id": "d9748a62-3970-49d2-9f05-c4a6314bbed2",
   "metadata": {},
   "source": [
    "$$ \\frac{\\partial^2}{\\partial \\omega_1^2} = \\frac{(1 + e^{-y_i(\\omega^Tx_i + b)})y_i^2x_i^2 e^{-y_i(\\omega^Tx_i + b)} - y_i^2 x_{i}^2 e^{-2y_i(\\omega^Tx_i + b)}}{(1 + e^{-y_i(\\omega^Tx_i + b)})^2}$$"
   ]
  },
  {
   "cell_type": "markdown",
   "id": "509eada1-4891-4656-8a8e-961d4951a7f6",
   "metadata": {},
   "source": [
    "$$= \\frac{y_i^2x_i^2 e^{-y_i(\\omega^Tx_i + b)}}{(1 + e^{-y_i(\\omega^Tx_i + b)})^2}\n",
    "$$"
   ]
  },
  {
   "cell_type": "markdown",
   "id": "9e6ed667-03be-45c3-971f-4278b9e55641",
   "metadata": {},
   "source": [
    "The terms that are squared are always positive, and the exponential function is always positive and monotonically increasing for all values in $\\mathbb{R}$. \n",
    "\n",
    "Therefore, we have found that the partial second derivative for $\\omega_i$ for all $i$ is strictly positive, and therefore $log(1 + e^{-y_i(\\omega^Tx_i + b)})$ is a convex function. Since the sum of convex functions is convex with respect to $\\omega$, $\\sum_i^nlog(1 + e^{-y_i(\\omega^Tx_i + b)})$ is also convex. "
   ]
  },
  {
   "cell_type": "markdown",
   "id": "47842eae-128b-4b54-b664-6df650cf4e73",
   "metadata": {},
   "source": [
    "Next, showing that the function is convex with respect to $b$:\n",
    "$$ \\frac{\\partial}{\\partial b} log(1 + e^{-y_i(\\omega^Tx_i + b)}) = \\frac{-y_ie^{-y_i(\\omega^Tx_i + b)}}{(1 + e^{-y_i(\\omega^Tx_i + b)})} $$"
   ]
  },
  {
   "cell_type": "markdown",
   "id": "ec8946e2-9609-428d-ac67-df4d7d0c90db",
   "metadata": {},
   "source": [
    "$$ \\frac{\\partial^2}{\\partial b^2} = \\frac{(1 + e^{-y_i(\\omega^Tx_i + b)}) y_i^2 e^{-y_i(\\omega^Tx_i + b)} - y_i^2e^{-2y_i(\\omega^Tx_i + b)}}{(1 + e^{-y_i(\\omega^Tx_i + b)})^2}\n",
    "$$"
   ]
  },
  {
   "cell_type": "markdown",
   "id": "e937ff43-d1ed-4fb1-9912-169ec3783022",
   "metadata": {},
   "source": [
    "$$ = \\frac{y_i^2e^{-y_i(\\omega^Tx_i + b)}}{(1 + e^{-y_i(\\omega^Tx_i + b)})^2}$$"
   ]
  },
  {
   "cell_type": "markdown",
   "id": "dcb142f7-b10b-4d2c-bb86-bde8ff9c93f4",
   "metadata": {},
   "source": [
    "Similarly as for $\\omega$, the squared terms are always positive, and the exponential function is always positive for all values in $\\mathbb{R}$. Therefore, the second derivative with respect to b is positive, and so $log(1 + e^{-y_i(\\omega^Tx_i + b)})$ is convex with respect to b. Since sum of convex functions is convex, $\\sum_i^nlog(1 + e^{-y_i(\\omega^Tx_i + b)})$ is also convex with respect to b. "
   ]
  },
  {
   "cell_type": "markdown",
   "id": "8cd95b11-b52d-4c72-b4a4-d1e75ca0bec2",
   "metadata": {},
   "source": [
    "#### Part 6b"
   ]
  },
  {
   "cell_type": "markdown",
   "id": "62ba1eeb-61cc-461e-bdf2-794444c69b1d",
   "metadata": {},
   "source": [
    "For $L(\\omega, b,C) = 0.5 ||\\omega||^2_2 + C\\sum_{i-1}^m max(0, 1-y_i(\\omega^Tx_i + b)), C\\geq 0$: "
   ]
  },
  {
   "cell_type": "markdown",
   "id": "9fcd8e26-0e02-4d31-b659-3a2c015ec2d8",
   "metadata": {},
   "source": [
    "First looking at the first term $0.5 \\cdot ||\\omega||^2_2 $\n",
    "Taking the second derivative for $\\omega_1$: \n",
    "$$\\frac{\\partial d}{\\partial \\omega_1} 0.5 \\sqrt{\\omega_1^2 + \\ldots + \\omega_p^2} = \\frac{\\omega_1}{2\\sqrt{\\omega_1^2 + \\ldots + \\omega_p^2 }}$$"
   ]
  },
  {
   "cell_type": "markdown",
   "id": "b4bf7de8-acef-4e34-8ad9-9e4b29ddeae2",
   "metadata": {},
   "source": [
    "$$\\frac{\\partial^2 d}{\\partial \\omega_1^2} = \\frac{2 \\sqrt{\\omega_1^2 + \\ldots + \\omega_p^2} - \\frac{2\\omega_1^2}{\\sqrt{\\omega_1^2 + \\ldots + \\omega_p^2}}}{4(\\omega_1^2 + \\ldots + \\omega_p^2)} $$"
   ]
  },
  {
   "cell_type": "markdown",
   "id": "78e85440-c766-4f8e-a934-5e01dede1144",
   "metadata": {},
   "source": [
    "$$ = \\frac{1}{2\\sqrt{\\omega_1^2 + \\ldots + \\omega_p^2}} - \\frac{\\omega_1^2}{2(\\omega_1^2 + \\ldots + \\omega_p^2)^\\frac{3}{2}} $$"
   ]
  },
  {
   "cell_type": "markdown",
   "id": "b259e25f-fa31-4b3d-94b5-858690441926",
   "metadata": {},
   "source": [
    "$$ = \\frac{1}{2\\sqrt{\\omega_1^2 + \\ldots + \\omega_p^2}} (1 - \\frac{\\omega_1^2}{(\\omega_1^2 + \\ldots + \\omega_p^2)}) $$"
   ]
  },
  {
   "cell_type": "markdown",
   "id": "97a53d3e-1991-40e5-a1f8-abca605efd30",
   "metadata": {},
   "source": [
    "We can see that $\\frac{1}{2\\sqrt{\\omega_1^2 + \\ldots + \\omega_p^2}}$ is always positive since each of the omega terms are squares. \n",
    "\n",
    "Additionally since $\\frac{\\omega_1^2}{(\\omega_1^2 + \\ldots + \\omega_p^2)}$ is a proportion, $1 - \\frac{\\omega_1^2}{(\\omega_1^2 + \\ldots + \\omega_p^2)}$ is always positive. This will be the same for each of the p $\\omega$ terms. Since the second derivative is always positive, $0.5 \\cdot ||\\omega||^2_2 $ is convex. "
   ]
  },
  {
   "cell_type": "markdown",
   "id": "d6bfe5fa-1eea-445b-bfaf-1ad9d0f2d44d",
   "metadata": {},
   "source": [
    "Now looking at the second term, $C\\sum_{i-1}^m max(0, 1-y_i(\\omega^Tx_i + b))$, using the same logic from previous parts:"
   ]
  },
  {
   "cell_type": "markdown",
   "id": "ba257b96-b85f-45bb-a075-b21ace7bc433",
   "metadata": {},
   "source": [
    "We can see that $max(0)$ is a convex function by definition since both sides of the equation equals 0.  \n",
    "$$ max(a0 + (1-a)0) = a\\cdot max0 + (1-a) \\cdot max0 $$\n",
    "\n",
    "Doing the same for the second term, if we let $z = 1-y_i(\\omega^Tx_i + b)$ where $z \\in \\mathbb{R}$. Since $z \\leq maxz$ for all z, we can see that: \n",
    "$$ max(az + (1-a)z) \\leq a \\cdot maxz + (1-a) \\cdot maxz $$\n",
    "\n",
    "Therefore, $max(0, 1-y_i(\\omega^Tx_i + b))$ is a convex function. Since the sum of convex functions is also convex, and since C is a non-negative constant, we have proven that the second term $C\\sum_{i-1}^m max(0, 1-y_i(\\omega^Tx_i + b))$ is convex. "
   ]
  },
  {
   "cell_type": "markdown",
   "id": "8f53fca5-0536-45b7-b3bc-89a29e1ea731",
   "metadata": {},
   "source": [
    "We have shown that each term of $L(\\omega, b,C)$ is a convex of function, so again using that the sum of convex functions is also convex, we have shown that $L(\\omega, b,C) = 0.5 ||\\omega||^2_2 + C\\sum_{i-1}^m max(0, 1-y_i(\\omega^Tx_i + b)), C\\geq 0$ is convex"
   ]
  },
  {
   "cell_type": "markdown",
   "id": "5c1bfbc9-19b3-4a27-9fd9-05b5fe1340ff",
   "metadata": {},
   "source": [
    "#### Part 7"
   ]
  },
  {
   "cell_type": "markdown",
   "id": "750371d9-f886-4c11-b8c8-11418cb67107",
   "metadata": {},
   "source": [
    "Using a similar strategy as the previous part, I will break the function into its two terms. \n",
    "\n",
    "First looking at $C ||\\omega||_1$ with $ C \\geq 0$: "
   ]
  },
  {
   "cell_type": "markdown",
   "id": "f9c3a670-2133-480d-b2a9-146336f8d406",
   "metadata": {},
   "source": [
    "We can show that the absolute value function is convex for $\\omega$: \n",
    "\n",
    "First, since absolute value function is multiplicative: \n",
    "$$C|a\\omega + (1-a)\\omega| = C|a||\\omega| + C|1-a||\\omega| $$\n",
    "\n",
    "For the function to be convex, this condition must hold:\n",
    "$$ C|a||\\omega| + C|1-a||\\omega| \\leq Ca |\\omega| + C(1-a)|\\omega| $$\n"
   ]
  },
  {
   "cell_type": "markdown",
   "id": "80bc404a-9169-45c2-a399-f824f65e548e",
   "metadata": {},
   "source": [
    "Since a is positive, \n",
    "$$ C|a||\\omega| + C|1-a||\\omega| =C a |\\omega| + C(1-a)|\\omega| $$\n",
    "\n",
    "Therefore, we have shown that $C ||\\omega||_1$ is a convex function. "
   ]
  },
  {
   "cell_type": "markdown",
   "id": "964a48f1-1d33-44e3-a94a-8d68fe3d91b6",
   "metadata": {},
   "source": [
    "Now looking at the other term, $ ||y - (X\\omega + b1_n)) ||^2_2$\n",
    "\n",
    "When taking the derivative of the above function with respect to $\\omega$, $y$ and $b$ are treated as constants, so the equation reduces to:\n",
    "$$\\frac{\\partial}{\\partial \\omega} ||y - (X\\omega + b1_n)) ||^2_2 =  \\frac{\\partial}{\\partial \\omega} ||(X\\omega)) ||^2_2$$"
   ]
  },
  {
   "cell_type": "markdown",
   "id": "c6897576-452a-47ee-9ef3-06a46817e941",
   "metadata": {},
   "source": [
    "Finding the second derivative of one of the terms of $\\omega$ to assess if it satisifies condition for convexity:\n",
    "$$ \\frac{\\partial}{\\partial \\omega_1} ||(X\\omega)) ||^2_2 = \\frac{X^2\\omega_1}{\\sqrt{(X\\omega_1)^2 + \\ldots + (X\\omega_p)^2 }} $$"
   ]
  },
  {
   "cell_type": "markdown",
   "id": "6ff22e61-7206-4f39-b531-bb7419d14b64",
   "metadata": {},
   "source": [
    "$$ \\frac{\\partial^2}{\\partial \\omega_1^2} = \\frac{X^2\\sqrt{(X\\omega_1)^2 + \\ldots + (X\\omega_p)^2 } - \\frac{X^4\\omega_1^2}{\\sqrt{(X\\omega_1)^2 + \\ldots + (X\\omega_p)^2 }}}{((X\\omega_1)^2 + \\ldots + (X\\omega_p)^2) } $$"
   ]
  },
  {
   "cell_type": "markdown",
   "id": "8c1852d2-c532-4a3f-bf27-e69391c63c24",
   "metadata": {},
   "source": [
    "$$ = \\frac{X^2}{\\sqrt{(X\\omega_1)^2 + \\ldots + (X\\omega_p)^2 }} -\\frac{X^4\\omega_1^2}{((X\\omega_1)^2 + \\ldots + (X\\omega_p)^2)^{\\frac{3}{2}} } $$"
   ]
  },
  {
   "cell_type": "markdown",
   "id": "e398a122-f45b-410d-b8fc-68cf305ba66e",
   "metadata": {},
   "source": [
    "$$ = \\frac{X^2}{\\sqrt{(X\\omega_1)^2 + \\ldots + (X\\omega_p)^2 }} (1 - \\frac{(X\\omega_1)^2}{((X\\omega_1)^2 + \\ldots + (X\\omega_p)^2 )})$$"
   ]
  },
  {
   "cell_type": "markdown",
   "id": "85623bf1-2ccb-4018-b7c1-b0e82aec5546",
   "metadata": {},
   "source": [
    "For the second derivative, the term $\\frac{X^2}{\\sqrt{(X\\omega_1)^2 + \\ldots + (X\\omega_p)^2 }}$ is positive since all the terms are squared. Also, since $\\frac{(X\\omega_1)^2}{((X\\omega_1)^2 + \\ldots + (X\\omega_p)^2 )}$ is a proportion, the second term also remains positive. Therefore, the second partial derivative for $\\omega_i$ for all $i$ is positive, so $||y - (X\\omega + b1_n)) ||^2_2$ is a convex function."
   ]
  },
  {
   "cell_type": "markdown",
   "id": "3e5f1922-d8ed-4b40-a679-6b7a10df941b",
   "metadata": {},
   "source": [
    "Since the sum of convex function is convex, and since we found that the two terms separately are convex functions, we can conclude that $L(\\omega, b,C) = ||y - (X\\omega + b1_n)) ||^2_2 + C ||\\omega||_1 $ is convex. "
   ]
  },
  {
   "cell_type": "markdown",
   "id": "f23037e9-9a22-40ff-9d1d-0c955bf64b66",
   "metadata": {},
   "source": [
    "### Exercise 2"
   ]
  },
  {
   "cell_type": "markdown",
   "id": "fa9e55f3-5f30-4849-871a-711fcee22184",
   "metadata": {},
   "source": [
    "#### Part 1a"
   ]
  },
  {
   "cell_type": "markdown",
   "id": "42d06e50-2da3-437c-8f68-3df4cbf5d90b",
   "metadata": {},
   "source": [
    "$$ \\nabla f(x) = \n",
    "\\begin{bmatrix}\n",
    "\\frac{\\partial f(x)}{\\partial x_1} \\\\\n",
    "\\frac{\\partial f(x)}{\\partial x_2} \\end{bmatrix} $$\n",
    "$$ \\nabla f(x) = \\begin{bmatrix}\n",
    "4x_1 - 4 + 2x_2 \\\\\n",
    "6x_2 - 6 + 2x_1 \\end{bmatrix}$$"
   ]
  },
  {
   "cell_type": "markdown",
   "id": "247363ab-6a74-4398-8210-d3b177a90dff",
   "metadata": {},
   "source": [
    "#### Part 1b"
   ]
  },
  {
   "cell_type": "markdown",
   "id": "41d2b127-08bb-48bb-8973-111650c49982",
   "metadata": {},
   "source": [
    "$$ H f(x) = \n",
    "\\begin{bmatrix}\n",
    "\\frac{\\partial^2 f(x)}{\\partial x_1^2} & \\frac{\\partial^2 f(x)}{\\partial x_1 \\partial x_2}\\\\\n",
    "\\frac{\\partial f(x)}{\\partial x_2 \\partial x_1} &  \\frac{\\partial^2 f(x)}{\\partial x_2^2}\\end{bmatrix} $$\n",
    "$$ Hf(x) = \n",
    "\\begin{bmatrix} \n",
    "4 & 2 \\\\ 2 & 6\n",
    "\\end{bmatrix}\n",
    "$$"
   ]
  },
  {
   "cell_type": "markdown",
   "id": "efb2197e-0910-45ec-a794-4f965c022a1e",
   "metadata": {},
   "source": [
    "#### Part 1c"
   ]
  },
  {
   "cell_type": "markdown",
   "id": "0fd083a1-5733-422f-819c-2c0f7fb0ad5e",
   "metadata": {},
   "source": [
    "Finding critical points, ie finding $x$ where $ \\nabla f(x) = 0 $:\n",
    "\n",
    "We have the system of equations: \n",
    "$$ 4x_1 + 2x_2 - 4= 0 $$\n",
    "$$ 2x_1 + 6x_2 - 4 = 0 $$"
   ]
  },
  {
   "cell_type": "markdown",
   "id": "2c6fb2e7-605b-44f9-bf71-767367a3d5e1",
   "metadata": {},
   "source": [
    "Solving the first equation for $x_1$: \n",
    "$$ x_1 = 1 - 0.5x_2$$\n",
    "\n",
    "Plugging into the second equation: \n",
    "$$ 2(1 - 0.5x_2) + 6x_2 - 4 = 0 $$\n",
    "$$ x_2 = \\frac{4}{5} $$\n",
    "\n",
    "Solving for $x_1$: \n",
    "$$ x_1 = 1 - \\frac{1}{2} * \\frac{4}{5} $$\n",
    "$$ x_1 = \\frac{3}{5} $$"
   ]
  },
  {
   "cell_type": "markdown",
   "id": "b99e60b9-5786-419f-be13-34344fe0b910",
   "metadata": {},
   "source": [
    "$H f([\\frac{3}{5}, \\frac{4}{5}]^T) = \\begin{bmatrix} \n",
    "4 & 2 \\\\ 2 & 6\n",
    "\\end{bmatrix}$ is positive definite so we know that the critical point found is the minimum of $f(x)$"
   ]
  },
  {
   "cell_type": "markdown",
   "id": "ee155b75-8ea1-41bf-b13f-d636c501e0e4",
   "metadata": {},
   "source": [
    "Therefore: \n",
    "$$ x^* = \\begin{bmatrix}\n",
    "\\frac{3}{5} \\\\\n",
    "\\frac{4}{5} \\end{bmatrix} $$"
   ]
  },
  {
   "cell_type": "markdown",
   "id": "ac8b0395-670a-4165-93d1-a36ed32d55f8",
   "metadata": {},
   "source": [
    "#### Part 2"
   ]
  },
  {
   "cell_type": "markdown",
   "id": "551ef809-99f7-46be-b737-a69acd3266f4",
   "metadata": {},
   "source": [
    "$$ x_1 = \\begin{bmatrix} x_1 \\\\ x_2 \\end{bmatrix}\n",
    "- \\alpha \\begin{bmatrix} \n",
    "4x_1 - 4 + 2x_2 \\\\ 6x_2 - 6 + 2x_1\n",
    "\\end{bmatrix} $$\n",
    "Using $\\alpha = 0.1$: \n",
    "$$ x_1 = \\begin{bmatrix} x_1 \\\\ x_2 \\end{bmatrix} - 0.1 \\begin{bmatrix} \n",
    "4 & 2 \\\\ 2 & 6\n",
    "\\end{bmatrix} \\begin{bmatrix} x_1 \\\\ x_2 \\end{bmatrix} + 0.1 \\begin{bmatrix} 4 \\\\ 6 \\end{bmatrix} $$\n"
   ]
  },
  {
   "cell_type": "markdown",
   "id": "c800f4fd-a036-42ac-a9be-eaf1bcb23473",
   "metadata": {},
   "source": [
    "$$ x_1 = \n",
    "\\begin{bmatrix} 1 & 0 \\\\ 0 & 1 \\end{bmatrix}\n",
    "\\begin{bmatrix} x_1 \\\\ x_2 \\end{bmatrix} -  \n",
    "\\begin{bmatrix} 0.4 & 0.2 \\\\ 0.2 & 0.6 \\end{bmatrix} \n",
    "\\begin{bmatrix} x_1 \\\\ x_2 \\end{bmatrix} + \n",
    "\\begin{bmatrix} 0.4 \\\\ 0.6 \\end{bmatrix} $$"
   ]
  },
  {
   "cell_type": "markdown",
   "id": "01626241-a465-447b-9955-537e1936096b",
   "metadata": {},
   "source": [
    "$$ x_1 = \\begin{bmatrix} 0.6 & -0.2 \\\\ -0.2 & 0.4 \\end{bmatrix}\n",
    "\\begin{bmatrix} x_1 \\\\ x_2 \\end{bmatrix} + \n",
    "\\begin{bmatrix} 0.4 \\\\ 0.6 \\end{bmatrix}\n",
    "$$\n",
    "\n",
    "Let $ A = \\begin{bmatrix} 0.6 & -0.2 \\\\ -0.2 & 0.4 \\end{bmatrix}$ and $B = \\begin{bmatrix} 0.4 \\\\ 0.6 \\end{bmatrix} $:\n",
    "$$ x_1 = A \\begin{bmatrix} x_1 \\\\ x_2 \\end{bmatrix} + B $$"
   ]
  },
  {
   "cell_type": "markdown",
   "id": "3fa79e11-e5b9-43e3-8634-4fe397b8b6d0",
   "metadata": {},
   "source": [
    "Now finding for $x_3$: \n",
    "$$ x_3 = A(A(A \\begin{bmatrix} x_1 \\\\ x_2 \\end{bmatrix} + B) + B) + B $$\n",
    "$$ = A^3 \\begin{bmatrix} x_1 \\\\ x_2 \\end{bmatrix} + A^2 B + AB + B$$ \n",
    "$$ = A^3 \\begin{bmatrix} x_1 \\\\ x_2 \\end{bmatrix} + (I + A + A^2)B$$ "
   ]
  },
  {
   "cell_type": "markdown",
   "id": "374fb314-aa57-45b2-822f-a686440ad782",
   "metadata": {},
   "source": [
    "Generalizing for $z$ for some $t+1$: \n",
    "$$ x_z = A^z \\begin{bmatrix} x_1 \\\\ x_2 \\end{bmatrix} + (I + A + A^2 + \\ldots + A^{z-1})B $$"
   ]
  },
  {
   "cell_type": "markdown",
   "id": "9ea7e9d6-11fe-4a83-9156-6b935d523575",
   "metadata": {},
   "source": [
    "First, we can find the eigenvalues of A to show that $A^z$ converges to the zero matrix (Hint 2):\n",
    "$$ det\\begin{bmatrix} 0.6 - \\lambda & -0.2 \\\\ -0.2 & 0.4 - \\lambda \\end{bmatrix} = 0 $$\n",
    "$$ (0.6 - \\lambda)(0.4 - \\lambda) - 0.04 = 0 $$\n",
    "$$ \\lambda^2 - \\lambda + 0.2 = 0 $$\n",
    "$$ \\lambda \\approx 0.276, 0.724$$"
   ]
  },
  {
   "cell_type": "markdown",
   "id": "f82c7f94-7f0c-4e9f-8ad1-a1d22dce0125",
   "metadata": {},
   "source": [
    "Since both eigenvalues of A have absolute value less than 1, we can conclude that $A^z$ converges to 0 using Hint 2. "
   ]
  },
  {
   "cell_type": "markdown",
   "id": "10e9b071-0ae3-4976-a89b-3f0cc3979842",
   "metadata": {},
   "source": [
    "The second term contains a geometric series, so using hint 1:\n",
    "$$ I + A + A^2 + \\ldots + A^{z-1} = (I-A)^{-1} (I-A^z) $$\n",
    "\n",
    "Since we found that $A^z \\to 0$ above:\n",
    "$$ (I-A)^{-1} (I-0) $$\n",
    "$$ = (\\begin{bmatrix} 1 & 0 \\\\ 0 & 1 \\end{bmatrix} - \\begin{bmatrix} 0.6 & -0.2 \\\\ -0.2 & 0.4 \\end{bmatrix}) ^ {-1} $$\n",
    "$$ = (\\begin{bmatrix} 0.4 & 0.2 \\\\ 0.2 & 0.6 \\end{bmatrix})^{-1} $$"
   ]
  },
  {
   "cell_type": "markdown",
   "id": "2e82c418-daea-4f48-8c80-29638d7b6eeb",
   "metadata": {},
   "source": [
    "$$ = \\frac{1}{0.4 \\cdot 0.6 - 0.2 \\cdot 0.2} \\begin{bmatrix} 0.6 & -0.2 \\\\ -0.2 & 0.4 \\end{bmatrix} $$"
   ]
  },
  {
   "cell_type": "markdown",
   "id": "8b3c0bf9-0b8b-420c-834b-25519c72dadc",
   "metadata": {},
   "source": [
    "$$ I + A + A^2 + A^{z-1} = \\begin{bmatrix} 3 & -1 \\\\ -1 & 2 \\end{bmatrix} $$"
   ]
  },
  {
   "cell_type": "markdown",
   "id": "bf9428d3-a54b-4f82-b473-25b7255c11fa",
   "metadata": {},
   "source": [
    "Therefore the expression for $x_z$ reduces to: \n",
    "$$ x_z = A^z \\begin{bmatrix} x_1 \\\\ x_2 \\end{bmatrix} + (I + A + A^2 + \\ldots + A^{z-1})B $$ \n",
    "$$ x_z = 0 + \n",
    "\\begin{bmatrix} 3 & -1 \\\\ -1 & 2 \\end{bmatrix}\n",
    "\\begin{bmatrix} 0.4 \\\\ 0.6 \\end{bmatrix} $$"
   ]
  },
  {
   "cell_type": "markdown",
   "id": "cec3e39e-0ff5-493d-b8f4-12a025f0e531",
   "metadata": {},
   "source": [
    "$$ x_z = \n",
    "\\begin{bmatrix}\n",
    "1.2 - 0.6 \\\\\n",
    "-0.4 + 1.2 \n",
    "\\end{bmatrix} $$"
   ]
  },
  {
   "cell_type": "markdown",
   "id": "f639cb95-1ac3-4942-aa32-c631446d3fb0",
   "metadata": {},
   "source": [
    "$$ x_z = \\begin{bmatrix}0.6 \\\\ 0.8 \\end{bmatrix} = \\begin{bmatrix} \\frac{3}{5} \\\\ \\frac{4}{5} \\end{bmatrix} = x^*$$"
   ]
  },
  {
   "cell_type": "markdown",
   "id": "9ca57eba-c325-47f8-8efa-8846d698c205",
   "metadata": {},
   "source": [
    "#### Part 3"
   ]
  },
  {
   "cell_type": "markdown",
   "id": "36af2700-2cd9-4d41-bf96-8c28fcbe7597",
   "metadata": {},
   "source": [
    "No when $\\alpha$ is sufficiently large, the eigenvalues of A will no longer satisfy the condition for $A^{z-1}$ to converge to 0. Thus, $x_z$ will not converge to a stationary point as the first term will be a function of the previous point. "
   ]
  },
  {
   "cell_type": "markdown",
   "id": "f6f1d909-0b30-45c5-810d-52a3c2a1fc10",
   "metadata": {},
   "source": [
    "$$ x_1 = \\begin{bmatrix} x_1 \\\\ x_2 \\end{bmatrix} - 0.1 \\begin{bmatrix} \n",
    "4 & 2 \\\\ 2 & 6\n",
    "\\end{bmatrix} \\begin{bmatrix} x_1 \\\\ x_2 \\end{bmatrix} + 0.1 \\begin{bmatrix} 4 \\\\ 6 \\end{bmatrix} $$"
   ]
  },
  {
   "cell_type": "markdown",
   "id": "c430062b-642a-4209-9770-744330da8914",
   "metadata": {},
   "source": [
    "To show by example, when $\\alpha = 0.5$ for the function we have been using:\n",
    "$$ x_1 = \n",
    "\\begin{bmatrix} 1 & 0 \\\\ 0 & 1 \\end{bmatrix}\n",
    "\\begin{bmatrix} x_1 \\\\ x_2 \\end{bmatrix} -  \n",
    "\\begin{bmatrix} 2 & 1 \\\\ 1 & 3 \\end{bmatrix} \n",
    "\\begin{bmatrix} x_1 \\\\ x_2 \\end{bmatrix} + \n",
    "\\begin{bmatrix} 0.4 \\\\ 0.6 \\end{bmatrix} $$"
   ]
  },
  {
   "cell_type": "markdown",
   "id": "c2d5255d-3a1e-4217-873d-86d59edc0a32",
   "metadata": {},
   "source": [
    "$$ \\Rightarrow A = \\begin{bmatrix} -1 & -1 \\\\ -1 & -2 \\end{bmatrix}$$"
   ]
  },
  {
   "cell_type": "markdown",
   "id": "36b0d5f9-f32e-487a-bdb4-0b554410278a",
   "metadata": {},
   "source": [
    "$$ det\\begin{bmatrix} -1 - \\lambda & -1 \\\\ -1 & -2 - \\lambda \\end{bmatrix} = 0 $$"
   ]
  },
  {
   "cell_type": "markdown",
   "id": "21d82fe1-66da-4e6e-afdd-fe22accf8194",
   "metadata": {},
   "source": [
    "$$ \\lambda^2 + 3\\lambda + 1 = 0 $$\n",
    "$$ \\lambda \\approx -2.618, -0.382 $$\n",
    "Since the absolute values of the eigenvalues are not less than 1, $A^{z-1}$ will not converge and so $x_{t+1}$ will not converge to $x^*$. "
   ]
  },
  {
   "cell_type": "markdown",
   "id": "af5dc1af-2b89-49de-8e9b-c3c811de2109",
   "metadata": {},
   "source": [
    "#### Part 4a"
   ]
  },
  {
   "cell_type": "markdown",
   "id": "a77ed6d0-9708-4aed-8edc-18d2ddc09320",
   "metadata": {},
   "source": [
    "Finding $ x_{t+1} = x_t - Hf(x_{t})^{-1} \\nabla f(x)$ using $x_t = \\begin{bmatrix} 1 \\\\ 2 \\end{bmatrix}$:\n",
    "$$ H^{-1} = \\frac{1}{20} \n",
    "\\begin{bmatrix} \n",
    "6 & -2 \\\\ -2 & 4\n",
    "\\end{bmatrix}  = \\begin{bmatrix} \n",
    "\\frac{3}{10} & -\\frac{1}{10} \\\\ -\\frac{1}{10} & \\frac{1}{5}\n",
    "\\end{bmatrix}$$"
   ]
  },
  {
   "cell_type": "markdown",
   "id": "ad6dd9b4-bc6f-4815-9c8f-72ae96b5cd56",
   "metadata": {},
   "source": [
    "$$ \\nabla f(x_t) =  \\begin{bmatrix} \n",
    "4(1) - 4 + 2(2) \\\\ 6(2) - 6 + 2(1)\n",
    "\\end{bmatrix} = \n",
    "\\begin{bmatrix} 4 \\\\ 8 \\end{bmatrix}$$"
   ]
  },
  {
   "cell_type": "markdown",
   "id": "263358ea-2d9f-4006-9772-b79a3c8e818a",
   "metadata": {},
   "source": [
    "$$ x_{t+1} = \n",
    "\\begin{bmatrix} \n",
    "1 \\\\ 2\n",
    "\\end{bmatrix} - \n",
    " \\begin{bmatrix} \n",
    "\\frac{3}{10} & -\\frac{1}{10} \\\\ -\\frac{1}{10} & \\frac{1}{5}\n",
    "\\end{bmatrix} \n",
    "\\begin{bmatrix} 4 \\\\ 8 \\end{bmatrix}\n",
    " $$\n",
    "$$ = \\begin{bmatrix} 1 \\\\ 2 \\end{bmatrix} -\n",
    "\\begin{bmatrix} \\frac{6}{5} - \\frac{4}{5} \\\\ -\\frac{2}{5} + \\frac{8}{5} \\end{bmatrix}\n",
    "$$\n"
   ]
  },
  {
   "cell_type": "markdown",
   "id": "dd3fc155-5037-42ae-9b67-539cd7523eb1",
   "metadata": {},
   "source": [
    "$$ x_{t+1} =  \\begin{bmatrix} \n",
    "\\frac{3}{5} \\\\\\frac{4}{5}\n",
    "\\end{bmatrix} $$"
   ]
  },
  {
   "cell_type": "markdown",
   "id": "7b314eda-dc4a-4bda-bf79-7b67c8962f9d",
   "metadata": {},
   "source": [
    "This matches the $x^*$ we calculated in 2.1, so Newton's method does converge in one iteration."
   ]
  },
  {
   "cell_type": "markdown",
   "id": "46139e41-e3d6-4820-88fd-1a0f39e71666",
   "metadata": {
    "tags": []
   },
   "source": [
    "#### Part 4b"
   ]
  },
  {
   "cell_type": "markdown",
   "id": "b90de791-a5f3-4fcd-b9b6-1181b3efaa37",
   "metadata": {},
   "source": [
    "$$ x_{t+1} = x_t - \\alpha \\nabla f(x_t) $$\n",
    "Using $ \\alpha = 0.1$ and $ \\nabla f(x_t) $ found in previous part:\n",
    "$$ x_{t+1} = \\begin{bmatrix} 1 \\\\ 2 \\end{bmatrix} - 0.1 \\begin{bmatrix} 4 \\\\ 8 \\end{bmatrix} $$\n",
    "$$ x_{t+1} = \\begin{bmatrix} \\frac{3}{5} \\\\ \\frac{6}{5} \\end{bmatrix} $$"
   ]
  },
  {
   "cell_type": "markdown",
   "id": "816a6c8a-0f83-4065-b0da-2c36a5a039a5",
   "metadata": {},
   "source": [
    "This is not converged so finding $x_{t+2}$:\n",
    "$$ x_{t+2} = x_{t+1} - \\alpha \\nabla f(x_{t+1}) $$\n",
    "$$ = \\begin{bmatrix} \\frac{3}{5} \\\\ \\frac{6}{5} \\end{bmatrix} - 0.1 \n",
    "\\begin{bmatrix} 4 \\cdot \\frac{3}{5} - 4 + 2 \\cdot \\frac{6}{5} \\\\ 6\\cdot \\frac{6}{5} - 6 + 2\\cdot \\frac{3}{5} \\end{bmatrix} $$\n",
    "$$ = \\begin{bmatrix} \\frac{3}{5} \\\\ \\frac{6}{5} \\end{bmatrix} - 0.1 \n",
    "\\begin{bmatrix} \\frac{4}{5} \\\\ \\frac{12}{5} \\end{bmatrix} $$"
   ]
  },
  {
   "cell_type": "markdown",
   "id": "7e0fe030-2314-4e97-8065-9d105f87d8e1",
   "metadata": {},
   "source": [
    "$$ x_{t+2} = \\begin{bmatrix} \\frac{13}{25} \\\\ \\frac{23}{25} \\end{bmatrix}  $$\n",
    "\n",
    "This is also not converged at $x^*$"
   ]
  },
  {
   "cell_type": "markdown",
   "id": "d6888428-7aa1-40a6-87b0-6169f48d5e12",
   "metadata": {},
   "source": [
    "#### Part 4c"
   ]
  },
  {
   "cell_type": "markdown",
   "id": "782dc0d5-9564-4b13-adaa-79e054859d06",
   "metadata": {},
   "source": [
    "Newton's method converges faster. This is because $f(x)$ is convex function that is quadratic. Therefore, the second derivative in the update for Newton's method can calculate the exactuve curve at $x_t$ (slope from gradient and curvature from Hessian). So the first step can reach the optimum. For gradient descent, it takes an even step of $\\alpha$ down the tangent line of steepest descent, which doesn't take into account curvature that the second derivative for Newton's method does."
   ]
  },
  {
   "cell_type": "markdown",
   "id": "751908a4-1e7f-4675-8a12-b4e75cffcdc4",
   "metadata": {},
   "source": [
    "### Exercise 3"
   ]
  },
  {
   "cell_type": "markdown",
   "id": "f09a6060-01d4-496f-a321-d22620b872b4",
   "metadata": {},
   "source": [
    "#### Part 1"
   ]
  },
  {
   "cell_type": "markdown",
   "id": "aaceefc7-f821-4905-a937-a289e348a57d",
   "metadata": {},
   "source": [
    "If we had depth $n$, or a level for every observation, we can choose a feature that classifies at least one point at each depth. Then at depth where $d = n$, we can guarantee to classify $n$ points correctly, or we can achieve 100% training accuracy. "
   ]
  },
  {
   "cell_type": "markdown",
   "id": "65bfe354-53d1-4b88-a186-9d2749e4d5c8",
   "metadata": {},
   "source": [
    "#### Part 2"
   ]
  },
  {
   "cell_type": "markdown",
   "id": "501a6f83-0187-484c-bb52-3361d3a57af7",
   "metadata": {},
   "source": [
    "Using the defintion of correlation:\n",
    "$$ \\rho = \\frac{Cov(D_i, D_j)}{\\sqrt{Var(D_i)Var(D_j)}} $$"
   ]
  },
  {
   "cell_type": "markdown",
   "id": "d9ba836d-4daa-4420-b5dd-43c78f436eb2",
   "metadata": {},
   "source": [
    "Since $ D_i$ are indentically distributed with $Var(D_i) = \\sigma^2$,\n",
    "$$ \\rho = \\frac{Cov(D_i, D_j)}{\\sqrt{\\sigma^2\\sigma^2}} $$\n",
    "$$ Cov(D_i, D_j) = \\rho \\sigma^2 $$"
   ]
  },
  {
   "cell_type": "markdown",
   "id": "a317c6bc-2d94-40ac-bd72-fda42be66ca0",
   "metadata": {},
   "source": [
    "$ \\bar{D} = \\frac{1}{T} \\sum_{i=1}^T D_i$\n",
    "$$ Var(\\bar{D}) = Var(\\frac{1}{T} \\sum_{i=1}^T D_i) $$\n",
    "Since $T$ is a constant,\n",
    "$$ = \\frac{1}{T^2} Var(\\sum_{i=1}^T D_i) $$"
   ]
  },
  {
   "cell_type": "markdown",
   "id": "cf4935a0-1d7d-4370-a865-a50adbf665e3",
   "metadata": {},
   "source": [
    "By definition of variance of sum of random variables,\n",
    "$$ = \\frac{1}{T^2} [\\sum_{i=1}^T Var(D_i) + \\sum_{i=1}^T \\sum_{i=j\\neq i}Cov(D_i, D_j) ] $$\n",
    "\n",
    "The covariance matrix is $TxT$, so there are $T^2$ covariances subtracting out $T$ values of $Cov(D_i, D_i)$:\n",
    "$$ = \\frac{1}{T^2} [ T\\sigma^2 + (T^2 - T) \\rho \\sigma^2 ] $$\n",
    "\n",
    "$$ = \\frac{1}{T^2} [ T \\sigma^2 + T^2\\rho \\sigma^2 - T \\rho \\sigma^2 ] $$"
   ]
  },
  {
   "cell_type": "markdown",
   "id": "fd232039-3fc3-4f31-9bfb-018f1521f759",
   "metadata": {},
   "source": [
    "$$ Var(\\bar{D}) = \\frac{(1-\\rho) \\sigma^2}{T} + \\rho \\sigma^2 $$"
   ]
  },
  {
   "cell_type": "markdown",
   "id": "293c29ac-fc60-4b01-941a-f4b998c2c313",
   "metadata": {},
   "source": [
    "#### Part 3"
   ]
  },
  {
   "cell_type": "markdown",
   "id": "0cdb752e-5050-427e-b4d8-b0f25e3e8dc1",
   "metadata": {},
   "source": [
    "Given the result from 3.1, as T increases:\n",
    "$$ \\lim_{T \\to \\infty} \\frac{(1-\\rho)\\sigma^2}{T} = 0 $$\n",
    "\n",
    "Therefore, the variance will decrease as T increases because the first term goes to 0 as T increases. When T is very large, the variance of the average of trees converges towards $\\rho \\sigma^2 $"
   ]
  },
  {
   "cell_type": "markdown",
   "id": "c5432cdc-a73a-4c7a-afed-e76c3f1f3612",
   "metadata": {},
   "source": [
    "#### Part 4"
   ]
  },
  {
   "cell_type": "markdown",
   "id": "eff49ba6-ba4b-4c92-9e54-5066438b2b39",
   "metadata": {},
   "source": [
    "The correlation between one tree and another is controlled by the number of features to consider for each tree in random forests. The more features, the higher the correlation since each tree is split using essentially all of the features of the dataset rather than a subset. "
   ]
  },
  {
   "cell_type": "markdown",
   "id": "ce249d6a-2dba-423c-a115-8cc6e7b8f465",
   "metadata": {},
   "source": [
    "### Exercise 4"
   ]
  },
  {
   "cell_type": "markdown",
   "id": "a4d795ff-2151-4b56-91fa-9c0f032f5716",
   "metadata": {},
   "source": [
    "#### Part 1"
   ]
  },
  {
   "cell_type": "code",
   "execution_count": 192,
   "id": "694e4fce-fbc9-4009-866d-57675d4473c2",
   "metadata": {},
   "outputs": [],
   "source": [
    "# draw 50 for neg \n",
    "np.random.seed(21)\n",
    "neg_samps = np.random.multivariate_normal([-5,-5], \n",
    "                                          np.diag(np.full(2,5)), size=50)\n",
    "\n",
    "# draw 50 for pos \n",
    "pos_samps = np.random.multivariate_normal([5,5], \n",
    "                                          np.diag(np.full(2,5)), size=50)"
   ]
  },
  {
   "cell_type": "code",
   "execution_count": 193,
   "id": "04dc2081-f20d-4d50-b151-1669f045c907",
   "metadata": {},
   "outputs": [],
   "source": [
    "X = np.concatenate((pos_samps, neg_samps))\n",
    "y = np.concatenate((np.full(50,1), np.full(50, -1)))"
   ]
  },
  {
   "cell_type": "code",
   "execution_count": 194,
   "id": "e6c4a11a-a1df-4914-b621-a85212652ee0",
   "metadata": {},
   "outputs": [
    {
     "data": {
      "text/plain": [
       "<matplotlib.legend.Legend at 0x7f990a9d2040>"
      ]
     },
     "execution_count": 194,
     "metadata": {},
     "output_type": "execute_result"
    },
    {
     "data": {
      "image/png": "[encoded data removed]",
      "text/plain": [
       "<Figure size 432x288 with 1 Axes>"
      ]
     },
     "metadata": {
      "needs_background": "light"
     },
     "output_type": "display_data"
    }
   ],
   "source": [
    "plot = plt.scatter(X[:,0],X[:,1], c=y,cmap=\"jet\", lw=0)\n",
    "plt.legend(*plot.legend_elements())"
   ]
  },
  {
   "cell_type": "markdown",
   "id": "3f96eb99-a593-4fe0-bc61-596a63a50ee5",
   "metadata": {},
   "source": [
    "#### Part 2"
   ]
  },
  {
   "cell_type": "code",
   "execution_count": 220,
   "id": "f6945da5-2c27-4177-83f6-8508961b73e4",
   "metadata": {},
   "outputs": [
    {
     "data": {
      "text/plain": [
       "SVC(C=1, kernel='linear')"
      ]
     },
     "execution_count": 220,
     "metadata": {},
     "output_type": "execute_result"
    }
   ],
   "source": [
    "svc = SVC(C=1, kernel='linear')\n",
    "svc.fit(X,y)"
   ]
  },
  {
   "cell_type": "code",
   "execution_count": 221,
   "id": "9aca7fb5-ebe0-48b8-adc7-3d46bc7ca19c",
   "metadata": {},
   "outputs": [],
   "source": [
    "sup_vec = svc.support_vectors_\n",
    "coef = svc.coef_[0]\n",
    "intercept = svc.intercept_\n",
    "a = -coef[0]/coef[1]\n",
    "b = intercept[0]/coef[1]"
   ]
  },
  {
   "cell_type": "code",
   "execution_count": 225,
   "id": "da19c033-345b-44b0-a1e0-f33b62ccaad8",
   "metadata": {},
   "outputs": [
    {
     "data": {
      "text/plain": [
       "[<matplotlib.lines.Line2D at 0x7f990c6286a0>]"
      ]
     },
     "execution_count": 225,
     "metadata": {},
     "output_type": "execute_result"
    },
    {
     "data": {
      "image/png": "[encoded data removed]",
      "text/plain": [
       "<Figure size 432x288 with 1 Axes>"
      ]
     },
     "metadata": {
      "needs_background": "light"
     },
     "output_type": "display_data"
    }
   ],
   "source": [
    "axes = plt.axes()\n",
    "\n",
    "# original \n",
    "plot = plt.scatter(X[:,0],X[:,1], c=y,cmap=\"jet\", lw=0)\n",
    "plt.legend(*plot.legend_elements())\n",
    "# support vectors\n",
    "plt.scatter(sup_vec[:,0],sup_vec[:,1], marker='s', c='#00FF00')\n",
    "# decision boundary \n",
    "x_vals = np.array(axes.get_xlim())\n",
    "y_vals =  a * x_vals -b\n",
    "plt.plot(x_vals, y_vals, '--',c='#00FF00')"
   ]
  },
  {
   "cell_type": "markdown",
   "id": "332896f2-960f-4fd0-9259-751ba8fa126d",
   "metadata": {},
   "source": [
    "#### Part 3"
   ]
  },
  {
   "cell_type": "code",
   "execution_count": 235,
   "id": "7d563269-4635-49f3-97b9-9d0cb0e6d086",
   "metadata": {},
   "outputs": [],
   "source": [
    "cval = [0.01, 0.1, 1, 100, 1000, 10000, 100000, 1000000, 10000000]\n",
    "bound = []\n",
    "num_supp = [] \n",
    "\n",
    "# for each value of C \n",
    "for c in cval:\n",
    "    svc = SVC(C=c, kernel='linear')\n",
    "    svc.fit(X,y)\n",
    "    \n",
    "    bound.append([svc.coef_[0], svc.intercept_])\n",
    "    num_supp.append(svc.support_.shape[0])"
   ]
  },
  {
   "cell_type": "code",
   "execution_count": 236,
   "id": "e8e18b0e-b2d6-4905-92db-7a528d4eae82",
   "metadata": {},
   "outputs": [
    {
     "data": {
      "image/png": "[encoded data removed]",
      "text/plain": [
       "<Figure size 432x288 with 1 Axes>"
      ]
     },
     "metadata": {
      "needs_background": "light"
     },
     "output_type": "display_data"
    }
   ],
   "source": [
    "axes = plt.axes()\n",
    "# original \n",
    "plot = plt.scatter(X[:,0],X[:,1], c=y,cmap=\"jet\", lw=0)\n",
    "plt.legend(*plot.legend_elements())\n",
    "\n",
    "# plot boundaries \n",
    "x_vals = np.array(axes.get_xlim())\n",
    "for i in bound:\n",
    "    a = -i[0][0]/i[0][1]\n",
    "    b = i[1][0]/i[0][1]\n",
    "    y_vals = a * x_vals -b\n",
    "    plt.plot(x_vals, y_vals, '--',c='#00FF00')"
   ]
  },
  {
   "cell_type": "code",
   "execution_count": 239,
   "id": "e4ffb0eb-3d1b-4e1b-a5f1-44bcf7a77616",
   "metadata": {},
   "outputs": [
    {
     "data": {
      "text/plain": [
       "[<matplotlib.lines.Line2D at 0x7f990ac903d0>]"
      ]
     },
     "execution_count": 239,
     "metadata": {},
     "output_type": "execute_result"
    },
    {
     "data": {
      "image/png": "[encoded data removed]",
      "text/plain": [
       "<Figure size 432x288 with 1 Axes>"
      ]
     },
     "metadata": {
      "needs_background": "light"
     },
     "output_type": "display_data"
    }
   ],
   "source": [
    "# plot num of support vectors \n",
    "plt.scatter(np.log(cval), num_supp)\n",
    "plt.plot(np.log(cval), num_supp)"
   ]
  },
  {
   "cell_type": "markdown",
   "id": "7fc73e53-5c74-49b8-81dc-47c150c623ff",
   "metadata": {},
   "source": [
    "The number of support vectors decreases from 10 at the lowest C value of 0.01 and plateaus at 2 support vectors as C increases. When C is small, it becomes a soft-max SVM and prioritizes maximizing the margin over perfect classification. Therefore, the margin is the largest when C is 0.01 among the 9 C values, and so there are more data points from the two data clusters that fall within the margin. When C increases, the tolerance for misclassification decreases and becomes SVM without soft-max. For this sample, when C increases, the maximum margin has two points that are exactly on the margin. "
   ]
  },
  {
   "cell_type": "markdown",
   "id": "7b24ea75-87ae-4f9d-8c96-68b4fe41da3e",
   "metadata": {},
   "source": [
    "#### Part 4"
   ]
  },
  {
   "cell_type": "code",
   "execution_count": 201,
   "id": "b52c0e7f-200d-4467-86cd-58c32e581c76",
   "metadata": {},
   "outputs": [],
   "source": [
    "norm_scaler = preprocessing.MinMaxScaler()\n",
    "X_norm = norm_scaler.fit_transform(X)"
   ]
  },
  {
   "cell_type": "code",
   "execution_count": 237,
   "id": "c24b9b85-186b-485a-86ff-fea8cbcb4de6",
   "metadata": {},
   "outputs": [],
   "source": [
    "bound_norm = []\n",
    "num_supp_norm = [] \n",
    "\n",
    "# for each value of C \n",
    "for c in cval:\n",
    "    svc = SVC(C=c, kernel='linear')\n",
    "    svc.fit(X_norm,y)\n",
    "    \n",
    "    bound_norm.append([svc.coef_[0], svc.intercept_])\n",
    "    num_supp_norm.append(svc.support_.shape[0])"
   ]
  },
  {
   "cell_type": "code",
   "execution_count": 238,
   "id": "41f112f8-81ae-44f8-a078-9732ae74f9d8",
   "metadata": {},
   "outputs": [
    {
     "data": {
      "image/png": "[encoded data removed]",
      "text/plain": [
       "<Figure size 432x288 with 1 Axes>"
      ]
     },
     "metadata": {
      "needs_background": "light"
     },
     "output_type": "display_data"
    }
   ],
   "source": [
    "axes = plt.axes()\n",
    "# original \n",
    "plot = plt.scatter(X_norm[:,0],X_norm[:,1], c=y,cmap=\"jet\", lw=0)\n",
    "plt.legend(*plot.legend_elements())\n",
    "\n",
    "# plot boundaries \n",
    "x_vals = np.array(axes.get_xlim())\n",
    "y_vals = np.array(axes.get_ylim())\n",
    "for i in bound_norm:\n",
    "    a = -i[0][0]/i[0][1]\n",
    "    b = i[1][0]/i[0][1]\n",
    "    y_vals = a * x_vals - b\n",
    "    plt.plot(x_vals, y_vals, '--',c='#00FF00')"
   ]
  },
  {
   "cell_type": "code",
   "execution_count": 204,
   "id": "65e5fd04-b96d-4229-8a1f-a97bd0733589",
   "metadata": {},
   "outputs": [
    {
     "data": {
      "text/plain": [
       "[<matplotlib.lines.Line2D at 0x7f990b466eb0>]"
      ]
     },
     "execution_count": 204,
     "metadata": {},
     "output_type": "execute_result"
    },
    {
     "data": {
      "image/png": "[encoded data removed]",
      "text/plain": [
       "<Figure size 432x288 with 1 Axes>"
      ]
     },
     "metadata": {
      "needs_background": "light"
     },
     "output_type": "display_data"
    }
   ],
   "source": [
    "plt.scatter(np.log(cval), num_supp_norm)\n",
    "plt.plot(np.log(cval), num_supp_norm)"
   ]
  },
  {
   "cell_type": "markdown",
   "id": "01f3435e-4b9b-4566-b6ab-a5b3a0e45a93",
   "metadata": {},
   "source": [
    "When the values of C are large (above 1 for this sample), the decision boundaries are the same with two support vectors. When C is less than or equal to 1, the decision boundaries are different in that the slope of the boundary line shifts down and becomes more negatively sloped (relative to both the SVM without soft-margin as well as the previous question). Additionally, at the same low C values, the geometric margin is larger for normalized data vs unnormalized as the number of support vectors are larger. This makes sense as the scale of the normalized data is much smaller (0,1) as opposed to (-10, 10). When the data is normalized, since the slope of the decision boundary line becomes more negative (where feature 1 is on the x-axis of the plot), this suggests that feature 1 is more influential to the predictions. "
   ]
  },
  {
   "cell_type": "markdown",
   "id": "0b979d1c-e272-4f99-9dc6-ddef790f5fd8",
   "metadata": {},
   "source": [
    "#### Part 5"
   ]
  },
  {
   "cell_type": "code",
   "execution_count": 205,
   "id": "310acec6-8add-4a5d-bb71-278840701141",
   "metadata": {},
   "outputs": [],
   "source": [
    "# fitting unnorm & norm \n",
    "gb = GradientBoostingClassifier(random_state=0).fit(X, y)\n",
    "gb_norm = GradientBoostingClassifier(random_state=0).fit(X_norm, y)"
   ]
  },
  {
   "cell_type": "code",
   "execution_count": 206,
   "id": "be2de10c-8edc-4ed9-b5e8-031d74fb1b88",
   "metadata": {},
   "outputs": [],
   "source": [
    "# create grid based on limits of data \n",
    "x0grid = np.arange(np.min(X[:,0]), np.max(X[:,0]), 0.1)\n",
    "x1grid = np.arange(np.min(X[:,1]), np.max(X[:,1]), 0.1)\n",
    "\n",
    "xx, yy = np.meshgrid(x0grid, x1grid)\n",
    "# flatten each grid to a vector\n",
    "r0, r1 = xx.flatten(), yy.flatten()\n",
    "r0, r1 = r0.reshape((len(r0), 1)), r1.reshape((len(r1), 1))\n",
    "# horizontal stack vectors to create x1,x2 input for the model\n",
    "grid = np.hstack((r0,r1))"
   ]
  },
  {
   "cell_type": "code",
   "execution_count": 207,
   "id": "e1935302-21c1-487d-97a7-9ac84e6c4886",
   "metadata": {},
   "outputs": [],
   "source": [
    "# make predictions for the grid\n",
    "res = gb.predict(grid)\n",
    "# reshape the predictions back into a grid\n",
    "res_grid = res.reshape(xx.shape)\n",
    "\n",
    "# for each of the indices \n",
    "# keep only if next one is different \n",
    "new_x = []\n",
    "new_y = []\n",
    "\n",
    "for i in range(res_grid.shape[0]):\n",
    "    row = res_grid[i,:]\n",
    "    diff_ind = np.where(row[:-1] != row[1:])[0]\n",
    "    new_x.append(xx[i,diff_ind])\n",
    "    new_y.append(yy[i,diff_ind])"
   ]
  },
  {
   "cell_type": "code",
   "execution_count": 208,
   "id": "97d99341-9ac3-4ca5-a8f8-15906e786f54",
   "metadata": {},
   "outputs": [],
   "source": [
    "# make predictions for the grid\n",
    "res_norm = gb_norm.predict(grid)\n",
    "# reshape the predictions back into a grid\n",
    "res_grid_norm = res_norm.reshape(xx.shape)\n",
    "\n",
    "# for each of the indices \n",
    "# keep only if next one is different \n",
    "new_x_norm = []\n",
    "new_y_norm = []\n",
    "\n",
    "for i in range(res_grid_norm.shape[0]):\n",
    "    row = res_grid_norm[i,:]\n",
    "    diff_ind = np.where(row[:-1] != row[1:])[0]\n",
    "    new_x_norm.append(xx[i,diff_ind])\n",
    "    new_y_norm.append(yy[i,diff_ind])"
   ]
  },
  {
   "cell_type": "code",
   "execution_count": 241,
   "id": "d77c4d5d-a6db-492f-bf0d-0f88f33b24a7",
   "metadata": {},
   "outputs": [
    {
     "data": {
      "text/plain": [
       "<matplotlib.legend.Legend at 0x7f990bb1ef70>"
      ]
     },
     "execution_count": 241,
     "metadata": {},
     "output_type": "execute_result"
    },
    {
     "data": {
      "image/png": "[encoded data removed]",
      "text/plain": [
       "<Figure size 432x288 with 1 Axes>"
      ]
     },
     "metadata": {
      "needs_background": "light"
     },
     "output_type": "display_data"
    }
   ],
   "source": [
    "# original \n",
    "plt.scatter(X[:,0],X[:,1], c=y,cmap=\"jet\", lw=0)\n",
    "# plot boundaries \n",
    "plt.plot(new_x, new_y)\n",
    "plt.plot(new_x_norm, new_y_norm)\n",
    "plt.legend(['w/o norm', 'w/ norm'])"
   ]
  },
  {
   "cell_type": "markdown",
   "id": "dc6e28fa-fe53-40a0-b277-9ca6de251f9f",
   "metadata": {},
   "source": [
    "The plots differ from the previous plots in that they are vertical straight lines as opposed to the diagonal lines from SVM. This is as expected since we saw in previous parts that feature 1 was more influential, and also the data is perfectly separable using just feature 1 (hence the vertical line). When the data is normalized, the data is separable at a  higher values of feature 1 hence the difference in the two boosting boundary lines. "
   ]
  },
  {
   "cell_type": "markdown",
   "id": "b4cfec8f-03b8-42d8-a112-ca1bb16db592",
   "metadata": {},
   "source": [
    "### Exercise 5"
   ]
  },
  {
   "cell_type": "markdown",
   "id": "da0b621d-eaeb-40c0-b575-117b4573166f",
   "metadata": {},
   "source": [
    "#### Part 1.a"
   ]
  },
  {
   "cell_type": "markdown",
   "id": "d22dca18-cb84-4d96-8051-a277122a3298",
   "metadata": {},
   "source": [
    "First deriving $P(Y = 1 \\mid x ) $ given the logistic regression function: \n",
    "$$ log(\\frac{P(Y = 1 \\mid x, \\theta)}{P(Y = 0\\mid x, theta)}) = \\theta^Tx $$"
   ]
  },
  {
   "cell_type": "markdown",
   "id": "9ae54199-6fbf-4081-acc0-104e5bf2aef7",
   "metadata": {},
   "source": [
    "$$ \\frac{P(Y = 1 \\mid x, \\theta)}{P(Y = 0\\mid x, theta)} = e^{\\theta^T x} $$"
   ]
  },
  {
   "cell_type": "markdown",
   "id": "eeecd5e0-aaa1-4a4d-81d1-c7dc0f17ce0f",
   "metadata": {},
   "source": [
    "$$ P(Y=1 \\mid x, \\theta)= e^{\\theta^Tx} (1 - P(Y=1 \\mid x, \\theta)) $$"
   ]
  },
  {
   "cell_type": "markdown",
   "id": "4d978a29-040a-4605-9b05-4a07080c21f5",
   "metadata": {},
   "source": [
    "$$ P(Y=1 \\mid x, \\theta)+  e^{\\theta^Tx}  P(Y=1 \\mid x, \\theta) =  e^{\\theta^Tx} $$"
   ]
  },
  {
   "cell_type": "markdown",
   "id": "c7ade1c4-ccd7-4897-84b0-78218eb1db0a",
   "metadata": {},
   "source": [
    "$$ P(Y=1 \\mid x, \\theta) =   \\frac{e^{\\theta^Tx}}{1+ e^{\\theta^Tx} }$$"
   ]
  },
  {
   "cell_type": "markdown",
   "id": "d9a028ae-c285-4ac4-9dd4-e32684f84260",
   "metadata": {},
   "source": [
    "$$ P(Y=0 \\mid x, \\theta) =  1- \\frac{e^{\\theta^Tx}}{1+ e^{\\theta^Tx} } = \\frac{1}{1 + e^{\\theta^Tx}}$$"
   ]
  },
  {
   "cell_type": "markdown",
   "id": "ce2b3cd5-9483-47e1-875e-c940a4787478",
   "metadata": {},
   "source": [
    "Finding the negative log-likelihood: \n",
    "$$ L(\\theta) = \\prod_i^n P(y_i \\mid x, \\theta) $$\n",
    "Since $y_i \\sim Bern(P(y_i = 1 \\mid x, \\theta) $:\n",
    "$$ L(\\theta) = \\prod_i^n P(y_i = 1)^{y_i} (1 - P(y_i = 1))^{1- y_i}) $$"
   ]
  },
  {
   "cell_type": "markdown",
   "id": "96f4655a-f46d-4b00-9ec6-e7e41658bfe1",
   "metadata": {},
   "source": [
    "$$ l(\\theta) = \\sum_i^n [y_i logP(y_i = 1) + (1-y_i) log(1- P(y_i =1))] $$"
   ]
  },
  {
   "cell_type": "markdown",
   "id": "a3b1fc8a-b6e2-4661-ac44-deba83117ee1",
   "metadata": {},
   "source": [
    "$$ = \\sum_i^n y_i log(\\frac{P(y_i = 1)}{1-P(y_i = 1)}) + \\sum_i^n log(1-P(y_i = 1)) $$"
   ]
  },
  {
   "cell_type": "markdown",
   "id": "31a9f66e-d2ff-4e47-9061-a32b170c940c",
   "metadata": {},
   "source": [
    "The log term of the first term is the form of the logistic regression function, which reduces to: \n",
    "$$ = \\sum_i^n y_i \\theta^Tx + \\sum_i^n log P(y_i = 0 \\mid x, \\theta) $$"
   ]
  },
  {
   "cell_type": "markdown",
   "id": "026c14d4-3eb6-48ce-8080-a8bdffc8a0a0",
   "metadata": {},
   "source": [
    "Using the expression found from above for $P(y_i = 0)$:\n",
    "$$ = \\sum_i^n y_i \\theta^Tx + \\sum_i^n log \\frac{1}{1 + e^{\\theta^Tx}} $$\n",
    "$$ l(\\theta)= \\sum_i^n y_i \\theta^Tx + \\sum_i^n - log (1 + e^{\\theta^Tx}) $$"
   ]
  },
  {
   "cell_type": "markdown",
   "id": "d6ac36c7-b402-4162-b30b-0f50a4f55249",
   "metadata": {},
   "source": [
    "$$ -l(\\theta)= -\\sum_i^n y_i \\theta^Tx + \\sum_i^n log (1 + e^{\\theta^Tx})$$"
   ]
  },
  {
   "cell_type": "markdown",
   "id": "f477cabf-c687-4c5d-81f6-613f7b556dd9",
   "metadata": {},
   "source": [
    "#### Part 1.b"
   ]
  },
  {
   "cell_type": "markdown",
   "id": "f0fae8aa-d670-497e-997b-0a9d5223b2a1",
   "metadata": {},
   "source": [
    "$$ J(\\theta) = -\\sum_i^n y_i x + \\sum_i^n \\frac{xe^{\\theta^Tx}}{1 + e^{\\theta^Tx}} $$"
   ]
  },
  {
   "cell_type": "markdown",
   "id": "a071ca9f-0335-4970-a0d3-80019818dd8a",
   "metadata": {},
   "source": [
    "$$ J(\\theta) = \\sum_i^n x ( -y_i + \\frac{xe^{\\theta^Tx}}{1 + e^{\\theta^Tx}} ) $$"
   ]
  },
  {
   "cell_type": "markdown",
   "id": "99404548-0913-411b-a35a-c6d877592838",
   "metadata": {},
   "source": [
    "#### Part 1.c"
   ]
  },
  {
   "cell_type": "markdown",
   "id": "3fdd2a09-bd70-4091-a565-4321fbfd70bc",
   "metadata": {},
   "source": [
    "The gradient descent update for $\\theta_j$ is:\n",
    "$$ \\theta_{j+1} = \\theta_j - \\eta \\cdot \\sum_i^n x ( -y_i + \\frac{xe^{\\theta^Tx}}{1 + e^{\\theta^Tx}} )  $$"
   ]
  },
  {
   "cell_type": "markdown",
   "id": "9844fe5f-0831-4afe-b59e-a28086336246",
   "metadata": {},
   "source": [
    "#### Part 2"
   ]
  },
  {
   "cell_type": "code",
   "execution_count": 307,
   "id": "691e09f6-3c1e-43a1-a475-e96261f5fa2c",
   "metadata": {},
   "outputs": [],
   "source": [
    "d = {}\n",
    "with open(\"dict.txt\") as f:\n",
    "    for line in f:\n",
    "       (val, key) = line.split()\n",
    "       d[int(key)] = val"
   ]
  },
  {
   "cell_type": "code",
   "execution_count": 308,
   "id": "9fe90fc3-f912-4b8a-ae16-0281c807356d",
   "metadata": {},
   "outputs": [],
   "source": [
    "mv = []\n",
    "with open(\"moviereview.tsv\", encoding='utf-8') as file:\n",
    "    mv_file = csv.reader(file, delimiter=\"\\t\")\n",
    "    for row in mv_file:\n",
    "        mv.append(row)"
   ]
  },
  {
   "cell_type": "code",
   "execution_count": 309,
   "id": "5e55a5c0-b79a-4456-a87f-6484d3fac311",
   "metadata": {},
   "outputs": [],
   "source": [
    "# make some dict \n",
    "training_dict = {}\n",
    "y = []\n",
    "ind = 0 \n",
    "# each key is the movie review, each key is word, each value is 1 \n",
    "for row in mv: \n",
    "    words = row[1]\n",
    "    y.append(row[0])\n",
    "    \n",
    "    # find matching words \n",
    "    unq_words = set(words.split(' '))\n",
    "    ind_match = [k for k, v in d.items() if v in unq_words]\n",
    "    \n",
    "    bias_i = {0:1}\n",
    "    feature_vec_i = dict((key + 1,1) for key in ind_match)\n",
    "    \n",
    "    # training_dict[ind] = feature_vec_i\n",
    "    bias_i.update(feature_vec_i)\n",
    "    training_dict[ind] = bias_i\n",
    "    \n",
    "    ind += 1\n",
    "\n",
    "    # add 1 to the first of each "
   ]
  },
  {
   "cell_type": "markdown",
   "id": "a325b2ae-4d34-4bd4-8ce2-65b74aed6561",
   "metadata": {
    "tags": []
   },
   "source": [
    "#### Part 3"
   ]
  },
  {
   "cell_type": "code",
   "execution_count": 310,
   "id": "7112ef75-0a0e-4519-8c31-3d95c669860d",
   "metadata": {},
   "outputs": [],
   "source": [
    "# split data into 80 20 \n",
    "X = [v for k, v in training_dict.items()]\n",
    "X_train, X_test, y_train, y_test = train_test_split(X, y, \n",
    "                                                    test_size=0.2, \n",
    "                                                    random_state=512)"
   ]
  },
  {
   "cell_type": "code",
   "execution_count": 333,
   "id": "3f26d23c-d877-445d-b6dd-c89523e9a3c8",
   "metadata": {},
   "outputs": [],
   "source": [
    "def update_gd(y, x, thetas, eta):\n",
    "    updates = [] \n",
    "    total = sum(range(1, len(thetas) + 1))\n",
    "    for i in range(len(thetas)):\n",
    "        # get indices in training data that match with theta_j \n",
    "        ind_match = ind_matches[i]\n",
    "        \n",
    "        update_j = 0\n",
    "        for row in ind_match: \n",
    "            x_i = x[row]\n",
    "            y_i = int(y[row])\n",
    "            \n",
    "            # get only thetas that x_i has \n",
    "            thetas_i = [thetas[x] for x in x_i.keys()]\n",
    "            \n",
    "            # calculate gradient update for x_i\n",
    "            dot = sum([a*b for a,b in zip(thetas_i,x_i.keys())]) \n",
    "            y_hat = (1 / (1+math.exp(-dot)))\n",
    "            update_i = (i / total) * (y_hat - y_i)            \n",
    "            update_j += update_i\n",
    "            \n",
    "        updates.append(eta * update_j)\n",
    "    \n",
    "    return updates"
   ]
  },
  {
   "cell_type": "code",
   "execution_count": 334,
   "id": "5804e835-2131-4f99-8924-6654d4282b3a",
   "metadata": {},
   "outputs": [],
   "source": [
    "# initialize a list of J 0s \n",
    "thetas = [0] * (len(d) + 1)\n",
    "eta = 0.1\n",
    "\n",
    "# get indices of matches in data for each theta value \n",
    "ind_matches = [] \n",
    "for i in range(len(thetas)):            \n",
    "    ind_match_i = [j for j in range(len(X_train)) if i in X_train[j]]\n",
    "    ind_matches.append(ind_match_i)\n",
    "\n",
    "# gradient descent for 30 epochs \n",
    "t = 0 \n",
    "while t < 30:\n",
    "    # get update values \n",
    "    update_vals = update_gd(y_train, X_train, thetas, eta)\n",
    "    # update thetas\n",
    "    thetas = [t_i - u_i for t_i, u_i in zip(thetas, update_vals)]\n",
    "    t+= 1"
   ]
  },
  {
   "cell_type": "code",
   "execution_count": 335,
   "id": "a1bc5ac9-6041-4281-9aa8-67629fd01bb5",
   "metadata": {},
   "outputs": [
    {
     "name": "stdout",
     "output_type": "stream",
     "text": [
      "The training accuracy is: 1.0\n"
     ]
    }
   ],
   "source": [
    "# training error \n",
    "\n",
    "# calc predict labels \n",
    "tr_preds = []\n",
    "total = sum(range(1, len(thetas) + 1))\n",
    "\n",
    "for row in X_train: \n",
    "    thetas_i = [thetas[x] for x in row.keys()]\n",
    "    dot = sum([a*b for a,b in zip(thetas_i,row.keys())]) / total\n",
    "    prob = 1/ (1 + math.exp(-(dot)))\n",
    "    \n",
    "    if prob >= 0.5: \n",
    "        tr_preds.append(1)\n",
    "    else:\n",
    "        tr_preds.append(0)\n",
    "    \n",
    "t = [1 if tr_preds[i] == int(y_train[i]) else 0 for i in range(len(tr_preds))]\n",
    "print('The training accuracy is: ' + str(round(sum(t) / len(tr_preds),2)))"
   ]
  },
  {
   "cell_type": "code",
   "execution_count": 350,
   "id": "1445adf7-1cfe-4306-859f-0ad200c5996c",
   "metadata": {},
   "outputs": [
    {
     "name": "stdout",
     "output_type": "stream",
     "text": [
      "The test accuracy is: 0.804\n"
     ]
    }
   ],
   "source": [
    "# test error \n",
    "# calc predict labels \n",
    "te_preds = []\n",
    "total = sum(range(1, len(thetas) + 1))\n",
    "\n",
    "for row in X_test: \n",
    "    thetas_i = [thetas[x] for x in row.keys()]\n",
    "    dot = sum([a*b for a,b in zip(thetas_i,row.keys())]) / total\n",
    "    prob = 1/ (1 + math.exp(-(dot)))\n",
    "    \n",
    "    if prob >= 0.5: \n",
    "        te_preds.append(1)\n",
    "    else:\n",
    "        te_preds.append(0)\n",
    "    \n",
    "t = [1 if te_preds[i] == int(y_test[i]) else 0 for i in range(len(te_preds))]\n",
    "sum(t) / len(te_preds)\n",
    "\n",
    "print('The test accuracy is: ' + str(round(sum(t) / len(te_preds),3)))"
   ]
  },
  {
   "cell_type": "markdown",
   "id": "c0428d97-8a42-4475-ace9-70dbd9d6416b",
   "metadata": {},
   "source": [
    "### Exercise 6"
   ]
  },
  {
   "cell_type": "markdown",
   "id": "53511bcf-2fc9-4fb9-9984-8a444093bb1d",
   "metadata": {},
   "source": [
    "#### Part 1"
   ]
  },
  {
   "cell_type": "code",
   "execution_count": 256,
   "id": "f526b1e6-58a8-4669-b5ba-5e0e88bf424b",
   "metadata": {},
   "outputs": [],
   "source": [
    "titanic_df = pd.read_csv('Titanic.csv')\n",
    "titanic_df.dropna(axis=1, inplace=True)\n",
    "titanic_df['Sex'] = np.where(titanic_df['Sex']=='male', 0, 1)"
   ]
  },
  {
   "cell_type": "code",
   "execution_count": 257,
   "id": "6bee60ec-82db-4f99-9fd5-d9e9f246305f",
   "metadata": {},
   "outputs": [],
   "source": [
    "X_train, X_test, y_train, y_test = train_test_split(\n",
    "    titanic_df.drop(columns='Survived'), \n",
    "    titanic_df['Survived'], \n",
    "    test_size=0.2, \n",
    "    random_state=500)"
   ]
  },
  {
   "cell_type": "markdown",
   "id": "96cdf2fe-515d-4125-bc74-2288aeabbd24",
   "metadata": {},
   "source": [
    "#### Part 2"
   ]
  },
  {
   "cell_type": "code",
   "execution_count": 258,
   "id": "ab7db376-7cc4-441f-aba0-c958554e52f1",
   "metadata": {},
   "outputs": [
    {
     "data": {
      "text/plain": [
       "0.08882368899867288"
      ]
     },
     "execution_count": 258,
     "metadata": {},
     "output_type": "execute_result"
    }
   ],
   "source": [
    "import timeit\n",
    "gb_timer = timeit.Timer(lambda: GradientBoostingClassifier().fit(\n",
    "    X_train, y_train)) \n",
    "gb_timer.timeit(1)"
   ]
  },
  {
   "cell_type": "code",
   "execution_count": 259,
   "id": "c6e0618d-bd25-449a-8f10-2c291fe92829",
   "metadata": {},
   "outputs": [
    {
     "data": {
      "text/plain": [
       "0.14871093900001142"
      ]
     },
     "execution_count": 259,
     "metadata": {},
     "output_type": "execute_result"
    }
   ],
   "source": [
    "rf_timer = timeit.Timer(lambda: RandomForestClassifier().fit(\n",
    "    X_train, y_train)) \n",
    "rf_timer.timeit(1)"
   ]
  },
  {
   "cell_type": "markdown",
   "id": "b21dbf1f-71ef-4b78-b3d1-249fe93aef48",
   "metadata": {},
   "source": [
    "The gradient boosting model took less time to train. This is mostl likely because by default, boosting algorithm has max depth of 3 for its trees while random forest has no max depth restriction. Therefore, each random forest tree will be fit until it perfectly classifies (while boosting only up to depth of 3). As a result, random forest model takes almost double the time of training boosting. "
   ]
  },
  {
   "cell_type": "markdown",
   "id": "28dff67f-af6c-4fbb-a274-a1b2a50c0065",
   "metadata": {},
   "source": [
    "#### Part 3"
   ]
  },
  {
   "cell_type": "code",
   "execution_count": 260,
   "id": "e83233bb-1018-45e2-8fd7-cc01a7481a8c",
   "metadata": {},
   "outputs": [],
   "source": [
    "# get range of parameters \n",
    "gb_params = {'learning_rate':[0.1,2], \n",
    "             'max_depth':[1,10], \n",
    "             'max_features':[1,3]}\n",
    "gb = GradientBoostingClassifier()\n",
    "gbcv = GridSearchCV(gb, gb_params, cv=5)\n",
    "\n",
    "rf_params = {'criterion':('gini', 'entropy'), \n",
    "             'max_depth':[1,10], \n",
    "             'max_features':[1,3]}\n",
    "rf = RandomForestClassifier()\n",
    "rfcv = GridSearchCV(rf, rf_params, cv=5)"
   ]
  },
  {
   "cell_type": "code",
   "execution_count": 261,
   "id": "19cba156-7a49-4238-8c02-6f9ed762eabd",
   "metadata": {},
   "outputs": [
    {
     "data": {
      "text/plain": [
       "GridSearchCV(cv=5, estimator=RandomForestClassifier(),\n",
       "             param_grid={'criterion': ('gini', 'entropy'), 'max_depth': [1, 10],\n",
       "                         'max_features': [1, 3]})"
      ]
     },
     "execution_count": 261,
     "metadata": {},
     "output_type": "execute_result"
    }
   ],
   "source": [
    "# tune\n",
    "gbcv.fit(X_train, y_train)\n",
    "rfcv.fit(X_train, y_train)"
   ]
  },
  {
   "cell_type": "code",
   "execution_count": 262,
   "id": "49b3e0e8-968b-476a-85e5-9a64cd235ad8",
   "metadata": {},
   "outputs": [
    {
     "data": {
      "text/plain": [
       "RandomForestClassifier(max_depth=10, max_features=1)"
      ]
     },
     "execution_count": 262,
     "metadata": {},
     "output_type": "execute_result"
    }
   ],
   "source": [
    "# get best params\n",
    "best_gb = GradientBoostingClassifier(**gbcv.best_params_)\n",
    "best_rf = RandomForestClassifier(**rfcv.best_params_)\n",
    "\n",
    "# fit best\n",
    "best_gb.fit(X_train, y_train)\n",
    "best_rf.fit(X_train, y_train)"
   ]
  },
  {
   "cell_type": "code",
   "execution_count": 270,
   "id": "bb2ca1cb-b40a-4dd2-ace0-62ab13a1fdbe",
   "metadata": {},
   "outputs": [
    {
     "data": {
      "text/plain": [
       "GradientBoostingClassifier(max_depth=1, max_features=3)"
      ]
     },
     "execution_count": 270,
     "metadata": {},
     "output_type": "execute_result"
    }
   ],
   "source": [
    "best_gb"
   ]
  },
  {
   "cell_type": "code",
   "execution_count": 263,
   "id": "83070c1d-19ed-4e94-92aa-105cd7aef2ac",
   "metadata": {},
   "outputs": [],
   "source": [
    "# predict on train \n",
    "y_scores_gb = best_gb.predict_proba(X_train)\n",
    "y_scores_rf = best_rf.predict_proba(X_train)\n",
    "\n",
    "# draw roc, auc \n",
    "fpr_gb, tpr_gb, thresholds_gb = roc_curve(y_train, y_scores_gb[:,1])\n",
    "fpr_rf, tpr_rf, thresholds_rf = roc_curve(y_train, y_scores_rf[:, 1])"
   ]
  },
  {
   "cell_type": "code",
   "execution_count": 264,
   "id": "eca9ee4e-e55f-47fc-943b-7a726363b7b8",
   "metadata": {},
   "outputs": [
    {
     "data": {
      "text/plain": [
       "Text(0.5, 1.0, 'ROC curves on training set')"
      ]
     },
     "execution_count": 264,
     "metadata": {},
     "output_type": "execute_result"
    },
    {
     "data": {
      "image/png": "[encoded data removed]",
      "text/plain": [
       "<Figure size 432x288 with 1 Axes>"
      ]
     },
     "metadata": {
      "needs_background": "light"
     },
     "output_type": "display_data"
    }
   ],
   "source": [
    "plt.plot(fpr_gb, tpr_gb, label='GB')\n",
    "plt.plot(fpr_rf, tpr_rf, label='RF')\n",
    "plt.legend()\n",
    "plt.title('ROC curves on training set')"
   ]
  },
  {
   "cell_type": "code",
   "execution_count": 268,
   "id": "d1f4bd62-b4d1-47f1-b7c7-0895baa64bff",
   "metadata": {},
   "outputs": [
    {
     "name": "stdout",
     "output_type": "stream",
     "text": [
      "AUC for gradient boosting on the training set is: 0.86\n",
      "AUC for random forest on the training set is: 0.96\n"
     ]
    }
   ],
   "source": [
    "print('AUC for gradient boosting on the training set is: ' + str(round(auc(fpr_gb, tpr_gb),2)))\n",
    "print('AUC for random forest on the training set is: ' + str(round(auc(fpr_rf, tpr_rf),2)))"
   ]
  },
  {
   "cell_type": "code",
   "execution_count": 266,
   "id": "6bee15c5-2b50-424b-b7fe-3a7cda092212",
   "metadata": {},
   "outputs": [
    {
     "data": {
      "text/plain": [
       "Text(0.5, 1.0, 'ROC curves on test set')"
      ]
     },
     "execution_count": 266,
     "metadata": {},
     "output_type": "execute_result"
    },
    {
     "data": {
      "image/png": "[encoded data removed]",
      "text/plain": [
       "<Figure size 432x288 with 1 Axes>"
      ]
     },
     "metadata": {
      "needs_background": "light"
     },
     "output_type": "display_data"
    }
   ],
   "source": [
    "# predict on test\n",
    "y_scores_gbt = best_gb.predict_proba(X_test)\n",
    "y_scores_rft = best_rf.predict_proba(X_test)\n",
    "\n",
    "# draw roc, auc \n",
    "fpr_gbt, tpr_gbt, thresholds_gbt = roc_curve(y_test, y_scores_gbt[:,1])\n",
    "fpr_rft, tpr_rft, thresholds_rft = roc_curve(y_test, y_scores_rft[:, 1])\n",
    "\n",
    "# draw roc, auc \n",
    "plt.plot(fpr_gbt, tpr_gbt, label='GB')\n",
    "plt.plot(fpr_rft, tpr_rft, label='RF')\n",
    "plt.legend()\n",
    "plt.title('ROC curves on test set')"
   ]
  },
  {
   "cell_type": "code",
   "execution_count": 269,
   "id": "ce9e9b45-5ee4-47a0-a23d-4fd84f63a9f9",
   "metadata": {},
   "outputs": [
    {
     "name": "stdout",
     "output_type": "stream",
     "text": [
      "AUC for gradient boosting on the test set is: 0.83\n",
      "AUC for random forest on the test set is: 0.85\n"
     ]
    }
   ],
   "source": [
    "print('AUC for gradient boosting on the test set is: ' + str(round(auc(fpr_gbt, tpr_gbt),2)))\n",
    "print('AUC for random forest on the test set is: ' + str(round(auc(fpr_rft, tpr_rft),2)))"
   ]
  },
  {
   "cell_type": "markdown",
   "id": "f012226e-a13b-4397-8902-36eba66c955f",
   "metadata": {},
   "source": [
    "My results show that random forest perform better on both the training and test set. The best performing random forest from cross validation has parameters max depth of 10 and max features of 1. For boosting, the best parameters were for a max depth of 1 and max features of 3. From the ROC curve for the test set, it appears that random forest outperforms boosting for data points that are confidently classified as 1 (based on the sharp increase in true positive rate at the beginning relative to gradient boosting). Beyond these points, the ROC curve shows that random forest performs similarly to boosting in predicting the remaining data points. "
   ]
  },
  {
   "cell_type": "markdown",
   "id": "418c2433-81e2-4608-be20-fa0e04828730",
   "metadata": {},
   "source": [
    "### Exercise 7"
   ]
  },
  {
   "cell_type": "code",
   "execution_count": 172,
   "id": "c5a88673-70ac-44f6-ae69-2d0264114698",
   "metadata": {},
   "outputs": [],
   "source": [
    "def make_indicators(df, vec, name):\n",
    "    unq = vec.sort_values().unique()\n",
    "    dum_df = pd.DataFrame(np.zeros(shape=(len(df), len(unq))))\n",
    "    \n",
    "    for i in range(len(unq)):\n",
    "        # make indicator \n",
    "        # change column name \n",
    "        if i == len(unq)-1:\n",
    "            dum_df.iloc[:,i] = 1\n",
    "            col_name = name + '_leq_' + str(np.round(unq[i],2))\n",
    "        else:\n",
    "            idx = vec.index[vec == unq[i]]\n",
    "            dum_df.iloc[idx, i] = 1\n",
    "            mid = (unq[i] + unq[i+1])/2\n",
    "            col_name = name + '_leq_' + str(np.round(mid,2))\n",
    "        \n",
    "        \n",
    "        dum_df.rename(columns={dum_df.columns[i]: col_name}, inplace=True)\n",
    "            \n",
    "        \n",
    "    return dum_df"
   ]
  },
  {
   "cell_type": "code",
   "execution_count": 173,
   "id": "93848b70-4d6f-43e4-ae61-6e3fe7a96475",
   "metadata": {},
   "outputs": [],
   "source": [
    "# read in data\n",
    "peng_df = pd.read_csv('penguins_trunc.csv')\n",
    "\n",
    "# get dummy data\n",
    "cl_df = make_indicators(peng_df, peng_df.CulmenLength, 'CulmenLength')\n",
    "cd_df = make_indicators(peng_df, peng_df.CulmenDepth, 'CulmenDepth')\n",
    "fl_df = make_indicators(peng_df, peng_df.FlipperLength, 'FlipperLength')\n",
    "\n",
    "peng_dum_df = pd.concat([peng_df.Species, cl_df, cd_df, fl_df], axis = 1)"
   ]
  },
  {
   "cell_type": "code",
   "execution_count": 175,
   "id": "11096423-b953-4f54-ad32-09cd02f18510",
   "metadata": {},
   "outputs": [],
   "source": [
    "# split 80/20 train/test data\n",
    "X_trainp, X_testp, y_trainp, y_testp = train_test_split(\n",
    "    peng_dum_df.drop(columns='Species'), \n",
    "    peng_dum_df['Species'], \n",
    "    test_size=0.2, \n",
    "    random_state=512)"
   ]
  },
  {
   "cell_type": "code",
   "execution_count": 176,
   "id": "3de318c3-adc4-4ea4-b117-830398568906",
   "metadata": {},
   "outputs": [],
   "source": [
    "# fit lr model \n",
    "lr = LogisticRegression(penalty='l1', solver='liblinear').fit(\n",
    "    X_trainp, y_trainp)\n",
    "coefs = lr.coef_[0]\n",
    "inter = lr.intercept_"
   ]
  },
  {
   "cell_type": "code",
   "execution_count": 177,
   "id": "a582353f-f770-4dce-bc06-4a83a5b91d41",
   "metadata": {},
   "outputs": [
    {
     "data": {
      "image/png": "[encoded data removed]",
      "text/plain": [
       "<Figure size 432x288 with 1 Axes>"
      ]
     },
     "metadata": {
      "needs_background": "light"
     },
     "output_type": "display_data"
    }
   ],
   "source": [
    "# shape function for CulmenLength\n",
    "cl_vals = peng_dum_df.iloc[:, 1:len(peng_df.CulmenLength.unique()) + 1].sum(\n",
    "    axis=0)\n",
    "cl_coefs = coefs[1:len(peng_df.CulmenLength.unique()) + 1]\n",
    "shape_cl = np.multiply(cl_vals,cl_coefs) \n",
    "\n",
    "plt.step(peng_df.CulmenLength.sort_values().unique(), shape_cl)\n",
    "plt.title('Shape Function of Culmen Length')\n",
    "plt.xlabel('Culmen Length') \n",
    "plt.ylabel('Score') \n",
    "plt.show()"
   ]
  },
  {
   "cell_type": "code",
   "execution_count": 178,
   "id": "f23d2c1f-3970-4b13-a0fb-ea1d9635f273",
   "metadata": {},
   "outputs": [
    {
     "data": {
      "image/png": "[encoded data removed]",
      "text/plain": [
       "<Figure size 432x288 with 1 Axes>"
      ]
     },
     "metadata": {
      "needs_background": "light"
     },
     "output_type": "display_data"
    }
   ],
   "source": [
    "cd_vals = peng_dum_df.iloc[:, 164:len(peng_df.CulmenDepth.unique()) + 164].sum(\n",
    "    axis=0)\n",
    "cd_coefs = coefs[164:len(peng_df.CulmenDepth.unique()) + 164]\n",
    "shape_cd = np.multiply(cd_vals,cd_coefs) \n",
    "\n",
    "plt.step(peng_df.CulmenDepth.sort_values().unique(), shape_cd)\n",
    "plt.title('Shape Function of Culmen Depth')\n",
    "plt.xlabel('Culmen Depth') \n",
    "plt.ylabel('Score') \n",
    "plt.show()"
   ]
  },
  {
   "cell_type": "code",
   "execution_count": 179,
   "id": "3bd1b600-378a-4210-bcd4-2f0cedb4009b",
   "metadata": {},
   "outputs": [
    {
     "data": {
      "image/png": "[encoded data removed]",
      "text/plain": [
       "<Figure size 432x288 with 1 Axes>"
      ]
     },
     "metadata": {
      "needs_background": "light"
     },
     "output_type": "display_data"
    }
   ],
   "source": [
    "fl_vals = peng_dum_df.iloc[:, (len(peng_df.CulmenLength.unique()) + \n",
    "                               len(peng_df.CulmenDepth.unique())+1):].sum(\n",
    "    axis=0)\n",
    "fl_coefs = coefs[(len(peng_df.CulmenLength.unique()) + \n",
    "                  len(peng_df.CulmenDepth.unique())):]\n",
    "shape_fl = np.multiply(fl_vals,fl_coefs)\n",
    "\n",
    "plt.step(peng_df.FlipperLength.sort_values().unique(), shape_fl)\n",
    "plt.title('Shape Function of Flipper Length')\n",
    "plt.xlabel('Flipper Length') \n",
    "plt.ylabel('Score') \n",
    "plt.show()"
   ]
  },
  {
   "cell_type": "code",
   "execution_count": 180,
   "id": "77592dba-15b1-4989-b6d6-dd37eaadb50b",
   "metadata": {},
   "outputs": [
    {
     "data": {
      "text/plain": [
       "0.8791208791208791"
      ]
     },
     "execution_count": 180,
     "metadata": {},
     "output_type": "execute_result"
    }
   ],
   "source": [
    "# training accuracy \n",
    "lr.score(X_trainp, y_trainp)"
   ]
  },
  {
   "cell_type": "code",
   "execution_count": 181,
   "id": "9b9249e3-f915-40e8-a26b-816fc1bf7490",
   "metadata": {},
   "outputs": [
    {
     "data": {
      "text/plain": [
       "0.7246376811594203"
      ]
     },
     "execution_count": 181,
     "metadata": {},
     "output_type": "execute_result"
    }
   ],
   "source": [
    "# testing accuracy \n",
    "lr.score(X_testp, y_testp)"
   ]
  }
 ],
 "metadata": {
  "kernelspec": {
   "display_name": "Python 3 (ipykernel)",
   "language": "python",
   "name": "python3"
  },
  "language_info": {
   "codemirror_mode": {
    "name": "ipython",
    "version": 3
   },
   "file_extension": ".py",
   "mimetype": "text/x-python",
   "name": "python",
   "nbconvert_exporter": "python",
   "pygments_lexer": "ipython3",
   "version": "3.9.7"
  }
 },
 "nbformat": 4,
 "nbformat_minor": 5
}
